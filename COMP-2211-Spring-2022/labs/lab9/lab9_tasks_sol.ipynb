{
  "nbformat": 4,
  "nbformat_minor": 0,
  "metadata": {
    "colab": {
      "name": "lab9_task_answer.ipynb",
      "provenance": []
    },
    "kernelspec": {
      "name": "python3",
      "display_name": "Python 3"
    },
    "language_info": {
      "name": "python"
    }
  },
  "cells": [
    {
      "cell_type": "markdown",
      "source": [
        "# **COMP 2211 Exploring Artificial Intelligence** #\n",
        "## Lab 9 Minimax and Alpha-Beta Pruning ##\n",
        "\n",
        "<img src=\"https://1millionmonkeystyping.files.wordpress.com/2013/11/tic-tac-toe-2.jpg\" width=\"450\" height=\"300\" />"
      ],
      "metadata": {
        "id": "Ta-7JWTbrXau"
      }
    },
    {
      "cell_type": "markdown",
      "source": [
        "## **Tic-Tac-Toe Variants**\n",
        "The classic tic-tac-toe can be extended to more complex versions. In this lab, we will implement a generalized tic-tac-toe that can have board size $S$ and connect $N$. Board size is $S$ means the board is an $S \\times S$ square; Connect is $N$ means the players need to have $N$ connected moves to win. In classic tic-tac-toe, $S=3$ and $N=3$. Due to the heavy computation of the large board size, our maximum $S$ will be 5. Concretely, in addition to the classic one, you need to implement the following variants:\n",
        "* $S=4$, $N=3$ \n",
        "* $S=5$, $N=3$ \n",
        "* $S=4$, $N=4$ \n",
        "* $S=5$, $N=5$ "
      ],
      "metadata": {
        "id": "_9W6CJYOT48q"
      }
    },
    {
      "cell_type": "markdown",
      "source": [
        "## **Lab Tasks**\n",
        "1. Implement Minimax for generalized tic-tac-toe.\n",
        "2. Implement Minimax with alpha-beta pruning for generalized tic-tac-toe.\n",
        "3. Implement Minimax with alpha-beta pruning and depth for generalized tic-tac-toe.\n",
        "\n"
      ],
      "metadata": {
        "id": "fssrQxm1N_Sj"
      }
    },
    {
      "cell_type": "markdown",
      "source": [
        "## **ZINC Submission**\n",
        "-  Copy the implemented ``check_game`` function to the given ``lab10_tasks.py`` file.\n",
        "-  Copy the ``minimax`` function to the given ``lab10_tasks.py`` file.\n",
        "-  Copy the ``minimax_abp`` function to the given ``lab10_tasks.py`` file.\n",
        "-  Copy the ``minimax_abpd`` function to the given ``lab10_tasks.py`` file.\n",
        "\n",
        "Zip ``lab10_tasks.py`` to a file named ``lab10_tasks.zip`` and submit the ``.zip`` file to ZINC."
      ],
      "metadata": {
        "id": "3jOyMtVwswdu"
      }
    },
    {
      "cell_type": "markdown",
      "source": [
        "## **ZINC Evaluation**\n",
        "The function ``ai_turn`` will be called with the following arguments as input: \n",
        "* ``board_size``: the size of the board $S$ for the current game\n",
        "* ``connect``: the connect $N$ of the current game\n",
        "* ``board``: current state of the game\n",
        "* ``strategy``: its value will be one of the three strings: *minimax*, *minimax_abp*, and *minimax_abpd*.\n",
        "\n",
        "The function ``ai_turn`` should return the position of the next optimal move. We will test a number of cases."
      ],
      "metadata": {
        "id": "8frJSEBsxWtR"
      }
    },
    {
      "cell_type": "markdown",
      "source": [
        "## **Suggestions on the Implementation**\n",
        "The interactive UI has been given for easy trial and testing. Thus, you may first implement all the codes, and use the interactive program to check the correctness using $S=3, N=3$ and $S=4, N=3$. For other variants, they will be quite slow for the first few steps (due to large search space), so they are not suitable for using the UI. However, as long as your code works well for $S=4, N=3$, it shall also work for others. "
      ],
      "metadata": {
        "id": "96ufxFzAwor2"
      }
    },
    {
      "cell_type": "code",
      "source": [
        "# draw current state of the game\n",
        "def drawboard(board_size, board):\n",
        "    print('Current state: \\n\\n')\n",
        "    for i in range(board_size**2):\n",
        "        if board[i] == 0:\n",
        "            print('- ', end=' ') # empty cell\n",
        "        if board[i] == 1:\n",
        "            print('X ', end=' ') # mark of AI\n",
        "        if board[i] == -1:\n",
        "            print('O ', end=' ') # mark of human\n",
        "        if (i+1) % board_size == 0:\n",
        "            print('\\n') # move to next line after three elements\n",
        "    print('\\n')"
      ],
      "metadata": {
        "id": "r7kVCCBdvO9e"
      },
      "execution_count": null,
      "outputs": []
    },
    {
      "cell_type": "code",
      "source": [
        "# according to board_size and connect, return the specific winning pattern\n",
        "# if not defined, return None\n",
        "def get_win_pattern(board_size, connect):\n",
        "    winning_pos = None\n",
        "    # board_size=3, connect=3\n",
        "    if board_size == 3 and connect == 3:\n",
        "        winning_pos = [[0,1,2], [3,4,5], [6,7,8], [0,3,6], [1,4,7], [2,5,8], [0,4,8], [2,4,6]]\n",
        "    # board_size=4, connect=4\n",
        "    if board_size == 4 and connect == 4:\n",
        "        winning_pos = [[0,1,2,3], [4,5,6,7], [8,9,10,11], [12,13,14,15], \n",
        "                       [0,4,8,12], [1,5,9,13], [2,6,10,14], [3,7,11,15],\n",
        "                       [0,5,10,15], [3,6,9,12]]\n",
        "    # board_size=5, connect=5\n",
        "    if board_size == 5 and connect == 5:\n",
        "        winning_pos = [[0,1,2,3,4], [5,6,7,8,9], [10,11,12,13,14], [15,16,17,18,19], [20,21,22,23,24],\n",
        "                       [0,5,10,15,20], [1,6,11,16,21], [2,7,12,17,22], [3,8,13,18,23], [4,9,14,19,24],\n",
        "                       [0,6,12,18,24], [4,8,12,16,20]]\n",
        "    # board_size=4, connect=3\n",
        "    if board_size == 4 and connect == 3:\n",
        "        winning_pos = [[0,1,2], [1,2,3], [4,5,6], [5,6,7], [8,9,10], [9,10,11], [12,13,14], [13,14,15], \n",
        "                       [0,4,8], [4,8,12], [1,5,9], [5,9,13], [2,6,10], [6,10,14], [3,7,11], [7,11,15],\n",
        "                       [0,5,10], [5,10,15], [1,6,11], [4,9,14], [3,6,9], [6,9,12], [2,5,8], [7,10,13]]\n",
        "\n",
        "    # board_size=5, connect=3\n",
        "    if board_size == 5 and connect == 3:\n",
        "        winning_pos = [[0,1,2], [1,2,3], [2,3,4], [5,6,7], [6,7,8], [7,8,9], \n",
        "                       [10,11,12], [11,12,13], [12,13,14], [15,16,17], [16,17,18], [17,18,19], \n",
        "                       [20,21,22], [21,22,23], [22,23,24], \n",
        "                       [0,5,10], [5,10,15], [10,15,20], [1,6,11], [6,11,16], [11,16,21],\n",
        "                       [2,7,12], [7,12,17], [12,17,22], [3,8,13], [8,13,18], [13,18,23],\n",
        "                       [4,9,14], [9,14,19], [14,19,24],\n",
        "                       [0,6,12], [6,12,18], [12,18,24], [4,8,12], [8,12,16], [12,16,20],\n",
        "                       [1,7,13], [7,13,19], [5,11,17], [11,17,23], \n",
        "                       [3,7,11], [7,11,15], [9,13,17], [13,17,21],\n",
        "                       [2,8,14], [10,16,22], [2,6,10], [14,18,22]]\n",
        "    return winning_pos"
      ],
      "metadata": {
        "id": "k3aNHPAjwWt_"
      },
      "execution_count": null,
      "outputs": []
    },
    {
      "cell_type": "code",
      "source": [
        "# check if there is a player wins. If human wins, return -1.\n",
        "# if AI wins, retun 1. If draw, return 0. If game not finished, return 2.\n",
        "def check_game(board_size, connect, board):\n",
        "    # get the pattern for winning\n",
        "    winning_pos = get_win_pattern(board_size, connect)\n",
        "    if winning_pos is None:\n",
        "        print('winning pattern not defined!')\n",
        "        exit(0)\n",
        "\n",
        "    # check all possible winning pattern\n",
        "    num_pattern = len(winning_pos)\n",
        "    for i in range(num_pattern):\n",
        "        #############################################################################\n",
        "        # check each winning pattern, if the same player gets N moves connected, return its mark value (1 or -1)\n",
        "        # otherwise, do nothing\n",
        "        # START OF YOUR CODE\n",
        "        if board[winning_pos[i][0]] != 0: # the cell is not empty\n",
        "            num_connect = 1 # now there is at least 1 connected\n",
        "            for j in range(1, connect): # check the remaining cells\n",
        "                if board[winning_pos[i][0]] == board[winning_pos[i][j]]:\n",
        "                    num_connect += 1 # if other cell is the same as the first one, the number of connected increases by 1\n",
        "            if num_connect == connect:\n",
        "                # one's winning, return its mark\n",
        "                return board[winning_pos[i][0]]\n",
        "        # END OF YOUR CODE\n",
        "        #############################################################################\n",
        "\n",
        "    # game not finished if there is at least one empty cell\n",
        "    if any(element == 0 for element in board):\n",
        "        return 2\n",
        "    # it's a draw\n",
        "    return 0"
      ],
      "metadata": {
        "id": "3CwrjVAQvekc"
      },
      "execution_count": null,
      "outputs": []
    },
    {
      "cell_type": "code",
      "source": [
        "# obtain user's input and update the board\n",
        "def human_turn(board_size, board):\n",
        "    pos = input(\"Enter O's position [1 to {}]: \".format(board_size**2))\n",
        "    pos = int(pos)\n",
        "    # if input is illegal (either out of range or already taken), ask user to input again\n",
        "    while(pos<1 or pos >board_size**2 or board[pos-1]!=0):\n",
        "        print('Illegal move! Try again...')\n",
        "        pos = input(\"Enter O's position [1 to {}]: \".format(board_size**2))\n",
        "        pos = int(pos)   \n",
        "\n",
        "    # the move is legal, then put -1 for human player\n",
        "    board[pos-1] = -1"
      ],
      "metadata": {
        "id": "-1dcjF9mzf0c"
      },
      "execution_count": null,
      "outputs": []
    },
    {
      "cell_type": "code",
      "source": [
        "# perform minimax search\n",
        "def minimax(board_size, connect, board, player):\n",
        "    global count # refer to the global variable count in main\n",
        "    count += 1 # make 1 call of minimax already\n",
        "    result = check_game(board_size, connect, board) # check if any player wins\n",
        "\n",
        "    #############################################################################\n",
        "    # if terminal state is achieved, return the terminal result\n",
        "    # otherwise, call minimax recursively to find values of all possible moves\n",
        "    # then return the max/min value according to the player\n",
        "    # shall be easy, just adapt the one from the lecture \n",
        "    # make it compatible to different board_size and connect\n",
        "    # START OF YOUR CODE\n",
        "    if result != 2: # if the result is not 2, game finished\n",
        "        return result\n",
        "    scores = []\n",
        "    for i in range(board_size**2): # check all board locations\n",
        "        if board[i] == 0: # if the cell is empty\n",
        "            board[i] = player # try to put the player's mark at cell i+1\n",
        "            # perform minimax for the next player, and append its score to the list\n",
        "            scores.append(minimax(board_size, connect, board, player*-1))\n",
        "            board[i] = 0 # undo the trial\n",
        "    # return the max score if AI, otherwise return min score for human\n",
        "    return max(scores) if player == 1 else min(scores)\n",
        "    # END OF YOUR CODE\n",
        "    #############################################################################"
      ],
      "metadata": {
        "id": "N4N8vNaU0Alx"
      },
      "execution_count": null,
      "outputs": []
    },
    {
      "cell_type": "code",
      "source": [
        "# perform minimax search with alpha-beta pruning\n",
        "def minimax_abp(board_size, connect, board, player, alpha=-float('inf'), beta=float('inf')):\n",
        "    global count # refer to the global variable count in main\n",
        "    count += 1 # make 1 call of minimax already\n",
        "    result = check_game(board_size, connect, board) # check if any player wins\n",
        "    #############################################################################\n",
        "    # if terminal state is achieved, return the terminal result\n",
        "    # otherwise, call minimax recursively, and use alpha-beta pruning to save computation\n",
        "    # return the min/max value\n",
        "    # START OF YOUR CODE\n",
        "    if result != 2: # if the result is not 2, game finished\n",
        "        return result\n",
        "    if player == 1:\n",
        "        value = -float('inf')\n",
        "        for i in range(board_size**2): # check all board locations\n",
        "            if board[i] == 0: # if the cell is empty\n",
        "                board[i] = player # try to put the player's mark at cell i+1\n",
        "                value = max(value, minimax_abp(board_size, connect, board, player*-1, alpha, beta))\n",
        "                alpha = max(alpha, value)\n",
        "                board[i] = 0 # undo the trial\n",
        "                if alpha >= beta:\n",
        "                    break\n",
        "    else:\n",
        "        value = float('inf')\n",
        "        for i in range(board_size**2):\n",
        "            if board[i] == 0:\n",
        "                board[i] = player\n",
        "                value = min(value, minimax_abp(board_size, connect, board, player*-1, alpha, beta))\n",
        "                beta = min(beta, value)\n",
        "                board[i] = 0 # undo the trial\n",
        "                if alpha >= beta:\n",
        "                    break\n",
        "    return value\n",
        "    # END OF YOUR CODE\n",
        "    #############################################################################"
      ],
      "metadata": {
        "id": "Hcg0rnm29lEZ"
      },
      "execution_count": null,
      "outputs": []
    },
    {
      "cell_type": "code",
      "source": [
        "# perform minimax search with alpha-beta pruning, the depth of tree also affects values\n",
        "def minimax_abpd(board_size, connect, board, player, alpha=-float('inf'), beta=float('inf'), depth=0):\n",
        "    global count # refer to the global variable count in main\n",
        "    count += 1 # make 1 call of minimax already\n",
        "    result = check_game(board_size, connect, board) # check if any player wins\n",
        "    #############################################################################\n",
        "    # if terminal state is achieved, return the terminal result\n",
        "    # if AI is winning, the returned value should be larger for a smaller depth (depth=0 for root, depth=1 for first-level, etc.)\n",
        "    # if AI is losing, the returned value should be larger for a larger depth\n",
        "    # START OF YOUR CODE\n",
        "    if result != 2: # if the result is not 2, game finished\n",
        "        return result-result*depth*0.01\n",
        "\n",
        "    if player == 1:\n",
        "        value = -float('inf')\n",
        "        for i in range(board_size**2): # check all board locations\n",
        "            if board[i] == 0: # if the cell is empty\n",
        "                board[i] = player # try to put the player's mark at cell i+1\n",
        "                value = max(value, minimax_abpd(board_size, connect, board, player*-1, alpha, beta, depth+1))\n",
        "                alpha = max(alpha, value)\n",
        "                board[i] = 0 # undo the trial\n",
        "                if alpha >= beta:\n",
        "                    break\n",
        "    else:\n",
        "        value = float('inf')\n",
        "        for i in range(board_size**2):\n",
        "            if board[i] == 0:\n",
        "                board[i] = player\n",
        "                value = min(value, minimax_abpd(board_size, connect, board, player*-1, alpha, beta, depth+1))\n",
        "                beta = min(beta, value)\n",
        "                board[i] = 0 # undo the trial\n",
        "                if alpha >= beta:\n",
        "                    break\n",
        "    return value\n",
        "    # END OF YOUR CODE\n",
        "    #############################################################################"
      ],
      "metadata": {
        "id": "Y5mEFiti91xx"
      },
      "execution_count": null,
      "outputs": []
    },
    {
      "cell_type": "code",
      "source": [
        "# it's AI's turn to make a move\n",
        "def ai_turn(board_size, connect, board, strategy):\n",
        "    pos = -1 # initialize pos to illegal value, -1 here\n",
        "    max_value = -2 # initialize max value so far to -2, which is a value smaller than possible min value\n",
        "\n",
        "    for i in range(board_size**2):\n",
        "        if board[i] == 0: # if the cell is empty\n",
        "            board[i] = 1 # try to put X at cell i+1\n",
        "            if strategy == 'minimax': # use minimax as strategy\n",
        "                score = minimax(board_size, connect, board, -1) # calculate minimax score for human player \n",
        "            elif strategy == 'minimax_abp': # use minimax with alpha-beta pruning as strategy\n",
        "                score = minimax_abp(board_size, connect, board, -1) # calculate minimax score for human player \n",
        "            elif strategy == 'minimax_abpd': # use minimax with alpha-beta pruning as strategy, the depth of tree also affects values\n",
        "                score = minimax_abpd(board_size, connect, board, -1) # calculate minimax score for human player\n",
        "            else:\n",
        "                print('No such strategy!')\n",
        "                exit(0)\n",
        "            board[i] = 0 # undo the trail\n",
        "            if score > max_value: # if we can get a better score in next level, \n",
        "                max_value = score # update the score and pos\n",
        "                pos = i\n",
        "    return pos # return the best move"
      ],
      "metadata": {
        "id": "jnGFJJfP0gJY"
      },
      "execution_count": null,
      "outputs": []
    },
    {
      "cell_type": "code",
      "source": [
        "# this cell is the code for interactive UI\n",
        "\n",
        "#board_size = 3 # size of the board\n",
        "#connect = 3 # how many connect to win\n",
        "board_size = 4 # size of the board\n",
        "connect = 3 # how many connect to win\n",
        "\n",
        "# we will implement three strategies, namely \n",
        "# 1. minimax  2. minimax_abp (with alpha-beta pruning)  3. minimax_abpd (further take depth into account)\n",
        "#strategy = 'minimax'\n",
        "#strategy = 'minimax_abp'\n",
        "strategy = 'minimax_abpd'\n",
        "\n",
        "# the board is represented in a single dimensional list\n",
        "# initialize the board to all zeros (i.e., empty cells)\n",
        "board = [0] * board_size**2\n",
        "\n",
        "print('AI: X vs. You: O')\n",
        "first = input('Play first (Y/N) :')\n",
        "if first == 'Y' or first == 'y':\n",
        "    player = -1 # human plays first\n",
        "else:\n",
        "    player = 1 # AI plays first\n",
        "\n",
        "# loops with possible largest iterations\n",
        "for i in range(board_size**2+1):\n",
        "    # check if reaches terminal state\n",
        "    result = check_game(board_size, connect, board)\n",
        "    if result != 2: # reaches terminal state\n",
        "        if result == 0:\n",
        "            drawboard(board_size, board)\n",
        "            print('Draw!!!')\n",
        "        if result == 1:\n",
        "            drawboard(board_size, board)\n",
        "            print('AI(X) wins!!!')\n",
        "        if result == -1:\n",
        "            drawboard(board_size, board)\n",
        "            print('Human(O) wins!!!')\n",
        "        break # stop the loop to end the game\n",
        "\n",
        "    if player == 1: # AI's turn\n",
        "        count = 0\n",
        "        pos = ai_turn(board_size, connect, board, strategy)\n",
        "        board[pos] = 1\n",
        "        print('Count:', count)\n",
        "        player *= -1 # switch the turn after making a move\n",
        "    else: # human's turn\n",
        "        drawboard(board_size, board)\n",
        "        human_turn(board_size, board)\n",
        "        player *= -1 # switch the turn after making a move"
      ],
      "metadata": {
        "id": "4jL2o1eG1Bz9"
      },
      "execution_count": null,
      "outputs": []
    },
    {
      "cell_type": "code",
      "source": [
        "# here are some cases for separately testing the correctness, especially for the larger board size\n",
        "# board = [ 0,  0,  0,  0,  0,\n",
        "#           0,  0,  0,  0,  0,\n",
        "#           0,  0,  0,  0,  0,\n",
        "#           0,  0,  0,  0,  0,\n",
        "#           0,  0,  0,  0,  0]\n",
        "# # board_size=5, connect=3          \n",
        "# board = [-1,  0, -1,  0,  0,\n",
        "#          -1,  1,  0,  0,  0,\n",
        "#           1, -1,  1,  0,  0,\n",
        "#           0,  0,  0,  0,  0,\n",
        "#           0,  1,  0,  0, -1]\n",
        "# # board_size=5, connect=5          \n",
        "# board = [-1,  0, -1,  0,  1,\n",
        "#          -1,  1,  0,  1,  0,\n",
        "#          -1, -1,  1,  0,  0,\n",
        "#          -1,  1,  0,  0,  0,\n",
        "#           0,  1,  0,  0, -1]\n",
        "# # board_size=4, connect=4          \n",
        "# board = [-1, 0, 0, 0,\n",
        "#          -1, 1, 0, 0,\n",
        "#          -1, 0, 1, 0,\n",
        "#           0, 0, 0, 0]\n",
        "# # board_size=4, connect=3          \n",
        "# board = [-1, 0, 0, 0,\n",
        "#          -1, 1, 0, 0,\n",
        "#           0, 0, 1, 0,\n",
        "#           0, 0, 0, 0]\n",
        "# count = 0\n",
        "# pos = ai_turn(board_size, connect, board, 'minimax_abp')\n",
        "# print(pos)"
      ],
      "metadata": {
        "id": "iaAP2pbHQ-Rt"
      },
      "execution_count": null,
      "outputs": []
    }
  ]
}