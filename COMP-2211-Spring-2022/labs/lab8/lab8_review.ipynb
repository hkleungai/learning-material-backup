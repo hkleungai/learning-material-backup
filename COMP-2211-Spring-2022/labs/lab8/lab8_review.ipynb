{
  "nbformat": 4,
  "nbformat_minor": 0,
  "metadata": {
    "colab": {
      "name": "lab8_review.ipynb",
      "provenance": [],
      "collapsed_sections": []
    },
    "kernelspec": {
      "name": "python3",
      "display_name": "Python 3"
    },
    "language_info": {
      "name": "python"
    },
    "accelerator": "GPU"
  },
  "cells": [
    {
      "cell_type": "markdown",
      "source": [
        "# **COMP 2211 Exploring Artificial Intelligence**\n",
        "## Convolutional Neural Network\n",
        "\n",
        "![cnn.png](https://miro.medium.com/max/1400/1*irWQaiIjHS27ZAPaVDoj6w.png)"
      ],
      "metadata": {
        "id": "TeTNvnkFdDoF"
      }
    },
    {
      "cell_type": "markdown",
      "source": [
        "## **Review** ##\n",
        "Before we start, let's have a quick recap of the lecture.\n",
        "\n",
        "**Check your Colab open the GPU accelerator:**\n",
        "\n",
        "***1. 'Edit' -> 'Notebook settings':***\n",
        "\n",
        "![gpu1.png](https://drive.google.com/uc?export=view&id=19RK_MicAY8J4BIY5g0i7bw6sr3WEFaDz)\n",
        "\n",
        "\n",
        "***2. Set 'Hardware accelerator'***:\n",
        "\n",
        "![gpu2.png](https://drive.google.com/uc?export=view&id=1kTK1oZ-UWdIr0hxbXVT8GQDHMGHXVbLI)\n"
      ],
      "metadata": {
        "id": "sLeMxlH8dMEx"
      }
    },
    {
      "cell_type": "code",
      "source": [
        "# check your Colab device\n",
        "import tensorflow as tf # Import tensorflow library\n",
        "import pprint           # Import pprint library for better print format\n",
        "\n",
        "device_name = tf.config.list_physical_devices() # A list of divece name, which could contain CPU and GPU\n",
        "pprint.pprint(device_name)                      # Print the device_name"
      ],
      "metadata": {
        "colab": {
          "base_uri": "https://localhost:8080/"
        },
        "id": "_E3gvcLOg_y0",
        "outputId": "8ef08094-1b88-447c-a36f-01de8964ccff"
      },
      "execution_count": null,
      "outputs": [
        {
          "output_type": "stream",
          "name": "stdout",
          "text": [
            "[PhysicalDevice(name='/physical_device:CPU:0', device_type='CPU'),\n",
            " PhysicalDevice(name='/physical_device:GPU:0', device_type='GPU')]\n"
          ]
        }
      ]
    },
    {
      "cell_type": "markdown",
      "source": [
        "## Procedure of CNN task\n",
        "\n",
        "1. Import required libraries and define global variables\n",
        "2. Data preprocessing\n",
        "3. Build the model\n",
        "4. Compile the model\n",
        "5. Train the model\n",
        "6. Evalutate the model\n",
        "7. Save the model"
      ],
      "metadata": {
        "id": "cy76F2v_eMWc"
      }
    },
    {
      "cell_type": "markdown",
      "source": [
        "## 1. Import required libraries and define global variables"
      ],
      "metadata": {
        "id": "LFeglTrnfx5Z"
      }
    },
    {
      "cell_type": "code",
      "source": [
        "import numpy as np                                                     # Import numpy library\n",
        "import matplotlib.pyplot as plt                                        # Import mathplot library\n",
        "import datetime                                                        # Import datetime library\n",
        "from pprint import pprint                                              # Import pprint library\n",
        "from keras.datasets import mnist                                       # Import MNIST dataset\n",
        "from keras.models import Sequential                                    # Import Sequential class\n",
        "from keras.layers import Conv2D, MaxPooling2D, Dense, Dropout, Flatten # Import Conv2D, MaxPooling2D, Dense, Dropout, Flatten class\n",
        "from keras.utils import np_utils                                       # Import np_utils utilities\n",
        "\n",
        "batch_size = 128             # Number of samples per gradient update\n",
        "num_classes = 10             # Number of classes in the dataset\n",
        "epochs = 10                  # Number of epochs to train the model\n",
        "img_rows, img_cols = 28, 28  # Image dimensions"
      ],
      "metadata": {
        "id": "lS0L6MwAf_fJ"
      },
      "execution_count": null,
      "outputs": []
    },
    {
      "cell_type": "markdown",
      "source": [
        "## 2. Data preprocessing\n",
        "\n",
        "Keras contains MNIST dataset which is the images of handwritten digis from 0 to 9."
      ],
      "metadata": {
        "id": "DO1w6wDFq4Um"
      }
    },
    {
      "cell_type": "code",
      "source": [
        "# Load MNIST dataset\n",
        "# x_train is a NumPy array of grayscale image data with shape (60000, 28, 28)\n",
        "# y_train is a NumPy array of digit labels (in range 0-9) with shape (60000,)\n",
        "# x_test is a NumPy array of grayscale image data with shape (10000, 28, 28)\n",
        "# y_test is a NumPy array of digit labels (in range 0-9) with shape (10000,)\n",
        "(x_train, y_train), (x_test, y_test) = mnist.load_data() # Load MNIST dataset from Keras\n",
        "print('Shape of train set: {}, Shape of test set: {}'.format(x_train.shape, x_test.shape))"
      ],
      "metadata": {
        "colab": {
          "base_uri": "https://localhost:8080/"
        },
        "id": "jPkMaSZ4rchD",
        "outputId": "66cc91a0-456b-4315-c3d1-5aa34b3a24f7"
      },
      "execution_count": null,
      "outputs": [
        {
          "output_type": "stream",
          "name": "stdout",
          "text": [
            "Downloading data from https://storage.googleapis.com/tensorflow/tf-keras-datasets/mnist.npz\n",
            "11493376/11490434 [==============================] - 0s 0us/step\n",
            "11501568/11490434 [==============================] - 0s 0us/step\n",
            "Shape of train set: (60000, 28, 28), Shape of test set: (10000, 28, 28)\n"
          ]
        }
      ]
    },
    {
      "cell_type": "code",
      "source": [
        "# Show some samples from MNIST dataset\n",
        "figure, ax = plt.subplots(1, 3, figsize= (9,3)) # Create a figure and a set of subplots (with 1 row 3 columns), figure size 9 x 3\n",
        "for i in range(3):\n",
        "  ax[i].imshow(x_train[i], cmap='gray')         # Show the first three images in train set\n",
        "  ax[i].axis('off')                             # Turn the axis off\n",
        "figure.show()                                   # Display the figure window"
      ],
      "metadata": {
        "colab": {
          "base_uri": "https://localhost:8080/",
          "height": 179
        },
        "id": "Rm1YtCl0u86B",
        "outputId": "d72c5746-8f3e-4a37-ebbe-d149efd53b5f"
      },
      "execution_count": null,
      "outputs": [
        {
          "output_type": "display_data",
          "data": {
            "text/plain": [
              "<Figure size 648x216 with 3 Axes>"
            ],
            "image/png": "[encoded data removed]"
          },
          "metadata": {
            "needs_background": "light"
          }
        }
      ]
    },
    {
      "cell_type": "code",
      "source": [
        "# Reshape the data to 4-dimension. The last dimension represent the number of channels.\n",
        "x_train = x_train.reshape(60000, 28, 28, 1)\n",
        "x_test = x_test.reshape(10000, 28, 28, 1)\n",
        "\n",
        "# There are 10 classes and classes are represented as unique integers(0 to 9).\n",
        "# To do so, transforming the integer into a 10 element binary vector.\n",
        "# eg. [2] -> [0, 0, 1, 0, 0, 0, 0, 0, 0, 0]\n",
        "y_train = np_utils.to_categorical(y_train, num_classes)  # Shape from (60000,) -> (60000, 10)\n",
        "y_test = np_utils.to_categorical(y_test, num_classes)  # Shape from (10000,) -> (10000, 10)"
      ],
      "metadata": {
        "id": "zvArPxGSwUHR"
      },
      "execution_count": null,
      "outputs": []
    },
    {
      "cell_type": "markdown",
      "source": [
        "## 3. Build the Model\n",
        "\n",
        "General CNN contains two main parts: **Convolutional Layer** and **Fully Connected(FC) Layer**\n",
        "\n",
        "> General Pipeline: Input -> **Conv Layer** -> Flatten Operation -> **FC Layer** -> Output\n",
        "\n",
        "### Convolutional Layer\n",
        "- Convolution\n",
        "- Pooling\n",
        "- Activation Layer\n",
        "- Dropout (optional)\n",
        "\n",
        "### FC Layer\n",
        "- Dense Layer (Linear Layer)\n",
        "- Activation Layer\n",
        "- Dropout"
      ],
      "metadata": {
        "id": "RP1tNkNfyYZq"
      }
    },
    {
      "cell_type": "code",
      "source": [
        "# Create the Model\n",
        "# Method 1\n",
        "model = Sequential()  # Create a Sequential object\n",
        "# ----- Convolutional Layer -----\n",
        "# Add a convolutional layer with 32 kernels, each of size 3x3\n",
        "# Use ReLU activation function, padding='valid', strides=(1, 1)\n",
        "# Specify the input size to this convolutional layer: (28, 28, 1)\n",
        "# Note: Input size needs to be specified for the first layer only\n",
        "model.add(Conv2D(filters=32, kernel_size=(3, 3), activation='relu', input_shape=(28, 28, 1)))\n",
        "# Add another convolutional layer with 64 kernels, each of size 3x3\n",
        "# Use ReLU activation function, padding='valid', strides=(1, 1)\n",
        "model.add(Conv2D(filters=64, kernel_size=(3, 3), activation='relu'))\n",
        "# Add a max pooling layer of size 2x2\n",
        "model.add(MaxPooling2D(pool_size=(2, 2)))\n",
        "# Add a dropout layer to prevent a model from overfitting\n",
        "model.add(Dropout(0.25))\n",
        "# -------------------------------\n",
        "# Add a flatten layer to convert the pooled data to a single column\n",
        "model.add(Flatten())  # Flatten operation. Shape from (B, H, W, C) -> (B, H*W*C)\n",
        "# ---------- FC Layer -----------\n",
        "# Add a dense layer (fully-connected layer) and use ReLU activation function\n",
        "model.add(Dense(units=128, activation='relu'))\n",
        "# Add a dropout layer to prevent a model from overfitting\n",
        "model.add(Dropout(0.5))\n",
        "# Add a dense layer (fully-connected layer) and use Softmax activation function\n",
        "model.add(Dense(units=10, activation='softmax'))\n",
        "\n",
        "\n",
        "# Method 2\n",
        "model2 = Sequential(\n",
        "    [Conv2D(filters=32, kernel_size=(3, 3), activation='relu', input_shape=(28, 28, 1)),  # Add a convolutional layer with 32 kernels, each of size 3x3\n",
        "    Conv2D(filters=64, kernel_size=(3, 3), activation='relu'),                            # Add another convolutional layer with 64 kernels, each of size 3x3\n",
        "    MaxPooling2D(pool_size=(2, 2)),                                                       # Add a max pooling layer of size 2x2\n",
        "    Dropout(0.25),                                                                        # Add a dropout layer to prevent a model from overfitting\n",
        "    Flatten(),                                                                            # Add a flatten layer to convert the pooled data to a single column\n",
        "    Dense(units=128, activation='relu'),                                                  # Add a dense layer (fully-connected layer) and use ReLU activation function\n",
        "    Dropout(0.5),                                                                         # Add a dropout layer to prevent a model from overfitting\n",
        "    Dense(units=10, activation='softmax')]                                                # Add a dense layer (fully-connected layer) and use Softmax activation function\n",
        ")"
      ],
      "metadata": {
        "id": "54qjsfGi0v8b"
      },
      "execution_count": null,
      "outputs": []
    },
    {
      "cell_type": "code",
      "source": [
        "model.summary()"
      ],
      "metadata": {
        "colab": {
          "base_uri": "https://localhost:8080/"
        },
        "id": "OKxxjXpQBL70",
        "outputId": "3c40b640-1d20-45c1-a9d8-5393a2925338"
      },
      "execution_count": null,
      "outputs": [
        {
          "output_type": "stream",
          "name": "stdout",
          "text": [
            "Model: \"sequential_4\"\n",
            "_________________________________________________________________\n",
            " Layer (type)                Output Shape              Param #   \n",
            "=================================================================\n",
            " conv2d_12 (Conv2D)          (None, 26, 26, 32)        320       \n",
            "                                                                 \n",
            " conv2d_13 (Conv2D)          (None, 24, 24, 64)        18496     \n",
            "                                                                 \n",
            " max_pooling2d_6 (MaxPooling  (None, 12, 12, 64)       0         \n",
            " 2D)                                                             \n",
            "                                                                 \n",
            " dropout_12 (Dropout)        (None, 12, 12, 64)        0         \n",
            "                                                                 \n",
            " flatten_6 (Flatten)         (None, 9216)              0         \n",
            "                                                                 \n",
            " dense_12 (Dense)            (None, 128)               1179776   \n",
            "                                                                 \n",
            " dropout_13 (Dropout)        (None, 128)               0         \n",
            "                                                                 \n",
            " dense_13 (Dense)            (None, 10)                1290      \n",
            "                                                                 \n",
            "=================================================================\n",
            "Total params: 1,199,882\n",
            "Trainable params: 1,199,882\n",
            "Non-trainable params: 0\n",
            "_________________________________________________________________\n"
          ]
        }
      ]
    },
    {
      "cell_type": "markdown",
      "source": [
        "## 4. Compile the Model\n",
        "- Optimizer: 'adam' or 'sgd'.\n",
        "- Loss: 'categorical_crossentropy' for classification task.\n",
        "- Metrics: 'accuracy' for claasification task."
      ],
      "metadata": {
        "id": "LduiPeBJByFN"
      }
    },
    {
      "cell_type": "code",
      "source": [
        "# Compile the model, i.e., configures the model for training\n",
        "# Use crossentropy loss function since there are two or more label classes\n",
        "# Use adam algorithm (a stochastic gradient descent method)\n",
        "# Use accuracy as metric\n",
        "model.compile(optimizer='adam', loss='categorical_crossentropy', metrics=['accuracy'])"
      ],
      "metadata": {
        "id": "W4k5KLm_BwZq"
      },
      "execution_count": null,
      "outputs": []
    },
    {
      "cell_type": "markdown",
      "source": [
        "## 5. Train the Model"
      ],
      "metadata": {
        "id": "pW4fBaP5CPh-"
      }
    },
    {
      "cell_type": "code",
      "source": [
        "# Fit the model, i.e., train the model\n",
        "# Specify training data and labels\n",
        "# Specify batch size, i.e., number of samples per gradient update\n",
        "# Specify validation data, i.e., data on which to evaluate the loss\n",
        "training_history = model.fit(x_train, y_train,\n",
        "                             batch_size=batch_size,\n",
        "                             epochs=epochs,\n",
        "                             validation_data=(x_test, y_test))"
      ],
      "metadata": {
        "colab": {
          "base_uri": "https://localhost:8080/"
        },
        "id": "c8zwGbglCSTU",
        "outputId": "783ac049-316b-4105-d1d6-d4bba7046a39"
      },
      "execution_count": null,
      "outputs": [
        {
          "output_type": "stream",
          "name": "stdout",
          "text": [
            "Epoch 1/10\n",
            "469/469 [==============================] - 16s 9ms/step - loss: 0.7368 - accuracy: 0.8639 - val_loss: 0.0696 - val_accuracy: 0.9796\n",
            "Epoch 2/10\n",
            "469/469 [==============================] - 4s 9ms/step - loss: 0.1519 - accuracy: 0.9565 - val_loss: 0.0475 - val_accuracy: 0.9845\n",
            "Epoch 3/10\n",
            "469/469 [==============================] - 4s 9ms/step - loss: 0.1142 - accuracy: 0.9664 - val_loss: 0.0475 - val_accuracy: 0.9851\n",
            "Epoch 4/10\n",
            "469/469 [==============================] - 4s 9ms/step - loss: 0.0904 - accuracy: 0.9736 - val_loss: 0.0400 - val_accuracy: 0.9882\n",
            "Epoch 5/10\n",
            "469/469 [==============================] - 4s 9ms/step - loss: 0.0815 - accuracy: 0.9759 - val_loss: 0.0398 - val_accuracy: 0.9891\n",
            "Epoch 6/10\n",
            "469/469 [==============================] - 4s 9ms/step - loss: 0.0715 - accuracy: 0.9782 - val_loss: 0.0373 - val_accuracy: 0.9887\n",
            "Epoch 7/10\n",
            "469/469 [==============================] - 4s 9ms/step - loss: 0.0645 - accuracy: 0.9805 - val_loss: 0.0375 - val_accuracy: 0.9899\n",
            "Epoch 8/10\n",
            "469/469 [==============================] - 4s 9ms/step - loss: 0.0576 - accuracy: 0.9826 - val_loss: 0.0423 - val_accuracy: 0.9880\n",
            "Epoch 9/10\n",
            "469/469 [==============================] - 5s 10ms/step - loss: 0.0542 - accuracy: 0.9834 - val_loss: 0.0395 - val_accuracy: 0.9885\n",
            "Epoch 10/10\n",
            "469/469 [==============================] - 4s 9ms/step - loss: 0.0520 - accuracy: 0.9849 - val_loss: 0.0331 - val_accuracy: 0.9914\n"
          ]
        }
      ]
    },
    {
      "cell_type": "code",
      "source": [
        "# Visualize the Loss and Accuracy from training_history\n",
        "figure, ax = plt.subplots(1, 2, figsize= (10,5))      # Create a figure and a set of subplots (with 1 row 3 columns), figure size 9 x 3\n",
        "ax[0].plot(training_history.history['loss'])          # Plot the training loss\n",
        "ax[0].plot(training_history.history['val_loss'])      # Plot the validation loss\n",
        "ax[0].set_title('Loss')                               # Set the title\n",
        "ax[0].set_xlabel('epoch')                             # Set the label of x axis\n",
        "ax[0].set_ylabel('loss')                              # Set the label of y axis\n",
        "ax[0].legend(['train', 'test'])                       # Set the legend\n",
        "\n",
        "ax[1].plot(training_history.history['accuracy'])      # Plot the training accuracy\n",
        "ax[1].plot(training_history.history['val_accuracy'])  # Plot the validation accuracy\n",
        "ax[1].set_title('Accuracy')                           # Set the title\n",
        "ax[1].set_xlabel('epoch')                             # Set the label of x axis\n",
        "ax[1].set_ylabel('accuracy')                          # Set the label of y axis\n",
        "ax[1].legend(['train', 'test'])                       # Set the legend\n",
        "\n",
        "figure.show()                                         # Display the figure window"
      ],
      "metadata": {
        "colab": {
          "base_uri": "https://localhost:8080/",
          "height": 350
        },
        "id": "BK94HRZjC7tj",
        "outputId": "4b23f8f7-9e4a-4d25-ce98-62f177326dcc"
      },
      "execution_count": null,
      "outputs": [
        {
          "output_type": "display_data",
          "data": {
            "text/plain": [
              "<Figure size 720x360 with 2 Axes>"
            ],
            "image/png": "[encoded data removed]"
          },
          "metadata": {
            "needs_background": "light"
          }
        }
      ]
    },
    {
      "cell_type": "markdown",
      "source": [
        "## 6. Evaluate the Model"
      ],
      "metadata": {
        "id": "zCsDJxhvHNeG"
      }
    },
    {
      "cell_type": "code",
      "source": [
        "# Evaluate the model\n",
        "# Specify test data and labels\n",
        "# Set verbose to 0, i.e., slient (no progress bar)\n",
        "val_loss, val_acc = model.evaluate(x_test, y_test, verbose=0)  # verbose=0 means no progress bar\n",
        "print('Validation loss: {}'.format(val_loss))\n",
        "print('Validation accuracy: {}'.format(val_acc))"
      ],
      "metadata": {
        "colab": {
          "base_uri": "https://localhost:8080/"
        },
        "id": "9qJ8iOCtHUGN",
        "outputId": "a15fbad0-3abc-4e66-c6d3-0b7c134feec5"
      },
      "execution_count": null,
      "outputs": [
        {
          "output_type": "stream",
          "name": "stdout",
          "text": [
            "Validation loss: 0.033106960356235504\n",
            "Validation accuracy: 0.9914000034332275\n"
          ]
        }
      ]
    },
    {
      "cell_type": "markdown",
      "source": [
        "## 7. Save the Model"
      ],
      "metadata": {
        "id": "PWEggNOPHzxx"
      }
    },
    {
      "cell_type": "code",
      "source": [
        "# Save the mdoel to an HDFS file\n",
        "model_name = 'my_model.h5'                # define model name\n",
        "model.save(model_name, save_format='h5')  # save the model"
      ],
      "metadata": {
        "id": "CbN0w8AXH4Ci"
      },
      "execution_count": null,
      "outputs": []
    },
    {
      "cell_type": "markdown",
      "source": [
        "## An Interesting Website for CNN Visualization\n",
        "> https://poloclub.github.io/cnn-explainer/\n",
        "\n",
        "![web.gif](https://poloclub.github.io/cnn-explainer/assets/figures/convlayer_overview_demo.gif)"
      ],
      "metadata": {
        "id": "7GrGPyyiIEfZ"
      }
    }
  ]
}