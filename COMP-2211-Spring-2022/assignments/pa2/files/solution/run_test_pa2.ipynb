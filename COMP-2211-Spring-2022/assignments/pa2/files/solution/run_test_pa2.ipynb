{
  "cells": [
    {
      "cell_type": "markdown",
      "metadata": {
        "id": "-lNKTcPO8Jvo"
      },
      "source": [
        "# Guide to manually run pa2 tests\n",
        "\n",
        "Run the first cell below (the `!pip install`) one.\n",
        "It will install a newer version of pytest to the current colab environment.\n",
        "\n",
        "If, after installation, there is a red warning \"You must restart the runtime...\", then you can see a button below the red bold text that reads RESTART RUNTIME. Click on that button."
      ]
    },
    {
      "cell_type": "code",
      "execution_count": 1,
      "metadata": {
        "colab": {
          "base_uri": "https://localhost:8080/"
        },
        "id": "z3lEwjYe4NgF",
        "outputId": "f4621147-4cd9-4694-de36-2ce50fdd4e87"
      },
      "outputs": [
        {
          "name": "stdout",
          "output_type": "stream",
          "text": [
            "Collecting pytest==7.1.2\n",
            "  Downloading pytest-7.1.2-py3-none-any.whl (297 kB)\n",
            "\u001b[?25l\r\u001b[K     |█                               | 10 kB 18.5 MB/s eta 0:00:01\r\u001b[K     |██▏                             | 20 kB 12.5 MB/s eta 0:00:01\r\u001b[K     |███▎                            | 30 kB 9.8 MB/s eta 0:00:01\r\u001b[K     |████▍                           | 40 kB 8.6 MB/s eta 0:00:01\r\u001b[K     |█████▌                          | 51 kB 4.4 MB/s eta 0:00:01\r\u001b[K     |██████▋                         | 61 kB 5.2 MB/s eta 0:00:01\r\u001b[K     |███████▊                        | 71 kB 5.7 MB/s eta 0:00:01\r\u001b[K     |████████▉                       | 81 kB 5.8 MB/s eta 0:00:01\r\u001b[K     |██████████                      | 92 kB 6.5 MB/s eta 0:00:01\r\u001b[K     |███████████                     | 102 kB 5.4 MB/s eta 0:00:01\r\u001b[K     |████████████▏                   | 112 kB 5.4 MB/s eta 0:00:01\r\u001b[K     |█████████████▎                  | 122 kB 5.4 MB/s eta 0:00:01\r\u001b[K     |██████████████▍                 | 133 kB 5.4 MB/s eta 0:00:01\r\u001b[K     |███████████████▌                | 143 kB 5.4 MB/s eta 0:00:01\r\u001b[K     |████████████████▌               | 153 kB 5.4 MB/s eta 0:00:01\r\u001b[K     |█████████████████▋              | 163 kB 5.4 MB/s eta 0:00:01\r\u001b[K     |██████████████████▊             | 174 kB 5.4 MB/s eta 0:00:01\r\u001b[K     |███████████████████▉            | 184 kB 5.4 MB/s eta 0:00:01\r\u001b[K     |█████████████████████           | 194 kB 5.4 MB/s eta 0:00:01\r\u001b[K     |██████████████████████          | 204 kB 5.4 MB/s eta 0:00:01\r\u001b[K     |███████████████████████▏        | 215 kB 5.4 MB/s eta 0:00:01\r\u001b[K     |████████████████████████▎       | 225 kB 5.4 MB/s eta 0:00:01\r\u001b[K     |█████████████████████████▍      | 235 kB 5.4 MB/s eta 0:00:01\r\u001b[K     |██████████████████████████▌     | 245 kB 5.4 MB/s eta 0:00:01\r\u001b[K     |███████████████████████████▋    | 256 kB 5.4 MB/s eta 0:00:01\r\u001b[K     |████████████████████████████▊   | 266 kB 5.4 MB/s eta 0:00:01\r\u001b[K     |█████████████████████████████▉  | 276 kB 5.4 MB/s eta 0:00:01\r\u001b[K     |███████████████████████████████ | 286 kB 5.4 MB/s eta 0:00:01\r\u001b[K     |████████████████████████████████| 296 kB 5.4 MB/s eta 0:00:01\r\u001b[K     |████████████████████████████████| 297 kB 5.4 MB/s \n",
            "\u001b[?25hRequirement already satisfied: packaging in /usr/local/lib/python3.7/dist-packages (from pytest==7.1.2) (21.3)\n",
            "Requirement already satisfied: iniconfig in /usr/local/lib/python3.7/dist-packages (from pytest==7.1.2) (1.1.1)\n",
            "Requirement already satisfied: py>=1.8.2 in /usr/local/lib/python3.7/dist-packages (from pytest==7.1.2) (1.11.0)\n",
            "Requirement already satisfied: tomli>=1.0.0 in /usr/local/lib/python3.7/dist-packages (from pytest==7.1.2) (2.0.1)\n",
            "Requirement already satisfied: importlib-metadata>=0.12 in /usr/local/lib/python3.7/dist-packages (from pytest==7.1.2) (4.11.3)\n",
            "Requirement already satisfied: attrs>=19.2.0 in /usr/local/lib/python3.7/dist-packages (from pytest==7.1.2) (21.4.0)\n",
            "Collecting pluggy<2.0,>=0.12\n",
            "  Downloading pluggy-1.0.0-py2.py3-none-any.whl (13 kB)\n",
            "Requirement already satisfied: zipp>=0.5 in /usr/local/lib/python3.7/dist-packages (from importlib-metadata>=0.12->pytest==7.1.2) (3.8.0)\n",
            "Requirement already satisfied: typing-extensions>=3.6.4 in /usr/local/lib/python3.7/dist-packages (from importlib-metadata>=0.12->pytest==7.1.2) (4.2.0)\n",
            "Requirement already satisfied: pyparsing!=3.0.5,>=2.0.2 in /usr/local/lib/python3.7/dist-packages (from packaging->pytest==7.1.2) (3.0.9)\n",
            "Installing collected packages: pluggy, pytest\n",
            "  Attempting uninstall: pluggy\n",
            "    Found existing installation: pluggy 0.7.1\n",
            "    Uninstalling pluggy-0.7.1:\n",
            "      Successfully uninstalled pluggy-0.7.1\n",
            "  Attempting uninstall: pytest\n",
            "    Found existing installation: pytest 3.6.4\n",
            "    Uninstalling pytest-3.6.4:\n",
            "      Successfully uninstalled pytest-3.6.4\n",
            "\u001b[31mERROR: pip's dependency resolver does not currently take into account all the packages that are installed. This behaviour is the source of the following dependency conflicts.\n",
            "datascience 0.10.6 requires folium==0.2.1, but you have folium 0.8.3 which is incompatible.\u001b[0m\n",
            "Successfully installed pluggy-1.0.0 pytest-7.1.2\n"
          ]
        }
      ],
      "source": [
        "!pip install \"pytest==7.1.2\"\n"
      ]
    },
    {
      "cell_type": "markdown",
      "metadata": {
        "id": "3QNQnotz9Q07"
      },
      "source": [
        "If you restart the runtime, the top right corner will first display ellipses, then a green tick. The tick means the environment is restarted.\n",
        "\n",
        "![截屏2022-05-09 21.14.14 小.jpeg](data:image/jpeg;base64,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)\n",
        "![截屏2022-05-09 21.14.24 小.jpeg](data:image/jpeg;base64,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)"
      ]
    },
    {
      "cell_type": "markdown",
      "metadata": {
        "id": "r-VvsGe993Tu"
      },
      "source": [
        "Next, run the following cell to make sure the pytest is a newer version (7.1.2). By default colab has an old pytest (around 3.x.x) and the test script won't run."
      ]
    },
    {
      "cell_type": "code",
      "execution_count": null,
      "metadata": {
        "id": "Ld24U_cW5FSH"
      },
      "outputs": [],
      "source": [
        "!pytest --version"
      ]
    },
    {
      "cell_type": "markdown",
      "metadata": {
        "id": "RoF5uAqJ-ikY"
      },
      "source": [
        "Finally, upload the following files to colab:\n",
        "* The `draw.npz` dataset.\n",
        "* Your `pa2.py` and `draw_model.h5`.\n",
        "* The solution files `pa2_sol.py` and `correct_model.h5`\n",
        "* The test scripts I provide, including `test_pa2.py`, `conftest.py`, `pytest.ini`. (Contained in `pytest_configurations.zip` file. DON'T create subfolder `pytest_configurations`)\n",
        "\n",
        "**The `draw.npz` dataset may take some time to upload. Wait until the circular progress bar finishes before proceeding.** (Or you can refer to previous labs to change the notebook and load the files from Google Drive)\n",
        "\n",
        "Or alternatively, download these files (except your own work) within the notebook.\n",
        "\n",
        "[draw.npz](../draw.npz),\n",
        "[pa2_sol.py](./pa2_sol.py),\n",
        "[correct_model.h5](./correct_model.h5),\n",
        "[pytest_configurations.zip](./pytest_configurations.zip)"
      ]
    },
    {
      "cell_type": "markdown",
      "metadata": {
        "id": "SJ6-2u4RwvTN"
      },
      "source": [
        "You can then run the test cases below"
      ]
    },
    {
      "cell_type": "code",
      "execution_count": 5,
      "metadata": {
        "colab": {
          "base_uri": "https://localhost:8080/"
        },
        "id": "QcOujhCO5rYJ",
        "outputId": "e08c99d8-b6eb-4bb6-f042-b5d6468634be"
      },
      "outputs": [
        {
          "name": "stdout",
          "output_type": "stream",
          "text": [
            "\u001b[1m============================= test session starts ==============================\u001b[0m\n",
            "platform linux -- Python 3.7.13, pytest-7.1.2, pluggy-1.0.0\n",
            "rootdir: /content, configfile: pytest.ini\n",
            "plugins: typeguard-2.7.1\n",
            "collected 21 items                                                             \u001b[0m\n",
            "\n",
            "test_pa2.py \u001b[32m.\u001b[0m\u001b[32m.\u001b[0m\u001b[32m.\u001b[0m\u001b[32m.\u001b[0m\u001b[32m.\u001b[0m\u001b[32m.\u001b[0m\u001b[32m.\u001b[0m\u001b[32m.\u001b[0m\u001b[32m.\u001b[0m\u001b[32m.\u001b[0m\u001b[32m.\u001b[0m\u001b[32m.\u001b[0m\u001b[32m.\u001b[0m\u001b[32m.\u001b[0m\u001b[32m.\u001b[0m\u001b[32m.\u001b[0m\u001b[32m.\u001b[0m\u001b[32m.\u001b[0m\u001b[32m.\u001b[0m\u001b[32m.\u001b[0m\u001b[32m.\u001b[0m\u001b[32m                                        [100%]\u001b[0m\n",
            "\n",
            "=========================== short test summary info ============================\n",
            "PASSED test_pa2.py::TestReshapeX::test_reshape_x_train\n",
            "PASSED test_pa2.py::TestReshapeX::test_reshape_x_val\n",
            "PASSED test_pa2.py::TestReshapeX::test_reshape_x_test\n",
            "PASSED test_pa2.py::TestEncodeY::test_encode_y_train\n",
            "PASSED test_pa2.py::TestEncodeY::test_encode_y_val\n",
            "PASSED test_pa2.py::TestEncodeY::test_encode_y_test\n",
            "PASSED test_pa2.py::TestAugmentedLayer::test_model_structure\n",
            "PASSED test_pa2.py::TestAugmentedLayer::test_model_parameters\n",
            "PASSED test_pa2.py::TestMainModel::test_model_structure\n",
            "PASSED test_pa2.py::TestMainModel::test_model_parameters\n",
            "PASSED test_pa2.py::TestCompileModel::test_compile_loss\n",
            "PASSED test_pa2.py::TestCompileModel::test_compile_optimizer\n",
            "PASSED test_pa2.py::TestCompileModel::test_compile_learning_rate\n",
            "PASSED test_pa2.py::TestCompileModel::test_compile_metrics\n",
            "PASSED test_pa2.py::TestTrainModel::test_fit_epochs\n",
            "PASSED test_pa2.py::TestTrainModel::test_fit_batch_size\n",
            "PASSED test_pa2.py::TestTrainModel::test_fit_validation\n",
            "PASSED test_pa2.py::TestEvaluateModel::test_evaluate\n",
            "PASSED test_pa2.py::TestPredictImages::test_predict\n",
            "PASSED test_pa2.py::TestSavedModel::test_accuracy\n",
            "PASSED test_pa2.py::TestSavedModel::test_model_weights\n",
            "\u001b[32m============================= \u001b[32m\u001b[1m21 passed\u001b[0m\u001b[32m in 21.45s\u001b[0m\u001b[32m ==============================\u001b[0m\n"
          ]
        }
      ],
      "source": [
        "!pytest test_pa2.py --tb=native --continue-on-collection-errors -rfExp --disable-warnings"
      ]
    },
    {
      "cell_type": "code",
      "execution_count": null,
      "metadata": {
        "id": "CaJ-bK46AtGw"
      },
      "outputs": [],
      "source": []
    }
  ],
  "metadata": {
    "colab": {
      "collapsed_sections": [],
      "name": "run_test_pa2.ipynb",
      "provenance": []
    },
    "interpreter": {
      "hash": "59f3145cc67fcda0343c2852f1f97113a2e6e98841e887156424448e7071ad54"
    },
    "kernelspec": {
      "display_name": "Python 3.9.12 ('base')",
      "language": "python",
      "name": "python3"
    },
    "language_info": {
      "codemirror_mode": {
        "name": "ipython",
        "version": 3
      },
      "file_extension": ".py",
      "mimetype": "text/x-python",
      "name": "python",
      "nbconvert_exporter": "python",
      "pygments_lexer": "ipython3",
      "version": "3.9.12"
    },
    "orig_nbformat": 4
  },
  "nbformat": 4,
  "nbformat_minor": 0
}
