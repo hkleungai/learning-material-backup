{
  "nbformat": 4,
  "nbformat_minor": 0,
  "metadata": {
    "colab": {
      "name": "Intro_PyTorch_22Spring.ipynb",
      "provenance": [],
      "collapsed_sections": [],
      "toc_visible": true
    },
    "kernelspec": {
      "name": "python3",
      "display_name": "Python 3"
    },
    "accelerator": "GPU",
    "widgets": {
      "application/vnd.jupyter.widget-state+json": {
        "7b1714a47b524d229ba5e59ef682fcfd": {
          "model_module": "@jupyter-widgets/controls",
          "model_name": "HBoxModel",
          "model_module_version": "1.5.0",
          "state": {
            "_view_name": "HBoxView",
            "_dom_classes": [],
            "_model_name": "HBoxModel",
            "_view_module": "@jupyter-widgets/controls",
            "_model_module_version": "1.5.0",
            "_view_count": null,
            "_view_module_version": "1.5.0",
            "box_style": "",
            "layout": "IPY_MODEL_88df75def5a04e66af7c1444464d79a5",
            "_model_module": "@jupyter-widgets/controls",
            "children": [
              "IPY_MODEL_2f5ed7c7149840d3a30740d8b6916f1b",
              "IPY_MODEL_90e4d8d846434b9da5667cbd6d3e38cd",
              "IPY_MODEL_29269d09c661490f87708e4130d2702c"
            ]
          }
        },
        "88df75def5a04e66af7c1444464d79a5": {
          "model_module": "@jupyter-widgets/base",
          "model_name": "LayoutModel",
          "model_module_version": "1.2.0",
          "state": {
            "_view_name": "LayoutView",
            "grid_template_rows": null,
            "right": null,
            "justify_content": null,
            "_view_module": "@jupyter-widgets/base",
            "overflow": null,
            "_model_module_version": "1.2.0",
            "_view_count": null,
            "flex_flow": null,
            "width": null,
            "min_width": null,
            "border": null,
            "align_items": null,
            "bottom": null,
            "_model_module": "@jupyter-widgets/base",
            "top": null,
            "grid_column": null,
            "overflow_y": null,
            "overflow_x": null,
            "grid_auto_flow": null,
            "grid_area": null,
            "grid_template_columns": null,
            "flex": null,
            "_model_name": "LayoutModel",
            "justify_items": null,
            "grid_row": null,
            "max_height": null,
            "align_content": null,
            "visibility": null,
            "align_self": null,
            "height": null,
            "min_height": null,
            "padding": null,
            "grid_auto_rows": null,
            "grid_gap": null,
            "max_width": null,
            "order": null,
            "_view_module_version": "1.2.0",
            "grid_template_areas": null,
            "object_position": null,
            "object_fit": null,
            "grid_auto_columns": null,
            "margin": null,
            "display": null,
            "left": null
          }
        },
        "2f5ed7c7149840d3a30740d8b6916f1b": {
          "model_module": "@jupyter-widgets/controls",
          "model_name": "HTMLModel",
          "model_module_version": "1.5.0",
          "state": {
            "_view_name": "HTMLView",
            "style": "IPY_MODEL_2f3aa6bc484741e585a91b836e007f18",
            "_dom_classes": [],
            "description": "",
            "_model_name": "HTMLModel",
            "placeholder": "​",
            "_view_module": "@jupyter-widgets/controls",
            "_model_module_version": "1.5.0",
            "value": "",
            "_view_count": null,
            "_view_module_version": "1.5.0",
            "description_tooltip": null,
            "_model_module": "@jupyter-widgets/controls",
            "layout": "IPY_MODEL_da63091832474bd7acf2316518f731c6"
          }
        },
        "90e4d8d846434b9da5667cbd6d3e38cd": {
          "model_module": "@jupyter-widgets/controls",
          "model_name": "FloatProgressModel",
          "model_module_version": "1.5.0",
          "state": {
            "_view_name": "ProgressView",
            "style": "IPY_MODEL_1c6233a673a6456ba8084d62e338dc44",
            "_dom_classes": [],
            "description": "",
            "_model_name": "FloatProgressModel",
            "bar_style": "success",
            "max": 26421880,
            "_view_module": "@jupyter-widgets/controls",
            "_model_module_version": "1.5.0",
            "value": 26421880,
            "_view_count": null,
            "_view_module_version": "1.5.0",
            "orientation": "horizontal",
            "min": 0,
            "description_tooltip": null,
            "_model_module": "@jupyter-widgets/controls",
            "layout": "IPY_MODEL_2b1862f884ad4d4c92793361a7a17028"
          }
        },
        "29269d09c661490f87708e4130d2702c": {
          "model_module": "@jupyter-widgets/controls",
          "model_name": "HTMLModel",
          "model_module_version": "1.5.0",
          "state": {
            "_view_name": "HTMLView",
            "style": "IPY_MODEL_83a5529e51f44a4eadee419065aa3013",
            "_dom_classes": [],
            "description": "",
            "_model_name": "HTMLModel",
            "placeholder": "​",
            "_view_module": "@jupyter-widgets/controls",
            "_model_module_version": "1.5.0",
            "value": " 26422272/? [00:04&lt;00:00, 10422491.16it/s]",
            "_view_count": null,
            "_view_module_version": "1.5.0",
            "description_tooltip": null,
            "_model_module": "@jupyter-widgets/controls",
            "layout": "IPY_MODEL_8d1ee397240b40d9b21f7eda9b742e65"
          }
        },
        "2f3aa6bc484741e585a91b836e007f18": {
          "model_module": "@jupyter-widgets/controls",
          "model_name": "DescriptionStyleModel",
          "model_module_version": "1.5.0",
          "state": {
            "_view_name": "StyleView",
            "_model_name": "DescriptionStyleModel",
            "description_width": "",
            "_view_module": "@jupyter-widgets/base",
            "_model_module_version": "1.5.0",
            "_view_count": null,
            "_view_module_version": "1.2.0",
            "_model_module": "@jupyter-widgets/controls"
          }
        },
        "da63091832474bd7acf2316518f731c6": {
          "model_module": "@jupyter-widgets/base",
          "model_name": "LayoutModel",
          "model_module_version": "1.2.0",
          "state": {
            "_view_name": "LayoutView",
            "grid_template_rows": null,
            "right": null,
            "justify_content": null,
            "_view_module": "@jupyter-widgets/base",
            "overflow": null,
            "_model_module_version": "1.2.0",
            "_view_count": null,
            "flex_flow": null,
            "width": null,
            "min_width": null,
            "border": null,
            "align_items": null,
            "bottom": null,
            "_model_module": "@jupyter-widgets/base",
            "top": null,
            "grid_column": null,
            "overflow_y": null,
            "overflow_x": null,
            "grid_auto_flow": null,
            "grid_area": null,
            "grid_template_columns": null,
            "flex": null,
            "_model_name": "LayoutModel",
            "justify_items": null,
            "grid_row": null,
            "max_height": null,
            "align_content": null,
            "visibility": null,
            "align_self": null,
            "height": null,
            "min_height": null,
            "padding": null,
            "grid_auto_rows": null,
            "grid_gap": null,
            "max_width": null,
            "order": null,
            "_view_module_version": "1.2.0",
            "grid_template_areas": null,
            "object_position": null,
            "object_fit": null,
            "grid_auto_columns": null,
            "margin": null,
            "display": null,
            "left": null
          }
        },
        "1c6233a673a6456ba8084d62e338dc44": {
          "model_module": "@jupyter-widgets/controls",
          "model_name": "ProgressStyleModel",
          "model_module_version": "1.5.0",
          "state": {
            "_view_name": "StyleView",
            "_model_name": "ProgressStyleModel",
            "description_width": "",
            "_view_module": "@jupyter-widgets/base",
            "_model_module_version": "1.5.0",
            "_view_count": null,
            "_view_module_version": "1.2.0",
            "bar_color": null,
            "_model_module": "@jupyter-widgets/controls"
          }
        },
        "2b1862f884ad4d4c92793361a7a17028": {
          "model_module": "@jupyter-widgets/base",
          "model_name": "LayoutModel",
          "model_module_version": "1.2.0",
          "state": {
            "_view_name": "LayoutView",
            "grid_template_rows": null,
            "right": null,
            "justify_content": null,
            "_view_module": "@jupyter-widgets/base",
            "overflow": null,
            "_model_module_version": "1.2.0",
            "_view_count": null,
            "flex_flow": null,
            "width": null,
            "min_width": null,
            "border": null,
            "align_items": null,
            "bottom": null,
            "_model_module": "@jupyter-widgets/base",
            "top": null,
            "grid_column": null,
            "overflow_y": null,
            "overflow_x": null,
            "grid_auto_flow": null,
            "grid_area": null,
            "grid_template_columns": null,
            "flex": null,
            "_model_name": "LayoutModel",
            "justify_items": null,
            "grid_row": null,
            "max_height": null,
            "align_content": null,
            "visibility": null,
            "align_self": null,
            "height": null,
            "min_height": null,
            "padding": null,
            "grid_auto_rows": null,
            "grid_gap": null,
            "max_width": null,
            "order": null,
            "_view_module_version": "1.2.0",
            "grid_template_areas": null,
            "object_position": null,
            "object_fit": null,
            "grid_auto_columns": null,
            "margin": null,
            "display": null,
            "left": null
          }
        },
        "83a5529e51f44a4eadee419065aa3013": {
          "model_module": "@jupyter-widgets/controls",
          "model_name": "DescriptionStyleModel",
          "model_module_version": "1.5.0",
          "state": {
            "_view_name": "StyleView",
            "_model_name": "DescriptionStyleModel",
            "description_width": "",
            "_view_module": "@jupyter-widgets/base",
            "_model_module_version": "1.5.0",
            "_view_count": null,
            "_view_module_version": "1.2.0",
            "_model_module": "@jupyter-widgets/controls"
          }
        },
        "8d1ee397240b40d9b21f7eda9b742e65": {
          "model_module": "@jupyter-widgets/base",
          "model_name": "LayoutModel",
          "model_module_version": "1.2.0",
          "state": {
            "_view_name": "LayoutView",
            "grid_template_rows": null,
            "right": null,
            "justify_content": null,
            "_view_module": "@jupyter-widgets/base",
            "overflow": null,
            "_model_module_version": "1.2.0",
            "_view_count": null,
            "flex_flow": null,
            "width": null,
            "min_width": null,
            "border": null,
            "align_items": null,
            "bottom": null,
            "_model_module": "@jupyter-widgets/base",
            "top": null,
            "grid_column": null,
            "overflow_y": null,
            "overflow_x": null,
            "grid_auto_flow": null,
            "grid_area": null,
            "grid_template_columns": null,
            "flex": null,
            "_model_name": "LayoutModel",
            "justify_items": null,
            "grid_row": null,
            "max_height": null,
            "align_content": null,
            "visibility": null,
            "align_self": null,
            "height": null,
            "min_height": null,
            "padding": null,
            "grid_auto_rows": null,
            "grid_gap": null,
            "max_width": null,
            "order": null,
            "_view_module_version": "1.2.0",
            "grid_template_areas": null,
            "object_position": null,
            "object_fit": null,
            "grid_auto_columns": null,
            "margin": null,
            "display": null,
            "left": null
          }
        },
        "281bbd0fc15c4628a0210a8d796e3927": {
          "model_module": "@jupyter-widgets/controls",
          "model_name": "HBoxModel",
          "model_module_version": "1.5.0",
          "state": {
            "_view_name": "HBoxView",
            "_dom_classes": [],
            "_model_name": "HBoxModel",
            "_view_module": "@jupyter-widgets/controls",
            "_model_module_version": "1.5.0",
            "_view_count": null,
            "_view_module_version": "1.5.0",
            "box_style": "",
            "layout": "IPY_MODEL_195d39d819b34b01881d24879deab7af",
            "_model_module": "@jupyter-widgets/controls",
            "children": [
              "IPY_MODEL_5f42f007f3e54484b8a47064c50517ec",
              "IPY_MODEL_0adcfa6589ff4927825491f7f334d84d",
              "IPY_MODEL_c482f208576943e6afaf774aa7b58de4"
            ]
          }
        },
        "195d39d819b34b01881d24879deab7af": {
          "model_module": "@jupyter-widgets/base",
          "model_name": "LayoutModel",
          "model_module_version": "1.2.0",
          "state": {
            "_view_name": "LayoutView",
            "grid_template_rows": null,
            "right": null,
            "justify_content": null,
            "_view_module": "@jupyter-widgets/base",
            "overflow": null,
            "_model_module_version": "1.2.0",
            "_view_count": null,
            "flex_flow": null,
            "width": null,
            "min_width": null,
            "border": null,
            "align_items": null,
            "bottom": null,
            "_model_module": "@jupyter-widgets/base",
            "top": null,
            "grid_column": null,
            "overflow_y": null,
            "overflow_x": null,
            "grid_auto_flow": null,
            "grid_area": null,
            "grid_template_columns": null,
            "flex": null,
            "_model_name": "LayoutModel",
            "justify_items": null,
            "grid_row": null,
            "max_height": null,
            "align_content": null,
            "visibility": null,
            "align_self": null,
            "height": null,
            "min_height": null,
            "padding": null,
            "grid_auto_rows": null,
            "grid_gap": null,
            "max_width": null,
            "order": null,
            "_view_module_version": "1.2.0",
            "grid_template_areas": null,
            "object_position": null,
            "object_fit": null,
            "grid_auto_columns": null,
            "margin": null,
            "display": null,
            "left": null
          }
        },
        "5f42f007f3e54484b8a47064c50517ec": {
          "model_module": "@jupyter-widgets/controls",
          "model_name": "HTMLModel",
          "model_module_version": "1.5.0",
          "state": {
            "_view_name": "HTMLView",
            "style": "IPY_MODEL_861550fc1ed146588005bf4a0c1a3eee",
            "_dom_classes": [],
            "description": "",
            "_model_name": "HTMLModel",
            "placeholder": "​",
            "_view_module": "@jupyter-widgets/controls",
            "_model_module_version": "1.5.0",
            "value": "",
            "_view_count": null,
            "_view_module_version": "1.5.0",
            "description_tooltip": null,
            "_model_module": "@jupyter-widgets/controls",
            "layout": "IPY_MODEL_b5e952f5646745249eca3ac47e42f613"
          }
        },
        "0adcfa6589ff4927825491f7f334d84d": {
          "model_module": "@jupyter-widgets/controls",
          "model_name": "FloatProgressModel",
          "model_module_version": "1.5.0",
          "state": {
            "_view_name": "ProgressView",
            "style": "IPY_MODEL_7cb61f9e483e4496a30a4156c3f4e2ae",
            "_dom_classes": [],
            "description": "",
            "_model_name": "FloatProgressModel",
            "bar_style": "success",
            "max": 29515,
            "_view_module": "@jupyter-widgets/controls",
            "_model_module_version": "1.5.0",
            "value": 29515,
            "_view_count": null,
            "_view_module_version": "1.5.0",
            "orientation": "horizontal",
            "min": 0,
            "description_tooltip": null,
            "_model_module": "@jupyter-widgets/controls",
            "layout": "IPY_MODEL_1e978342661b4e47868147de0a0668a9"
          }
        },
        "c482f208576943e6afaf774aa7b58de4": {
          "model_module": "@jupyter-widgets/controls",
          "model_name": "HTMLModel",
          "model_module_version": "1.5.0",
          "state": {
            "_view_name": "HTMLView",
            "style": "IPY_MODEL_b82c641c731f4dd7ad90b6422dbb8f5c",
            "_dom_classes": [],
            "description": "",
            "_model_name": "HTMLModel",
            "placeholder": "​",
            "_view_module": "@jupyter-widgets/controls",
            "_model_module_version": "1.5.0",
            "value": " 29696/? [00:00&lt;00:00, 56336.25it/s]",
            "_view_count": null,
            "_view_module_version": "1.5.0",
            "description_tooltip": null,
            "_model_module": "@jupyter-widgets/controls",
            "layout": "IPY_MODEL_1398ed75a21f45aa90163e67f33ef81e"
          }
        },
        "861550fc1ed146588005bf4a0c1a3eee": {
          "model_module": "@jupyter-widgets/controls",
          "model_name": "DescriptionStyleModel",
          "model_module_version": "1.5.0",
          "state": {
            "_view_name": "StyleView",
            "_model_name": "DescriptionStyleModel",
            "description_width": "",
            "_view_module": "@jupyter-widgets/base",
            "_model_module_version": "1.5.0",
            "_view_count": null,
            "_view_module_version": "1.2.0",
            "_model_module": "@jupyter-widgets/controls"
          }
        },
        "b5e952f5646745249eca3ac47e42f613": {
          "model_module": "@jupyter-widgets/base",
          "model_name": "LayoutModel",
          "model_module_version": "1.2.0",
          "state": {
            "_view_name": "LayoutView",
            "grid_template_rows": null,
            "right": null,
            "justify_content": null,
            "_view_module": "@jupyter-widgets/base",
            "overflow": null,
            "_model_module_version": "1.2.0",
            "_view_count": null,
            "flex_flow": null,
            "width": null,
            "min_width": null,
            "border": null,
            "align_items": null,
            "bottom": null,
            "_model_module": "@jupyter-widgets/base",
            "top": null,
            "grid_column": null,
            "overflow_y": null,
            "overflow_x": null,
            "grid_auto_flow": null,
            "grid_area": null,
            "grid_template_columns": null,
            "flex": null,
            "_model_name": "LayoutModel",
            "justify_items": null,
            "grid_row": null,
            "max_height": null,
            "align_content": null,
            "visibility": null,
            "align_self": null,
            "height": null,
            "min_height": null,
            "padding": null,
            "grid_auto_rows": null,
            "grid_gap": null,
            "max_width": null,
            "order": null,
            "_view_module_version": "1.2.0",
            "grid_template_areas": null,
            "object_position": null,
            "object_fit": null,
            "grid_auto_columns": null,
            "margin": null,
            "display": null,
            "left": null
          }
        },
        "7cb61f9e483e4496a30a4156c3f4e2ae": {
          "model_module": "@jupyter-widgets/controls",
          "model_name": "ProgressStyleModel",
          "model_module_version": "1.5.0",
          "state": {
            "_view_name": "StyleView",
            "_model_name": "ProgressStyleModel",
            "description_width": "",
            "_view_module": "@jupyter-widgets/base",
            "_model_module_version": "1.5.0",
            "_view_count": null,
            "_view_module_version": "1.2.0",
            "bar_color": null,
            "_model_module": "@jupyter-widgets/controls"
          }
        },
        "1e978342661b4e47868147de0a0668a9": {
          "model_module": "@jupyter-widgets/base",
          "model_name": "LayoutModel",
          "model_module_version": "1.2.0",
          "state": {
            "_view_name": "LayoutView",
            "grid_template_rows": null,
            "right": null,
            "justify_content": null,
            "_view_module": "@jupyter-widgets/base",
            "overflow": null,
            "_model_module_version": "1.2.0",
            "_view_count": null,
            "flex_flow": null,
            "width": null,
            "min_width": null,
            "border": null,
            "align_items": null,
            "bottom": null,
            "_model_module": "@jupyter-widgets/base",
            "top": null,
            "grid_column": null,
            "overflow_y": null,
            "overflow_x": null,
            "grid_auto_flow": null,
            "grid_area": null,
            "grid_template_columns": null,
            "flex": null,
            "_model_name": "LayoutModel",
            "justify_items": null,
            "grid_row": null,
            "max_height": null,
            "align_content": null,
            "visibility": null,
            "align_self": null,
            "height": null,
            "min_height": null,
            "padding": null,
            "grid_auto_rows": null,
            "grid_gap": null,
            "max_width": null,
            "order": null,
            "_view_module_version": "1.2.0",
            "grid_template_areas": null,
            "object_position": null,
            "object_fit": null,
            "grid_auto_columns": null,
            "margin": null,
            "display": null,
            "left": null
          }
        },
        "b82c641c731f4dd7ad90b6422dbb8f5c": {
          "model_module": "@jupyter-widgets/controls",
          "model_name": "DescriptionStyleModel",
          "model_module_version": "1.5.0",
          "state": {
            "_view_name": "StyleView",
            "_model_name": "DescriptionStyleModel",
            "description_width": "",
            "_view_module": "@jupyter-widgets/base",
            "_model_module_version": "1.5.0",
            "_view_count": null,
            "_view_module_version": "1.2.0",
            "_model_module": "@jupyter-widgets/controls"
          }
        },
        "1398ed75a21f45aa90163e67f33ef81e": {
          "model_module": "@jupyter-widgets/base",
          "model_name": "LayoutModel",
          "model_module_version": "1.2.0",
          "state": {
            "_view_name": "LayoutView",
            "grid_template_rows": null,
            "right": null,
            "justify_content": null,
            "_view_module": "@jupyter-widgets/base",
            "overflow": null,
            "_model_module_version": "1.2.0",
            "_view_count": null,
            "flex_flow": null,
            "width": null,
            "min_width": null,
            "border": null,
            "align_items": null,
            "bottom": null,
            "_model_module": "@jupyter-widgets/base",
            "top": null,
            "grid_column": null,
            "overflow_y": null,
            "overflow_x": null,
            "grid_auto_flow": null,
            "grid_area": null,
            "grid_template_columns": null,
            "flex": null,
            "_model_name": "LayoutModel",
            "justify_items": null,
            "grid_row": null,
            "max_height": null,
            "align_content": null,
            "visibility": null,
            "align_self": null,
            "height": null,
            "min_height": null,
            "padding": null,
            "grid_auto_rows": null,
            "grid_gap": null,
            "max_width": null,
            "order": null,
            "_view_module_version": "1.2.0",
            "grid_template_areas": null,
            "object_position": null,
            "object_fit": null,
            "grid_auto_columns": null,
            "margin": null,
            "display": null,
            "left": null
          }
        },
        "3e8da5e4d7d6437da72430624ae8d412": {
          "model_module": "@jupyter-widgets/controls",
          "model_name": "HBoxModel",
          "model_module_version": "1.5.0",
          "state": {
            "_view_name": "HBoxView",
            "_dom_classes": [],
            "_model_name": "HBoxModel",
            "_view_module": "@jupyter-widgets/controls",
            "_model_module_version": "1.5.0",
            "_view_count": null,
            "_view_module_version": "1.5.0",
            "box_style": "",
            "layout": "IPY_MODEL_dad61fcbbe2b4821aa3dfc07a0b4f5cf",
            "_model_module": "@jupyter-widgets/controls",
            "children": [
              "IPY_MODEL_9c2c60d2ba554353a0d34d3eec7e42d1",
              "IPY_MODEL_d701adee29fb4bb3b1138adb313ad6a0",
              "IPY_MODEL_1f6dc1953914463191ddec7f54067346"
            ]
          }
        },
        "dad61fcbbe2b4821aa3dfc07a0b4f5cf": {
          "model_module": "@jupyter-widgets/base",
          "model_name": "LayoutModel",
          "model_module_version": "1.2.0",
          "state": {
            "_view_name": "LayoutView",
            "grid_template_rows": null,
            "right": null,
            "justify_content": null,
            "_view_module": "@jupyter-widgets/base",
            "overflow": null,
            "_model_module_version": "1.2.0",
            "_view_count": null,
            "flex_flow": null,
            "width": null,
            "min_width": null,
            "border": null,
            "align_items": null,
            "bottom": null,
            "_model_module": "@jupyter-widgets/base",
            "top": null,
            "grid_column": null,
            "overflow_y": null,
            "overflow_x": null,
            "grid_auto_flow": null,
            "grid_area": null,
            "grid_template_columns": null,
            "flex": null,
            "_model_name": "LayoutModel",
            "justify_items": null,
            "grid_row": null,
            "max_height": null,
            "align_content": null,
            "visibility": null,
            "align_self": null,
            "height": null,
            "min_height": null,
            "padding": null,
            "grid_auto_rows": null,
            "grid_gap": null,
            "max_width": null,
            "order": null,
            "_view_module_version": "1.2.0",
            "grid_template_areas": null,
            "object_position": null,
            "object_fit": null,
            "grid_auto_columns": null,
            "margin": null,
            "display": null,
            "left": null
          }
        },
        "9c2c60d2ba554353a0d34d3eec7e42d1": {
          "model_module": "@jupyter-widgets/controls",
          "model_name": "HTMLModel",
          "model_module_version": "1.5.0",
          "state": {
            "_view_name": "HTMLView",
            "style": "IPY_MODEL_bdd2f6c9d17440b3826e68b8cd12d18e",
            "_dom_classes": [],
            "description": "",
            "_model_name": "HTMLModel",
            "placeholder": "​",
            "_view_module": "@jupyter-widgets/controls",
            "_model_module_version": "1.5.0",
            "value": "",
            "_view_count": null,
            "_view_module_version": "1.5.0",
            "description_tooltip": null,
            "_model_module": "@jupyter-widgets/controls",
            "layout": "IPY_MODEL_8ab16360e0d1411283ca502bd8b5977e"
          }
        },
        "d701adee29fb4bb3b1138adb313ad6a0": {
          "model_module": "@jupyter-widgets/controls",
          "model_name": "FloatProgressModel",
          "model_module_version": "1.5.0",
          "state": {
            "_view_name": "ProgressView",
            "style": "IPY_MODEL_cb79f0139e8e43eb9eb76f5cb9e966bc",
            "_dom_classes": [],
            "description": "",
            "_model_name": "FloatProgressModel",
            "bar_style": "success",
            "max": 4422102,
            "_view_module": "@jupyter-widgets/controls",
            "_model_module_version": "1.5.0",
            "value": 4422102,
            "_view_count": null,
            "_view_module_version": "1.5.0",
            "orientation": "horizontal",
            "min": 0,
            "description_tooltip": null,
            "_model_module": "@jupyter-widgets/controls",
            "layout": "IPY_MODEL_06492c3e30164bc6b315343940dfd015"
          }
        },
        "1f6dc1953914463191ddec7f54067346": {
          "model_module": "@jupyter-widgets/controls",
          "model_name": "HTMLModel",
          "model_module_version": "1.5.0",
          "state": {
            "_view_name": "HTMLView",
            "style": "IPY_MODEL_56dd392b70644fa083707d0259e3bd4e",
            "_dom_classes": [],
            "description": "",
            "_model_name": "HTMLModel",
            "placeholder": "​",
            "_view_module": "@jupyter-widgets/controls",
            "_model_module_version": "1.5.0",
            "value": " 4422656/? [00:02&lt;00:00, 3164402.02it/s]",
            "_view_count": null,
            "_view_module_version": "1.5.0",
            "description_tooltip": null,
            "_model_module": "@jupyter-widgets/controls",
            "layout": "IPY_MODEL_1ccca0b98c7d4799b8a80482204dc213"
          }
        },
        "bdd2f6c9d17440b3826e68b8cd12d18e": {
          "model_module": "@jupyter-widgets/controls",
          "model_name": "DescriptionStyleModel",
          "model_module_version": "1.5.0",
          "state": {
            "_view_name": "StyleView",
            "_model_name": "DescriptionStyleModel",
            "description_width": "",
            "_view_module": "@jupyter-widgets/base",
            "_model_module_version": "1.5.0",
            "_view_count": null,
            "_view_module_version": "1.2.0",
            "_model_module": "@jupyter-widgets/controls"
          }
        },
        "8ab16360e0d1411283ca502bd8b5977e": {
          "model_module": "@jupyter-widgets/base",
          "model_name": "LayoutModel",
          "model_module_version": "1.2.0",
          "state": {
            "_view_name": "LayoutView",
            "grid_template_rows": null,
            "right": null,
            "justify_content": null,
            "_view_module": "@jupyter-widgets/base",
            "overflow": null,
            "_model_module_version": "1.2.0",
            "_view_count": null,
            "flex_flow": null,
            "width": null,
            "min_width": null,
            "border": null,
            "align_items": null,
            "bottom": null,
            "_model_module": "@jupyter-widgets/base",
            "top": null,
            "grid_column": null,
            "overflow_y": null,
            "overflow_x": null,
            "grid_auto_flow": null,
            "grid_area": null,
            "grid_template_columns": null,
            "flex": null,
            "_model_name": "LayoutModel",
            "justify_items": null,
            "grid_row": null,
            "max_height": null,
            "align_content": null,
            "visibility": null,
            "align_self": null,
            "height": null,
            "min_height": null,
            "padding": null,
            "grid_auto_rows": null,
            "grid_gap": null,
            "max_width": null,
            "order": null,
            "_view_module_version": "1.2.0",
            "grid_template_areas": null,
            "object_position": null,
            "object_fit": null,
            "grid_auto_columns": null,
            "margin": null,
            "display": null,
            "left": null
          }
        },
        "cb79f0139e8e43eb9eb76f5cb9e966bc": {
          "model_module": "@jupyter-widgets/controls",
          "model_name": "ProgressStyleModel",
          "model_module_version": "1.5.0",
          "state": {
            "_view_name": "StyleView",
            "_model_name": "ProgressStyleModel",
            "description_width": "",
            "_view_module": "@jupyter-widgets/base",
            "_model_module_version": "1.5.0",
            "_view_count": null,
            "_view_module_version": "1.2.0",
            "bar_color": null,
            "_model_module": "@jupyter-widgets/controls"
          }
        },
        "06492c3e30164bc6b315343940dfd015": {
          "model_module": "@jupyter-widgets/base",
          "model_name": "LayoutModel",
          "model_module_version": "1.2.0",
          "state": {
            "_view_name": "LayoutView",
            "grid_template_rows": null,
            "right": null,
            "justify_content": null,
            "_view_module": "@jupyter-widgets/base",
            "overflow": null,
            "_model_module_version": "1.2.0",
            "_view_count": null,
            "flex_flow": null,
            "width": null,
            "min_width": null,
            "border": null,
            "align_items": null,
            "bottom": null,
            "_model_module": "@jupyter-widgets/base",
            "top": null,
            "grid_column": null,
            "overflow_y": null,
            "overflow_x": null,
            "grid_auto_flow": null,
            "grid_area": null,
            "grid_template_columns": null,
            "flex": null,
            "_model_name": "LayoutModel",
            "justify_items": null,
            "grid_row": null,
            "max_height": null,
            "align_content": null,
            "visibility": null,
            "align_self": null,
            "height": null,
            "min_height": null,
            "padding": null,
            "grid_auto_rows": null,
            "grid_gap": null,
            "max_width": null,
            "order": null,
            "_view_module_version": "1.2.0",
            "grid_template_areas": null,
            "object_position": null,
            "object_fit": null,
            "grid_auto_columns": null,
            "margin": null,
            "display": null,
            "left": null
          }
        },
        "56dd392b70644fa083707d0259e3bd4e": {
          "model_module": "@jupyter-widgets/controls",
          "model_name": "DescriptionStyleModel",
          "model_module_version": "1.5.0",
          "state": {
            "_view_name": "StyleView",
            "_model_name": "DescriptionStyleModel",
            "description_width": "",
            "_view_module": "@jupyter-widgets/base",
            "_model_module_version": "1.5.0",
            "_view_count": null,
            "_view_module_version": "1.2.0",
            "_model_module": "@jupyter-widgets/controls"
          }
        },
        "1ccca0b98c7d4799b8a80482204dc213": {
          "model_module": "@jupyter-widgets/base",
          "model_name": "LayoutModel",
          "model_module_version": "1.2.0",
          "state": {
            "_view_name": "LayoutView",
            "grid_template_rows": null,
            "right": null,
            "justify_content": null,
            "_view_module": "@jupyter-widgets/base",
            "overflow": null,
            "_model_module_version": "1.2.0",
            "_view_count": null,
            "flex_flow": null,
            "width": null,
            "min_width": null,
            "border": null,
            "align_items": null,
            "bottom": null,
            "_model_module": "@jupyter-widgets/base",
            "top": null,
            "grid_column": null,
            "overflow_y": null,
            "overflow_x": null,
            "grid_auto_flow": null,
            "grid_area": null,
            "grid_template_columns": null,
            "flex": null,
            "_model_name": "LayoutModel",
            "justify_items": null,
            "grid_row": null,
            "max_height": null,
            "align_content": null,
            "visibility": null,
            "align_self": null,
            "height": null,
            "min_height": null,
            "padding": null,
            "grid_auto_rows": null,
            "grid_gap": null,
            "max_width": null,
            "order": null,
            "_view_module_version": "1.2.0",
            "grid_template_areas": null,
            "object_position": null,
            "object_fit": null,
            "grid_auto_columns": null,
            "margin": null,
            "display": null,
            "left": null
          }
        },
        "111e979fad6840f2a01a1bf52328a4cc": {
          "model_module": "@jupyter-widgets/controls",
          "model_name": "HBoxModel",
          "model_module_version": "1.5.0",
          "state": {
            "_view_name": "HBoxView",
            "_dom_classes": [],
            "_model_name": "HBoxModel",
            "_view_module": "@jupyter-widgets/controls",
            "_model_module_version": "1.5.0",
            "_view_count": null,
            "_view_module_version": "1.5.0",
            "box_style": "",
            "layout": "IPY_MODEL_a4f684b24e1f49c9bc061d58de6d3821",
            "_model_module": "@jupyter-widgets/controls",
            "children": [
              "IPY_MODEL_3e9e6268465c4270b3876100bcf87c95",
              "IPY_MODEL_a3e7d2d68a6745a49fb4c8fc9a60635d",
              "IPY_MODEL_6cb821cdaf43469ea9cf792f69feaca9"
            ]
          }
        },
        "a4f684b24e1f49c9bc061d58de6d3821": {
          "model_module": "@jupyter-widgets/base",
          "model_name": "LayoutModel",
          "model_module_version": "1.2.0",
          "state": {
            "_view_name": "LayoutView",
            "grid_template_rows": null,
            "right": null,
            "justify_content": null,
            "_view_module": "@jupyter-widgets/base",
            "overflow": null,
            "_model_module_version": "1.2.0",
            "_view_count": null,
            "flex_flow": null,
            "width": null,
            "min_width": null,
            "border": null,
            "align_items": null,
            "bottom": null,
            "_model_module": "@jupyter-widgets/base",
            "top": null,
            "grid_column": null,
            "overflow_y": null,
            "overflow_x": null,
            "grid_auto_flow": null,
            "grid_area": null,
            "grid_template_columns": null,
            "flex": null,
            "_model_name": "LayoutModel",
            "justify_items": null,
            "grid_row": null,
            "max_height": null,
            "align_content": null,
            "visibility": null,
            "align_self": null,
            "height": null,
            "min_height": null,
            "padding": null,
            "grid_auto_rows": null,
            "grid_gap": null,
            "max_width": null,
            "order": null,
            "_view_module_version": "1.2.0",
            "grid_template_areas": null,
            "object_position": null,
            "object_fit": null,
            "grid_auto_columns": null,
            "margin": null,
            "display": null,
            "left": null
          }
        },
        "3e9e6268465c4270b3876100bcf87c95": {
          "model_module": "@jupyter-widgets/controls",
          "model_name": "HTMLModel",
          "model_module_version": "1.5.0",
          "state": {
            "_view_name": "HTMLView",
            "style": "IPY_MODEL_c7c2da46eefc4a61bad339d701f1639a",
            "_dom_classes": [],
            "description": "",
            "_model_name": "HTMLModel",
            "placeholder": "​",
            "_view_module": "@jupyter-widgets/controls",
            "_model_module_version": "1.5.0",
            "value": "",
            "_view_count": null,
            "_view_module_version": "1.5.0",
            "description_tooltip": null,
            "_model_module": "@jupyter-widgets/controls",
            "layout": "IPY_MODEL_fcb8b2d07487483791ab9d041603f2b1"
          }
        },
        "a3e7d2d68a6745a49fb4c8fc9a60635d": {
          "model_module": "@jupyter-widgets/controls",
          "model_name": "FloatProgressModel",
          "model_module_version": "1.5.0",
          "state": {
            "_view_name": "ProgressView",
            "style": "IPY_MODEL_61950c34f1914db8a5708bdc5ad0c922",
            "_dom_classes": [],
            "description": "",
            "_model_name": "FloatProgressModel",
            "bar_style": "success",
            "max": 5148,
            "_view_module": "@jupyter-widgets/controls",
            "_model_module_version": "1.5.0",
            "value": 5148,
            "_view_count": null,
            "_view_module_version": "1.5.0",
            "orientation": "horizontal",
            "min": 0,
            "description_tooltip": null,
            "_model_module": "@jupyter-widgets/controls",
            "layout": "IPY_MODEL_a3d11ebab747411088976eb5aaaedccd"
          }
        },
        "6cb821cdaf43469ea9cf792f69feaca9": {
          "model_module": "@jupyter-widgets/controls",
          "model_name": "HTMLModel",
          "model_module_version": "1.5.0",
          "state": {
            "_view_name": "HTMLView",
            "style": "IPY_MODEL_e2886281e3d5427fa44090206f888060",
            "_dom_classes": [],
            "description": "",
            "_model_name": "HTMLModel",
            "placeholder": "​",
            "_view_module": "@jupyter-widgets/controls",
            "_model_module_version": "1.5.0",
            "value": " 6144/? [00:00&lt;00:00, 145151.74it/s]",
            "_view_count": null,
            "_view_module_version": "1.5.0",
            "description_tooltip": null,
            "_model_module": "@jupyter-widgets/controls",
            "layout": "IPY_MODEL_5b3ff5037e8948768a2304f3463030ae"
          }
        },
        "c7c2da46eefc4a61bad339d701f1639a": {
          "model_module": "@jupyter-widgets/controls",
          "model_name": "DescriptionStyleModel",
          "model_module_version": "1.5.0",
          "state": {
            "_view_name": "StyleView",
            "_model_name": "DescriptionStyleModel",
            "description_width": "",
            "_view_module": "@jupyter-widgets/base",
            "_model_module_version": "1.5.0",
            "_view_count": null,
            "_view_module_version": "1.2.0",
            "_model_module": "@jupyter-widgets/controls"
          }
        },
        "fcb8b2d07487483791ab9d041603f2b1": {
          "model_module": "@jupyter-widgets/base",
          "model_name": "LayoutModel",
          "model_module_version": "1.2.0",
          "state": {
            "_view_name": "LayoutView",
            "grid_template_rows": null,
            "right": null,
            "justify_content": null,
            "_view_module": "@jupyter-widgets/base",
            "overflow": null,
            "_model_module_version": "1.2.0",
            "_view_count": null,
            "flex_flow": null,
            "width": null,
            "min_width": null,
            "border": null,
            "align_items": null,
            "bottom": null,
            "_model_module": "@jupyter-widgets/base",
            "top": null,
            "grid_column": null,
            "overflow_y": null,
            "overflow_x": null,
            "grid_auto_flow": null,
            "grid_area": null,
            "grid_template_columns": null,
            "flex": null,
            "_model_name": "LayoutModel",
            "justify_items": null,
            "grid_row": null,
            "max_height": null,
            "align_content": null,
            "visibility": null,
            "align_self": null,
            "height": null,
            "min_height": null,
            "padding": null,
            "grid_auto_rows": null,
            "grid_gap": null,
            "max_width": null,
            "order": null,
            "_view_module_version": "1.2.0",
            "grid_template_areas": null,
            "object_position": null,
            "object_fit": null,
            "grid_auto_columns": null,
            "margin": null,
            "display": null,
            "left": null
          }
        },
        "61950c34f1914db8a5708bdc5ad0c922": {
          "model_module": "@jupyter-widgets/controls",
          "model_name": "ProgressStyleModel",
          "model_module_version": "1.5.0",
          "state": {
            "_view_name": "StyleView",
            "_model_name": "ProgressStyleModel",
            "description_width": "",
            "_view_module": "@jupyter-widgets/base",
            "_model_module_version": "1.5.0",
            "_view_count": null,
            "_view_module_version": "1.2.0",
            "bar_color": null,
            "_model_module": "@jupyter-widgets/controls"
          }
        },
        "a3d11ebab747411088976eb5aaaedccd": {
          "model_module": "@jupyter-widgets/base",
          "model_name": "LayoutModel",
          "model_module_version": "1.2.0",
          "state": {
            "_view_name": "LayoutView",
            "grid_template_rows": null,
            "right": null,
            "justify_content": null,
            "_view_module": "@jupyter-widgets/base",
            "overflow": null,
            "_model_module_version": "1.2.0",
            "_view_count": null,
            "flex_flow": null,
            "width": null,
            "min_width": null,
            "border": null,
            "align_items": null,
            "bottom": null,
            "_model_module": "@jupyter-widgets/base",
            "top": null,
            "grid_column": null,
            "overflow_y": null,
            "overflow_x": null,
            "grid_auto_flow": null,
            "grid_area": null,
            "grid_template_columns": null,
            "flex": null,
            "_model_name": "LayoutModel",
            "justify_items": null,
            "grid_row": null,
            "max_height": null,
            "align_content": null,
            "visibility": null,
            "align_self": null,
            "height": null,
            "min_height": null,
            "padding": null,
            "grid_auto_rows": null,
            "grid_gap": null,
            "max_width": null,
            "order": null,
            "_view_module_version": "1.2.0",
            "grid_template_areas": null,
            "object_position": null,
            "object_fit": null,
            "grid_auto_columns": null,
            "margin": null,
            "display": null,
            "left": null
          }
        },
        "e2886281e3d5427fa44090206f888060": {
          "model_module": "@jupyter-widgets/controls",
          "model_name": "DescriptionStyleModel",
          "model_module_version": "1.5.0",
          "state": {
            "_view_name": "StyleView",
            "_model_name": "DescriptionStyleModel",
            "description_width": "",
            "_view_module": "@jupyter-widgets/base",
            "_model_module_version": "1.5.0",
            "_view_count": null,
            "_view_module_version": "1.2.0",
            "_model_module": "@jupyter-widgets/controls"
          }
        },
        "5b3ff5037e8948768a2304f3463030ae": {
          "model_module": "@jupyter-widgets/base",
          "model_name": "LayoutModel",
          "model_module_version": "1.2.0",
          "state": {
            "_view_name": "LayoutView",
            "grid_template_rows": null,
            "right": null,
            "justify_content": null,
            "_view_module": "@jupyter-widgets/base",
            "overflow": null,
            "_model_module_version": "1.2.0",
            "_view_count": null,
            "flex_flow": null,
            "width": null,
            "min_width": null,
            "border": null,
            "align_items": null,
            "bottom": null,
            "_model_module": "@jupyter-widgets/base",
            "top": null,
            "grid_column": null,
            "overflow_y": null,
            "overflow_x": null,
            "grid_auto_flow": null,
            "grid_area": null,
            "grid_template_columns": null,
            "flex": null,
            "_model_name": "LayoutModel",
            "justify_items": null,
            "grid_row": null,
            "max_height": null,
            "align_content": null,
            "visibility": null,
            "align_self": null,
            "height": null,
            "min_height": null,
            "padding": null,
            "grid_auto_rows": null,
            "grid_gap": null,
            "max_width": null,
            "order": null,
            "_view_module_version": "1.2.0",
            "grid_template_areas": null,
            "object_position": null,
            "object_fit": null,
            "grid_auto_columns": null,
            "margin": null,
            "display": null,
            "left": null
          }
        }
      }
    }
  },
  "cells": [
    {
      "cell_type": "markdown",
      "metadata": {
        "id": "rSPCHFaffGF-"
      },
      "source": [
        "# A Brief Introduction to PyTorch\n",
        "\n",
        "In this tutorial, we try to introduce the key codes and explanation for\n",
        "basic usage of pytorch. \n",
        "\n",
        "1. Tensor manipulation and typical loss calculation\n",
        "1. Autograd\n",
        "1. Optimizer\n",
        "1. Modules\n",
        "1. Datasets and DataLoader\n",
        "1. Train on GPU and parallel on GPU\n",
        "\n",
        "Credits:\n",
        "\n",
        "Most codes are after the [David Bau](https://github.com/davidbau/how-to-read-pytorch), [PyTorch Official Tutorial](https://pytorch.org/tutorials/)\n"
      ]
    },
    {
      "cell_type": "markdown",
      "metadata": {
        "id": "kHRCslIMgL5k"
      },
      "source": [
        "## Section 1. Tensor manipulation and typical loss calculation\n",
        "---------------------------------------------------------------\n",
        "* New tensors\n",
        "* Elementwise operations\n",
        "* linear algebra\n",
        "* loss function\n",
        "* Autograd"
      ]
    },
    {
      "cell_type": "markdown",
      "metadata": {
        "id": "y4DtvibvhXCf"
      },
      "source": [
        "### create torch.tensor\n",
        "\n",
        "A torch.Tensor is a multi-dimensional matrix containing elements of a single data type. Typical data types of element  are torch.float, torch.long. "
      ]
    },
    {
      "cell_type": "code",
      "metadata": {
        "colab": {
          "base_uri": "https://localhost:8080/"
        },
        "id": "rExdVB6SfCKH",
        "outputId": "e5e418df-f3ad-4d7a-cd7a-f4bf001fe4c1"
      },
      "source": [
        "import torch\n",
        "import numpy as np\n",
        "\n",
        "# from list, numpy array\n",
        "tensor_1 = torch.tensor([[1., -1.], [1., -1.]])\n",
        "tensor_2 = torch.tensor(np.array([[1, 2, 3], [4, 5, 6]]))\n",
        "\n",
        "print('Tensor 1\\n', tensor_1)\n",
        "print('Tensor 2\\n', tensor_2)\n",
        "\n",
        "# ones, eyes, zeros\n",
        "tensor_3 = torch.zeros([2, 4], dtype=torch.int32)  \n",
        "tensor_4 = torch.eye(3)\n",
        "tensor_5 = torch.ones(3)\n",
        "\n",
        "print('Tensor 3\\n', tensor_3)\n",
        "print('Tensor 4\\n', tensor_4)\n",
        "print('Tensor 5\\n', tensor_5)\n",
        "\n",
        "# from existed tensor\n",
        "tensor_6 = torch.clone(tensor_5)\n",
        "print(\"Tensor 6: a copy of tensor 5\\n\", tensor_6)\n",
        " \n",
        "# Make a vector of 101 equally spaced numbers from 0 to 5.\n",
        "x = torch.linspace(0, 5, 101)\n",
        "\n",
        "# Print the first five things in x.\n",
        "print('Create tensor by Linear space\\n',x[:5])"
      ],
      "execution_count": null,
      "outputs": [
        {
          "output_type": "stream",
          "name": "stdout",
          "text": [
            "Tensor 1\n",
            " tensor([[ 1., -1.],\n",
            "        [ 1., -1.]])\n",
            "Tensor 2\n",
            " tensor([[1, 2, 3],\n",
            "        [4, 5, 6]])\n",
            "Tensor 3\n",
            " tensor([[0, 0, 0, 0],\n",
            "        [0, 0, 0, 0]], dtype=torch.int32)\n",
            "Tensor 4\n",
            " tensor([[1., 0., 0.],\n",
            "        [0., 1., 0.],\n",
            "        [0., 0., 1.]])\n",
            "Tensor 5\n",
            " tensor([1., 1., 1.])\n",
            "Tensor 6: a copy of tensor 5\n",
            " tensor([1., 1., 1.])\n",
            "Create tensor by Linear space\n",
            " tensor([0.0000, 0.0500, 0.1000, 0.1500, 0.2000])\n"
          ]
        }
      ]
    },
    {
      "cell_type": "markdown",
      "metadata": {
        "id": "kjZv7EA2onPk"
      },
      "source": [
        "### Elementwise operations\n",
        "\n",
        "For example, x+y, x*y, x.abs(), x.pow(3)"
      ]
    },
    {
      "cell_type": "code",
      "metadata": {
        "colab": {
          "base_uri": "https://localhost:8080/",
          "height": 352
        },
        "id": "v65st542iB0e",
        "outputId": "91bb6d01-28ae-42c7-8f16-612fcd2e044c"
      },
      "source": [
        "import matplotlib.pyplot as plt\n",
        "\n",
        "x = torch.linspace(0, 5, 101)\n",
        "#y1, y2 = x.sin(), x ** x.cos()\n",
        "y1,y2 = torch.sin(x), x**torch.cos(x)\n",
        "y3 = y2 - y1\n",
        "y4 = y3.min()\n",
        "\n",
        "# Print and plot some answers.\n",
        "print(f'The shape of x is {x.shape}')\n",
        "print(f'The shape of y1=x.sin() is {y1.shape}')\n",
        "print(f'The shape of y2=x ** x.cos() is {y2.shape}')\n",
        "print(f'The shape of y3=y2 - y1 is {y3.shape}')\n",
        "print(f'The shape of y4=y3.min() is {y4.shape}, a zero-d scalar')\n",
        "\n",
        "plt.plot(x, y1, 'red', x, y2, 'blue', x, y3, 'green')\n",
        "plt.axhline(y4, color='green', linestyle='--')\n",
        "plt.show()"
      ],
      "execution_count": null,
      "outputs": [
        {
          "output_type": "stream",
          "name": "stdout",
          "text": [
            "The shape of x is torch.Size([101])\n",
            "The shape of y1=x.sin() is torch.Size([101])\n",
            "The shape of y2=x ** x.cos() is torch.Size([101])\n",
            "The shape of y3=y2 - y1 is torch.Size([101])\n",
            "The shape of y4=y3.min() is torch.Size([]), a zero-d scalar\n"
          ]
        },
        {
          "output_type": "display_data",
          "data": {
            "image/png": "[encoded data removed]",
            "text/plain": [
              "<Figure size 432x288 with 1 Axes>"
            ]
          },
          "metadata": {
            "needs_background": "light"
          }
        }
      ]
    },
    {
      "cell_type": "markdown",
      "metadata": {
        "id": "HRwrjQzJI-DF"
      },
      "source": [
        "### linear algebra"
      ]
    },
    {
      "cell_type": "code",
      "metadata": {
        "colab": {
          "base_uri": "https://localhost:8080/"
        },
        "id": "wWNpMQFfJJbf",
        "outputId": "6d477dfb-f47c-43e4-b529-ccdc33cf94d8"
      },
      "source": [
        "A = torch.tensor([[1,2],[3,4]])\n",
        "B = torch.tensor([[1,1],[1,1]])\n",
        "x = torch.tensor([1,1])\n",
        "print(A.mm(B))       # matrix multiplication [dim1,dim2], [dim3,dim4]\n",
        "print(A.mv(x))       # matrix-vector multiplication [dim1, dim2], [dim3]\n",
        "print(x.t())         # matrix transpose\n"
      ],
      "execution_count": null,
      "outputs": [
        {
          "output_type": "stream",
          "name": "stdout",
          "text": [
            "tensor([[3, 3],\n",
            "        [7, 7]])\n",
            "tensor([3, 7])\n",
            "tensor([1, 1])\n"
          ]
        }
      ]
    },
    {
      "cell_type": "markdown",
      "source": [
        "### linear Regression with Ordinary Least Square\n",
        "\n",
        "Given $\\mathbf{X}$ and $\\mathbf{Y}$, find a $\\mathbf{w}$ such that  $\\mathbf{Xw}=\\mathbf{Y}$\n",
        "\n",
        "Derivative approach: $$\n",
        "J(\\mathbf{w})=\\frac{1}{N}\\|\\mathbf{Y}-\\mathbf{X} \\mathbf{w}\\|_{2}^{2}\n",
        "$$\n",
        "\n",
        "$$\n",
        "\\nabla J(\\mathbf{w})=\\frac{1}{N}\\left(2 \\mathbf{X}^{\\top} \\mathbf{X} \\mathbf{w}-2 \\mathbf{X}^{\\top} \\mathbf{Y}\\right)\n",
        "$$\n",
        "\n",
        "$$\\nabla J(\\mathbf{w})=0 ⇒ \n",
        "\\hat{\\mathbf{w}}=\\left(\\mathbf{X}^{\\top} \\mathbf{X}\\right)^{-1} \\mathbf{X}^{\\top} \\mathbf{Y}\n",
        "$$"
      ],
      "metadata": {
        "id": "bIwY4WKMnLhH"
      }
    },
    {
      "cell_type": "code",
      "source": [
        "x = torch.tensor([0, 1, 2, 3])\n",
        "y = torch.tensor([-1, 0.2, 0.9, 2.1])\n",
        "\n",
        "X = torch.stack([x, torch.ones(len(x))]).T # including the constant term\n",
        "y = y.view(-1,1)  # change to a matrix\n",
        "\n",
        "\n",
        "w = torch.inverse(X.T.mm(X)).mm(X.T).mm(y) # OLS calculation\n",
        " \n",
        "y_pred = (X.mm(w)).numpy() # prediction \n",
        "\n",
        "import matplotlib.pyplot as plt\n",
        "plt.plot(x, y, 'o', label='Original data', markersize=10)\n",
        "plt.plot(x, y_pred, 'r', label='Fitted line')\n",
        "plt.legend()\n",
        "plt.show()"
      ],
      "metadata": {
        "colab": {
          "base_uri": "https://localhost:8080/",
          "height": 265
        },
        "id": "oyMqAPt7nWwt",
        "outputId": "6a60d7c3-c29b-4945-84a7-65e47b6b32f4"
      },
      "execution_count": null,
      "outputs": [
        {
          "output_type": "display_data",
          "data": {
            "image/png": "[encoded data removed]",
            "text/plain": [
              "<Figure size 432x288 with 1 Axes>"
            ]
          },
          "metadata": {
            "needs_background": "light"
          }
        }
      ]
    },
    {
      "cell_type": "markdown",
      "source": [
        "#### Solve OLS by numpy"
      ],
      "metadata": {
        "id": "hEDl7leFkK6S"
      }
    },
    {
      "cell_type": "code",
      "source": [
        "x = np.array([0, 1, 2, 3])\n",
        "y = np.array([-1, 0.2, 0.9, 2.1])\n",
        "\n",
        "A = np.vstack([x, np.ones(len(x))]).T\n",
        "\n",
        "m, c = np.linalg.lstsq(A, y, rcond=None)[0]\n",
        "\n",
        "import matplotlib.pyplot as plt\n",
        "plt.plot(x, y, 'o', label='Original data', markersize=10)\n",
        "plt.plot(x, m*x + c, 'r', label='Fitted line')\n",
        "plt.legend()\n",
        "plt.show()"
      ],
      "metadata": {
        "colab": {
          "base_uri": "https://localhost:8080/",
          "height": 265
        },
        "id": "tgH05AD9kOj1",
        "outputId": "aefcb315-15bc-40f6-f6f0-9deefd11606d"
      },
      "execution_count": null,
      "outputs": [
        {
          "output_type": "display_data",
          "data": {
            "image/png": "[encoded data removed]",
            "text/plain": [
              "<Figure size 432x288 with 1 Axes>"
            ]
          },
          "metadata": {
            "needs_background": "light"
          }
        }
      ]
    },
    {
      "cell_type": "markdown",
      "metadata": {
        "id": "Y2sPI9H7Je6C"
      },
      "source": [
        "### loss function"
      ]
    },
    {
      "cell_type": "code",
      "metadata": {
        "colab": {
          "base_uri": "https://localhost:8080/"
        },
        "id": "Qk6pLSnYJifj",
        "outputId": "1d224750-1707-4f48-c7d1-64a18785ae16"
      },
      "source": [
        "#nn.X                                  # where X is BCELoss, CrossEntropyLoss,\n",
        "                                      # L1Loss, MSELoss, NLLLoss, SoftMarginLoss,\n",
        "                                      # MultiLabelSoftMarginLoss, CosineEmbeddingLoss,\n",
        "                                      # KLDivLoss, MarginRankingLoss, HingeEmbeddingLoss\n",
        "                                      # or CosineEmbeddingLoss\n",
        "x = torch.tensor([[1.,2.],[3.,4.]]) # logits (prepared for softmax, usually is wx)\n",
        "y = torch.tensor([0,1])             # label\n",
        "print(torch.nn.CrossEntropyLoss()(x,y)) # calculate the cross entropy loss \n",
        "# multi-class classification\n",
        "\n",
        "x = torch.tensor([0.2, 0.7])          # value after sigmoid\n",
        "y = torch.tensor([0.,1.])             # label\n",
        "print(torch.nn.BCELoss()(x,y))        # calculate the binary cross entropy loss \n",
        "# binary classification"
      ],
      "execution_count": null,
      "outputs": [
        {
          "output_type": "stream",
          "name": "stdout",
          "text": [
            "tensor(0.8133)\n",
            "tensor(0.2899)\n"
          ]
        }
      ]
    },
    {
      "cell_type": "markdown",
      "metadata": {
        "id": "9KqkOo8b_RRo"
      },
      "source": [
        "### Autograd\n",
        "--------------------\n",
        "\n",
        "If set 'x.requires_grad=True', pytorch will automatically keep tracking the computational history of the tensors derived from 'x'. Thus, pytorch is able to provide the derivatives of 'x' based on computation. \n",
        "\n",
        "The function `torch.autograd.grad(output_scalar, [list of input_tensors])` computes `d(output_scalar)/d(input_tensor)` for each input tensor component in the list.  For it to work, the input tensors and output must be part of the same `requires_grad=True` compuation.\n",
        "\n",
        "In the example above, `x` is explicitly marked `requires_grad=True`, so `y.sum()`, which is derived from `x`, automatically comes along with the computation history, and can be differentiated."
      ]
    },
    {
      "cell_type": "code",
      "metadata": {
        "colab": {
          "base_uri": "https://localhost:8080/",
          "height": 265
        },
        "id": "oNdoA812-g1l",
        "outputId": "8a3134bb-85a0-46fc-f4e3-e7e097f5d34c"
      },
      "source": [
        "import torch\n",
        "from matplotlib import pyplot as plt\n",
        "\n",
        "x = torch.linspace(0, 5, 100, requires_grad=True)\n",
        "y = (x**2).cos()\n",
        "dydx = torch.autograd.grad(y.sum(), [x])[0]\n",
        "\n",
        "plt.plot(x.detach(), y.detach(), label='y')\n",
        "plt.plot(x.detach(), dydx, label='dy/dx')\n",
        "plt.legend()\n",
        "plt.show()"
      ],
      "execution_count": null,
      "outputs": [
        {
          "output_type": "display_data",
          "data": {
            "image/png": "[encoded data removed]",
            "text/plain": [
              "<Figure size 432x288 with 1 Axes>"
            ]
          },
          "metadata": {
            "needs_background": "light"
          }
        }
      ]
    },
    {
      "cell_type": "markdown",
      "metadata": {
        "id": "Sfh6_wGA_YRy"
      },
      "source": [
        "#### Backprop and In-place gradients\n",
        "-------------------------------\n",
        "\n",
        "Typical way to obtain the gradient is via `backward()`.\n",
        "\n",
        "**Using `backward()` to add `.grad` attributes.** To simplify this common operation, pytorch provides the `y.backward()` method, which computes the gradients of y with respect to every tracked dependency, and stores the results in the field `x.grad` for every original input vector `x` that was marked as `requires_grad=True`."
      ]
    },
    {
      "cell_type": "code",
      "metadata": {
        "colab": {
          "base_uri": "https://localhost:8080/",
          "height": 612
        },
        "id": "bInXJe2DppvJ",
        "outputId": "a813d4df-8e76-4c6c-fe6a-bd3c6fc049bf"
      },
      "source": [
        "x = torch.linspace(0, 5, 100, requires_grad=True)\n",
        "y = (x**2).cos()\n",
        "y.sum().backward()   # populates the grad attribute below.\n",
        "print(x.grad)\n",
        "\n",
        "plt.plot(x.detach(), y.detach(), label='y')\n",
        "plt.plot(x.detach(), x.grad, label='dy/dx')\n",
        "plt.legend()\n",
        "plt.show()"
      ],
      "execution_count": null,
      "outputs": [
        {
          "output_type": "stream",
          "name": "stdout",
          "text": [
            "tensor([-0.0000e+00, -2.5765e-04, -2.0612e-03, -6.9560e-03, -1.6485e-02,\n",
            "        -3.2185e-02, -5.5575e-02, -8.8145e-02, -1.3133e-01, -1.8650e-01,\n",
            "        -2.5487e-01, -3.3752e-01, -4.3528e-01, -5.4869e-01, -6.7791e-01,\n",
            "        -8.2262e-01, -9.8193e-01, -1.1543e+00, -1.3373e+00, -1.5279e+00,\n",
            "        -1.7218e+00, -1.9138e+00, -2.0978e+00, -2.2665e+00, -2.4118e+00,\n",
            "        -2.5246e+00, -2.5954e+00, -2.6144e+00, -2.5720e+00, -2.4592e+00,\n",
            "        -2.2684e+00, -1.9940e+00, -1.6330e+00, -1.1861e+00, -6.5843e-01,\n",
            "        -5.9786e-02,  5.9438e-01,  1.2829e+00,  1.9791e+00,  2.6508e+00,\n",
            "         3.2620e+00,  3.7737e+00,  4.1467e+00,  4.3434e+00,  4.3315e+00,\n",
            "         4.0872e+00,  3.5983e+00,  2.8676e+00,  1.9159e+00,  7.8273e-01,\n",
            "        -4.7262e-01, -1.7729e+00, -3.0265e+00, -4.1327e+00, -4.9894e+00,\n",
            "        -5.5028e+00, -5.5970e+00, -5.2252e+00, -4.3782e+00, -3.0925e+00,\n",
            "        -1.4526e+00,  4.1007e-01,  2.3249e+00,  4.0956e+00,  5.5192e+00,\n",
            "         6.4094e+00,  6.6222e+00,  6.0798e+00,  4.7897e+00,  2.8560e+00,\n",
            "         4.7794e-01, -2.0646e+00, -4.4405e+00, -6.3087e+00, -7.3680e+00,\n",
            "        -7.4080e+00, -6.3531e+00, -4.2917e+00, -1.4813e+00,  1.6739e+00,\n",
            "         4.6748e+00,  7.0040e+00,  8.2157e+00,  8.0255e+00,  6.3823e+00,\n",
            "         3.5034e+00, -1.3781e-01, -3.8789e+00, -6.9824e+00, -8.7814e+00,\n",
            "        -8.8286e+00, -7.0156e+00, -3.6318e+00,  6.6059e-01,  4.9416e+00,\n",
            "         8.2239e+00,  9.6828e+00,  8.8724e+00,  5.8738e+00,  1.3235e+00])\n"
          ]
        },
        {
          "output_type": "display_data",
          "data": {
            "image/png": "[encoded data removed]",
            "text/plain": [
              "<Figure size 432x288 with 1 Axes>"
            ]
          },
          "metadata": {
            "needs_background": "light"
          }
        }
      ]
    },
    {
      "cell_type": "markdown",
      "metadata": {
        "id": "RH5uRTKpOGIh"
      },
      "source": [
        "## Section 2. Optimizer\n",
        "-----------\n"
      ]
    },
    {
      "cell_type": "code",
      "metadata": {
        "colab": {
          "base_uri": "https://localhost:8080/",
          "height": 350
        },
        "id": "vMxfsdQh__To",
        "outputId": "9308c03a-1a96-4d6a-a783-1ed09ba97742",
        "cellView": "code"
      },
      "source": [
        "import torch\n",
        "\n",
        "#@title Run this cell to setup visualization...\n",
        "# This cell defines plot_progress() which plots an optimization trace.\n",
        "\n",
        "import matplotlib\n",
        "from matplotlib import pyplot as plt\n",
        "\n",
        "# This function is to facilitate the plot, just skip it.\n",
        "def plot_progress(bowl, track, losses):\n",
        "    # Draw the contours of the objective function, and x, and y\n",
        "    fig, (ax1, ax2) = plt.subplots(1,2, figsize=(12, 5))\n",
        "    for size in torch.linspace(0.1, 1.0, 10):\n",
        "        angle = torch.linspace(0, 6.3, 100)\n",
        "        circle = torch.stack([angle.sin(), angle.cos()])\n",
        "        ellipse = torch.mm(torch.inverse(bowl), circle) * size\n",
        "        ax1.plot(ellipse[0,:], ellipse[1,:], color='skyblue')\n",
        "    track = torch.stack(track).t()\n",
        "    ax1.set_title('progress of x')\n",
        "    ax1.plot(track[0,:], track[1,:], marker='o')\n",
        "    ax1.set_ylim(-1, 1)\n",
        "    ax1.set_xlim(-1.6, 1.6)\n",
        "    ax1.set_ylabel('x[1]')\n",
        "    ax1.set_xlabel('x[0]')\n",
        "    ax2.set_title('progress of y')\n",
        "    ax2.xaxis.set_major_locator(matplotlib.ticker.MaxNLocator(integer=True))\n",
        "    ax2.plot(range(len(losses)), losses, marker='o')\n",
        "    ax2.set_ylabel('objective')\n",
        "    ax2.set_xlabel('iteration')\n",
        "    fig.show()\n",
        "\n",
        "x_init = torch.randn(2)\n",
        "x = x_init.clone()\n",
        "x.requires_grad = True\n",
        "optimizer = torch.optim.SGD([x], lr=0.1, momentum=0.5)\n",
        "\n",
        "bowl = torch.tensor([[ 0.4410, -1.0317], [-0.2844, -0.1035]])\n",
        "track, losses = [], []\n",
        "\n",
        "for iter in range(50):\n",
        "    objective = torch.mm(bowl, x[:,None]).norm()   # calculate the loss\n",
        "    optimizer.zero_grad()           # zero_grad : make the grad to 0\n",
        "    objective.backward()            # backward: back propagation, new - grad\n",
        "    optimizer.step()                # step : gradient, x = x - lr*x.grad\n",
        "    \n",
        "    track.append(x.detach().clone())\n",
        "    losses.append(objective.detach())\n",
        "    \n",
        "plot_progress(bowl, track, losses)"
      ],
      "execution_count": null,
      "outputs": [
        {
          "output_type": "display_data",
          "data": {
            "image/png": "[encoded data removed]",
            "text/plain": [
              "<Figure size 864x360 with 2 Axes>"
            ]
          },
          "metadata": {
            "needs_background": "light"
          }
        }
      ]
    },
    {
      "cell_type": "code",
      "metadata": {
        "colab": {
          "base_uri": "https://localhost:8080/",
          "height": 350
        },
        "id": "x-tLIL9EBBUo",
        "outputId": "d160249f-26b2-4c26-e917-19989bba897e"
      },
      "source": [
        "# The code below uses Adam\n",
        "x = x_init.clone()\n",
        "x.requires_grad = True\n",
        "optimizer = torch.optim.Adam([x], lr=0.1)\n",
        "\n",
        "track, losses = [], []\n",
        "\n",
        "for iter in range(50):\n",
        "    objective = torch.mm(bowl, x[:,None]).norm()\n",
        "    optimizer.zero_grad()\n",
        "    objective.backward()\n",
        "    optimizer.step()\n",
        "    track.append(x.detach().clone())\n",
        "    losses.append(objective.detach())\n",
        "    \n",
        "plot_progress(bowl, track, losses)"
      ],
      "execution_count": null,
      "outputs": [
        {
          "output_type": "display_data",
          "data": {
            "image/png": "[encoded data removed]",
            "text/plain": [
              "<Figure size 864x360 with 2 Axes>"
            ]
          },
          "metadata": {
            "needs_background": "light"
          }
        }
      ]
    },
    {
      "cell_type": "markdown",
      "metadata": {
        "id": "sthhFng0DJxu"
      },
      "source": [
        "## Section 3. Modules\n",
        "----------------------------\n",
        "\n",
        "The linear layer is a good starting example: it is the fundmental workhorse of all neural networks, so as simple as it is, it is worth examining carefully.\n",
        "\n",
        "`torch.nn.Linear` implements the function `y = Ax + b`, which takes m-dimensional input `x` and produces n-dimensional output `y`, by multiplying by the n &times; m matrix `A` (whose specific values are called the `weight`) and adding n-dimensional vector `b` (whose values are called the `bias`).  We can make a Linear network with 3d input and 2d output just like this:\n"
      ]
    },
    {
      "cell_type": "code",
      "metadata": {
        "colab": {
          "base_uri": "https://localhost:8080/"
        },
        "id": "jLMk6ES2B_qC",
        "outputId": "14993423-2bee-48c8-901e-f33f0b6bf8b2"
      },
      "source": [
        "import torch\n",
        "net = torch.nn.Linear(3, 2)\n",
        "print(net)"
      ],
      "execution_count": null,
      "outputs": [
        {
          "output_type": "stream",
          "name": "stdout",
          "text": [
            "Linear(in_features=3, out_features=2, bias=True)\n"
          ]
        }
      ]
    },
    {
      "cell_type": "code",
      "metadata": {
        "colab": {
          "base_uri": "https://localhost:8080/"
        },
        "id": "qNc3NaSlCBTh",
        "outputId": "b15db649-2bcd-4fbc-c602-ed179ceaef8c"
      },
      "source": [
        "net(torch.tensor([[1.0, 0.0, 0.0]]))"
      ],
      "execution_count": null,
      "outputs": [
        {
          "output_type": "execute_result",
          "data": {
            "text/plain": [
              "tensor([[0.0313, 0.3172]], grad_fn=<AddmmBackward0>)"
            ]
          },
          "metadata": {},
          "execution_count": 15
        }
      ]
    },
    {
      "cell_type": "code",
      "metadata": {
        "colab": {
          "base_uri": "https://localhost:8080/"
        },
        "id": "jk9zr4yNDQMM",
        "outputId": "b9786240-8d8c-4e72-f151-41573e332a1b"
      },
      "source": [
        "x_batch = torch.tensor([\n",
        "    [1.0, 0. , 0. ],\n",
        "    [0. , 1.0, 0. ],\n",
        "    [0. , 0. , 1.0],\n",
        "    [0. , 0. , 0. ],\n",
        "])\n",
        "net(x_batch)"
      ],
      "execution_count": null,
      "outputs": [
        {
          "output_type": "execute_result",
          "data": {
            "text/plain": [
              "tensor([[0.0313, 0.3172],\n",
              "        [0.1884, 0.5358],\n",
              "        [0.2768, 0.7898],\n",
              "        [0.1886, 0.5496]], grad_fn=<AddmmBackward0>)"
            ]
          },
          "metadata": {},
          "execution_count": 16
        }
      ]
    },
    {
      "cell_type": "code",
      "metadata": {
        "colab": {
          "base_uri": "https://localhost:8080/"
        },
        "id": "UIzHt-oHDTth",
        "outputId": "e4916bc8-58ca-4d0f-e47d-0c44ebae0936"
      },
      "source": [
        "print('weight is', net.weight)\n",
        "print('bias is', net.bias)"
      ],
      "execution_count": null,
      "outputs": [
        {
          "output_type": "stream",
          "name": "stdout",
          "text": [
            "weight is Parameter containing:\n",
            "tensor([[-1.5726e-01, -1.8438e-04,  8.8215e-02],\n",
            "        [-2.3236e-01, -1.3768e-02,  2.4022e-01]], requires_grad=True)\n",
            "bias is Parameter containing:\n",
            "tensor([0.1886, 0.5496], requires_grad=True)\n"
          ]
        }
      ]
    },
    {
      "cell_type": "code",
      "metadata": {
        "colab": {
          "base_uri": "https://localhost:8080/"
        },
        "id": "WedmD6tdDZCn",
        "outputId": "b1cd694b-149b-466a-8c40-1069fd314713"
      },
      "source": [
        "for name, param in net.named_parameters():\n",
        "    print(f'{name} = {param}\\n')"
      ],
      "execution_count": null,
      "outputs": [
        {
          "output_type": "stream",
          "name": "stdout",
          "text": [
            "weight = Parameter containing:\n",
            "tensor([[-1.5726e-01, -1.8438e-04,  8.8215e-02],\n",
            "        [-2.3236e-01, -1.3768e-02,  2.4022e-01]], requires_grad=True)\n",
            "\n",
            "bias = Parameter containing:\n",
            "tensor([0.1886, 0.5496], requires_grad=True)\n",
            "\n"
          ]
        }
      ]
    },
    {
      "cell_type": "code",
      "metadata": {
        "colab": {
          "base_uri": "https://localhost:8080/"
        },
        "id": "w_l5B8YTDaJL",
        "outputId": "f00070d0-2952-41bf-cd2f-a9a7161c2bd1"
      },
      "source": [
        "for k, v in net.state_dict().items():\n",
        "    print(f'{k}: {v.type()}{tuple(v.shape)}')\n",
        "\n",
        "import os\n",
        "os.makedirs('checkpoints', exist_ok=True)\n",
        "torch.save(net.state_dict(), 'checkpoints/linear.pth')"
      ],
      "execution_count": null,
      "outputs": [
        {
          "output_type": "stream",
          "name": "stdout",
          "text": [
            "weight: torch.FloatTensor(2, 3)\n",
            "bias: torch.FloatTensor(2,)\n"
          ]
        }
      ]
    },
    {
      "cell_type": "code",
      "metadata": {
        "colab": {
          "base_uri": "https://localhost:8080/"
        },
        "id": "JyUylORLDc_p",
        "outputId": "72b7a95e-5f99-4975-ea23-5ddd068687a3"
      },
      "source": [
        "# Then later, to remember the state\n",
        "net.load_state_dict(torch.load('checkpoints/linear.pth'))"
      ],
      "execution_count": null,
      "outputs": [
        {
          "output_type": "execute_result",
          "data": {
            "text/plain": [
              "<All keys matched successfully>"
            ]
          },
          "metadata": {},
          "execution_count": 20
        }
      ]
    },
    {
      "cell_type": "code",
      "metadata": {
        "colab": {
          "base_uri": "https://localhost:8080/"
        },
        "id": "9UqYjCieDfA2",
        "outputId": "0d31c14d-5787-4dbd-f864-c01c8363a448"
      },
      "source": [
        "y_batch = net(x_batch)\n",
        "loss = ((y_batch - torch.tensor([[1.0, 1.0]])) ** 2).sum(1).mean()\n",
        "print(f'loss is {loss}')"
      ],
      "execution_count": null,
      "outputs": [
        {
          "output_type": "stream",
          "name": "stdout",
          "text": [
            "loss is 0.926825225353241\n"
          ]
        }
      ]
    },
    {
      "cell_type": "code",
      "metadata": {
        "colab": {
          "base_uri": "https://localhost:8080/"
        },
        "id": "3JRMpp9JDk8S",
        "outputId": "ca2b869d-876f-42db-9a0a-ee8f9a634518"
      },
      "source": [
        "loss.backward()\n",
        "print(f'weight is {net.weight} and grad is:\\n{net.weight.grad}\\n')\n",
        "print(f'bias is {net.bias} and grad is:\\n{net.bias.grad}\\n')"
      ],
      "execution_count": null,
      "outputs": [
        {
          "output_type": "stream",
          "name": "stdout",
          "text": [
            "weight is Parameter containing:\n",
            "tensor([[-1.5726e-01, -1.8438e-04,  8.8215e-02],\n",
            "        [-2.3236e-01, -1.3768e-02,  2.4022e-01]], requires_grad=True) and grad is:\n",
            "tensor([[-0.4843, -0.4058, -0.3616],\n",
            "        [-0.3414, -0.2321, -0.1051]])\n",
            "\n",
            "bias is Parameter containing:\n",
            "tensor([0.1886, 0.5496], requires_grad=True) and grad is:\n",
            "tensor([-1.6575, -0.9038])\n",
            "\n"
          ]
        }
      ]
    },
    {
      "cell_type": "code",
      "metadata": {
        "colab": {
          "base_uri": "https://localhost:8080/",
          "height": 418
        },
        "id": "C5lgNGwtDlls",
        "outputId": "ff61258c-0baf-4705-a45e-5dcaac760b61"
      },
      "source": [
        "net = torch.nn.Linear(3, 2)\n",
        "log = []\n",
        "optimizer = torch.optim.SGD(net.parameters(), lr=0.001, momentum=0.5)\n",
        "for _ in range(10000):\n",
        "    y_batch = net(x_batch)\n",
        "    loss = ((y_batch - torch.tensor([[1.0, 1.0]])) ** 2).sum(1).mean() # loss\n",
        "    log.append(loss.item())\n",
        "    \n",
        "    optimizer.zero_grad() # zero_grad\n",
        "    loss.backward()       # back propagation\n",
        "    optimizer.step()      # update parameters\n",
        "    \n",
        "    # if without using optimizer\n",
        "    # net.zero_grad()\n",
        "    # loss.backward()\n",
        "    # with torch.no_grad():\n",
        "    #     for p in net.parameters():\n",
        "    #         p -= 0.01 * p.grad\n",
        "print(f'weight is {net.weight}\\n')\n",
        "print(f'bias is {net.bias}\\n')\n",
        "\n",
        "%matplotlib inline\n",
        "import matplotlib.pyplot as plt\n",
        "plt.ylabel('loss')\n",
        "plt.xlabel('iteration')\n",
        "plt.plot(log)"
      ],
      "execution_count": null,
      "outputs": [
        {
          "output_type": "stream",
          "name": "stdout",
          "text": [
            "weight is Parameter containing:\n",
            "tensor([[-0.0070, -0.0070, -0.0070],\n",
            "        [ 0.0041,  0.0041,  0.0041]], requires_grad=True)\n",
            "\n",
            "bias is Parameter containing:\n",
            "tensor([1.0055, 0.9968], requires_grad=True)\n",
            "\n"
          ]
        },
        {
          "output_type": "execute_result",
          "data": {
            "text/plain": [
              "[<matplotlib.lines.Line2D at 0x7fc0d11b4b50>]"
            ]
          },
          "metadata": {},
          "execution_count": 23
        },
        {
          "output_type": "display_data",
          "data": {
            "image/png": "[encoded data removed]",
            "text/plain": [
              "<Figure size 432x288 with 1 Axes>"
            ]
          },
          "metadata": {
            "needs_background": "light"
          }
        }
      ]
    },
    {
      "cell_type": "markdown",
      "metadata": {
        "id": "TXK-ipm_jF6_"
      },
      "source": [
        "### Self defined Module\n",
        "--------------------\n"
      ]
    },
    {
      "cell_type": "code",
      "metadata": {
        "colab": {
          "base_uri": "https://localhost:8080/"
        },
        "id": "BrX-a-A_jBKz",
        "outputId": "1d8fee8d-2f67-4ec1-c860-e45282cc77e7"
      },
      "source": [
        "class TwoLayerNet(torch.nn.Module):\n",
        "    def __init__(self, D_in, H, D_out):\n",
        "        \"\"\"\n",
        "        In the constructor we instantiate two nn.Linear modules and assign them as\n",
        "        member variables.\n",
        "        \"\"\"\n",
        "        super(TwoLayerNet, self).__init__()   # initialize by parent class \n",
        "        self.linear1 = torch.nn.Linear(D_in, H)\n",
        "        self.linear2 = torch.nn.Linear(H, D_out)\n",
        "\n",
        "    def forward(self, x):\n",
        "        \"\"\"\n",
        "        In the forward function we accept a Tensor of input data and we must return\n",
        "        a Tensor of output data. We can use Modules defined in the constructor as\n",
        "        well as arbitrary operators on Tensors.\n",
        "        \"\"\"\n",
        "        h_relu = self.linear1(x).clamp(min=0) # ReLu\n",
        "        y_pred = self.linear2(h_relu)\n",
        "        return y_pred\n",
        "\n",
        "\n",
        "# N is batch size; D_in is input dimension;\n",
        "# H is hidden dimension; D_out is output dimension.\n",
        "N, D_in, H, D_out = 64, 1000, 100, 10\n",
        "\n",
        "# Create random Tensors to hold inputs and outputs\n",
        "x = torch.randn(N, D_in)\n",
        "y = torch.randn(N, D_out)\n",
        "\n",
        "# Construct our model by instantiating the class defined above\n",
        "model = TwoLayerNet(D_in, H, D_out)\n",
        "\n",
        "# Construct our loss function and an Optimizer. The call to model.parameters()\n",
        "# in the SGD constructor will contain the learnable parameters of the two\n",
        "# nn.Linear modules which are members of the model.\n",
        "criterion = torch.nn.MSELoss(reduction='sum')\n",
        "optimizer = torch.optim.SGD(model.parameters(), lr=1e-4)\n",
        "for t in range(500):\n",
        "    # Forward pass: Compute predicted y by passing x to the model\n",
        "    y_pred = model(x)   # same usage as linear \n",
        "\n",
        "    # Compute and print loss\n",
        "    loss = criterion(y_pred, y)    # loss\n",
        "    if t % 100 == 99:\n",
        "        print(t, loss.item())\n",
        "\n",
        "    # Zero gradients, perform a backward pass, and update the weights.\n",
        "    optimizer.zero_grad()    # zero-grad\n",
        "    loss.backward()          # back propagation\n",
        "    optimizer.step()         # update  "
      ],
      "execution_count": null,
      "outputs": [
        {
          "output_type": "stream",
          "name": "stdout",
          "text": [
            "99 2.1698036193847656\n",
            "199 0.04534001648426056\n",
            "299 0.0023285059724003077\n",
            "399 0.0001614488719496876\n",
            "499 1.2290578524698503e-05\n"
          ]
        }
      ]
    },
    {
      "cell_type": "markdown",
      "metadata": {
        "id": "4iY4qSWkPvJP"
      },
      "source": [
        "## Section 4. Datasets and DataLoader"
      ]
    },
    {
      "cell_type": "code",
      "metadata": {
        "colab": {
          "base_uri": "https://localhost:8080/"
        },
        "id": "AK5E2FoxkTju",
        "outputId": "2e624b7c-ed8a-4d36-bec6-9b4a7223756b"
      },
      "source": [
        "# The simplest way to leverage Dataset and DataLoader\n",
        "import torch\n",
        "a = torch.randn(10,2)                        # feature\n",
        "b = torch.randn(10,1)                        # target \n",
        "dataset_ = torch.utils.data.TensorDataset(a,b) # Construct the dataset\n",
        "loader_ = torch.utils.data.DataLoader(dataset_,\n",
        "                                      batch_size = 5) # Construct loader\n",
        "# Check what's inside\n",
        "for input, target in loader_:\n",
        "  print('input',input,'\\n target',target)\n",
        "  print('-'*40)\n"
      ],
      "execution_count": null,
      "outputs": [
        {
          "output_type": "stream",
          "name": "stdout",
          "text": [
            "input tensor([[-0.3584,  0.5904],\n",
            "        [ 0.1194,  0.6232],\n",
            "        [ 0.2921,  0.3180],\n",
            "        [ 1.4785,  0.6415],\n",
            "        [-0.4523,  0.6549]]) \n",
            " target tensor([[-0.5847],\n",
            "        [-0.3810],\n",
            "        [-0.7282],\n",
            "        [ 0.5234],\n",
            "        [ 0.6245]])\n",
            "----------------------------------------\n",
            "input tensor([[-1.4279, -0.3129],\n",
            "        [ 0.3965,  0.1001],\n",
            "        [-1.0105,  0.4681],\n",
            "        [-0.4780, -0.7528],\n",
            "        [-0.1595,  1.8004]]) \n",
            " target tensor([[-1.4972],\n",
            "        [-0.6181],\n",
            "        [ 0.0565],\n",
            "        [-0.6553],\n",
            "        [-0.4214]])\n",
            "----------------------------------------\n"
          ]
        }
      ]
    },
    {
      "cell_type": "code",
      "metadata": {
        "colab": {
          "base_uri": "https://localhost:8080/",
          "height": 460,
          "referenced_widgets": [
            "7b1714a47b524d229ba5e59ef682fcfd",
            "88df75def5a04e66af7c1444464d79a5",
            "2f5ed7c7149840d3a30740d8b6916f1b",
            "90e4d8d846434b9da5667cbd6d3e38cd",
            "29269d09c661490f87708e4130d2702c",
            "2f3aa6bc484741e585a91b836e007f18",
            "da63091832474bd7acf2316518f731c6",
            "1c6233a673a6456ba8084d62e338dc44",
            "2b1862f884ad4d4c92793361a7a17028",
            "83a5529e51f44a4eadee419065aa3013",
            "8d1ee397240b40d9b21f7eda9b742e65",
            "281bbd0fc15c4628a0210a8d796e3927",
            "195d39d819b34b01881d24879deab7af",
            "5f42f007f3e54484b8a47064c50517ec",
            "0adcfa6589ff4927825491f7f334d84d",
            "c482f208576943e6afaf774aa7b58de4",
            "861550fc1ed146588005bf4a0c1a3eee",
            "b5e952f5646745249eca3ac47e42f613",
            "7cb61f9e483e4496a30a4156c3f4e2ae",
            "1e978342661b4e47868147de0a0668a9",
            "b82c641c731f4dd7ad90b6422dbb8f5c",
            "1398ed75a21f45aa90163e67f33ef81e",
            "3e8da5e4d7d6437da72430624ae8d412",
            "dad61fcbbe2b4821aa3dfc07a0b4f5cf",
            "9c2c60d2ba554353a0d34d3eec7e42d1",
            "d701adee29fb4bb3b1138adb313ad6a0",
            "1f6dc1953914463191ddec7f54067346",
            "bdd2f6c9d17440b3826e68b8cd12d18e",
            "8ab16360e0d1411283ca502bd8b5977e",
            "cb79f0139e8e43eb9eb76f5cb9e966bc",
            "06492c3e30164bc6b315343940dfd015",
            "56dd392b70644fa083707d0259e3bd4e",
            "1ccca0b98c7d4799b8a80482204dc213",
            "111e979fad6840f2a01a1bf52328a4cc",
            "a4f684b24e1f49c9bc061d58de6d3821",
            "3e9e6268465c4270b3876100bcf87c95",
            "a3e7d2d68a6745a49fb4c8fc9a60635d",
            "6cb821cdaf43469ea9cf792f69feaca9",
            "c7c2da46eefc4a61bad339d701f1639a",
            "fcb8b2d07487483791ab9d041603f2b1",
            "61950c34f1914db8a5708bdc5ad0c922",
            "a3d11ebab747411088976eb5aaaedccd",
            "e2886281e3d5427fa44090206f888060",
            "5b3ff5037e8948768a2304f3463030ae"
          ]
        },
        "id": "jb7ZZHyQFYdn",
        "outputId": "f39ddb52-f7b7-4823-b5c4-c56dc48008b7"
      },
      "source": [
        "import torch\n",
        "import torch.nn as nn\n",
        "from torch.autograd import Variable\n",
        "import torch.utils.data as Data\n",
        "import torchvision\n",
        "import matplotlib.pyplot as plt\n",
        "print(torch.__version__)\n",
        "EPOCH = 1\n",
        "BATCH_SIZE = 50\n",
        "LR = 0.001\n",
        "DOWNLOAD_MNIST = True\n",
        "train_data = torchvision.datasets.FashionMNIST(\n",
        "    root = 'data/',\n",
        "    train = True,\n",
        "    transform=torchvision.transforms.ToTensor(), #to tensor\n",
        "    download=DOWNLOAD_MNIST,\n",
        ")\n",
        "train_loader = Data.DataLoader(train_data,\n",
        "                               batch_size = BATCH_SIZE)"
      ],
      "execution_count": null,
      "outputs": [
        {
          "output_type": "stream",
          "name": "stdout",
          "text": [
            "1.10.0+cu111\n",
            "Downloading http://fashion-mnist.s3-website.eu-central-1.amazonaws.com/train-images-idx3-ubyte.gz\n",
            "Downloading http://fashion-mnist.s3-website.eu-central-1.amazonaws.com/train-images-idx3-ubyte.gz to data/FashionMNIST/raw/train-images-idx3-ubyte.gz\n"
          ]
        },
        {
          "output_type": "display_data",
          "data": {
            "application/vnd.jupyter.widget-view+json": {
              "model_id": "7b1714a47b524d229ba5e59ef682fcfd",
              "version_minor": 0,
              "version_major": 2
            },
            "text/plain": [
              "  0%|          | 0/26421880 [00:00<?, ?it/s]"
            ]
          },
          "metadata": {}
        },
        {
          "output_type": "stream",
          "name": "stdout",
          "text": [
            "Extracting data/FashionMNIST/raw/train-images-idx3-ubyte.gz to data/FashionMNIST/raw\n",
            "\n",
            "Downloading http://fashion-mnist.s3-website.eu-central-1.amazonaws.com/train-labels-idx1-ubyte.gz\n",
            "Downloading http://fashion-mnist.s3-website.eu-central-1.amazonaws.com/train-labels-idx1-ubyte.gz to data/FashionMNIST/raw/train-labels-idx1-ubyte.gz\n"
          ]
        },
        {
          "output_type": "display_data",
          "data": {
            "application/vnd.jupyter.widget-view+json": {
              "model_id": "281bbd0fc15c4628a0210a8d796e3927",
              "version_minor": 0,
              "version_major": 2
            },
            "text/plain": [
              "  0%|          | 0/29515 [00:00<?, ?it/s]"
            ]
          },
          "metadata": {}
        },
        {
          "output_type": "stream",
          "name": "stdout",
          "text": [
            "Extracting data/FashionMNIST/raw/train-labels-idx1-ubyte.gz to data/FashionMNIST/raw\n",
            "\n",
            "Downloading http://fashion-mnist.s3-website.eu-central-1.amazonaws.com/t10k-images-idx3-ubyte.gz\n",
            "Downloading http://fashion-mnist.s3-website.eu-central-1.amazonaws.com/t10k-images-idx3-ubyte.gz to data/FashionMNIST/raw/t10k-images-idx3-ubyte.gz\n"
          ]
        },
        {
          "output_type": "display_data",
          "data": {
            "application/vnd.jupyter.widget-view+json": {
              "model_id": "3e8da5e4d7d6437da72430624ae8d412",
              "version_minor": 0,
              "version_major": 2
            },
            "text/plain": [
              "  0%|          | 0/4422102 [00:00<?, ?it/s]"
            ]
          },
          "metadata": {}
        },
        {
          "output_type": "stream",
          "name": "stdout",
          "text": [
            "Extracting data/FashionMNIST/raw/t10k-images-idx3-ubyte.gz to data/FashionMNIST/raw\n",
            "\n",
            "Downloading http://fashion-mnist.s3-website.eu-central-1.amazonaws.com/t10k-labels-idx1-ubyte.gz\n",
            "Downloading http://fashion-mnist.s3-website.eu-central-1.amazonaws.com/t10k-labels-idx1-ubyte.gz to data/FashionMNIST/raw/t10k-labels-idx1-ubyte.gz\n"
          ]
        },
        {
          "output_type": "display_data",
          "data": {
            "application/vnd.jupyter.widget-view+json": {
              "model_id": "111e979fad6840f2a01a1bf52328a4cc",
              "version_minor": 0,
              "version_major": 2
            },
            "text/plain": [
              "  0%|          | 0/5148 [00:00<?, ?it/s]"
            ]
          },
          "metadata": {}
        },
        {
          "output_type": "stream",
          "name": "stdout",
          "text": [
            "Extracting data/FashionMNIST/raw/t10k-labels-idx1-ubyte.gz to data/FashionMNIST/raw\n",
            "\n"
          ]
        }
      ]
    },
    {
      "cell_type": "code",
      "metadata": {
        "id": "tSjzcWH4FuDo",
        "colab": {
          "base_uri": "https://localhost:8080/",
          "height": 317
        },
        "outputId": "44251a8f-8f6b-4e8e-a72a-5b93220a4149"
      },
      "source": [
        "features, labels = next(train_loader.__iter__())\n",
        "print(features.shape)\n",
        "print(labels.shape)\n",
        "\n",
        "import matplotlib.pyplot as plt\n",
        "plt.imshow(features[1].cpu().numpy().squeeze(), cmap='gray')"
      ],
      "execution_count": null,
      "outputs": [
        {
          "output_type": "stream",
          "name": "stdout",
          "text": [
            "torch.Size([50, 1, 28, 28])\n",
            "torch.Size([50])\n"
          ]
        },
        {
          "output_type": "execute_result",
          "data": {
            "text/plain": [
              "<matplotlib.image.AxesImage at 0x7fc0d2c6e610>"
            ]
          },
          "metadata": {},
          "execution_count": 27
        },
        {
          "output_type": "display_data",
          "data": {
            "image/png": "[encoded data removed]",
            "text/plain": [
              "<Figure size 432x288 with 1 Axes>"
            ]
          },
          "metadata": {
            "needs_background": "light"
          }
        }
      ]
    },
    {
      "cell_type": "markdown",
      "metadata": {
        "id": "v6dCiKe_PwSw"
      },
      "source": [
        "## Section 5. Train on GPU and parallel on GPU\n",
        "------------------------------------------------------\n",
        "\n",
        "To train on GPU, you only need to make sure your model and data are  CUDA tensor types, i.e. they are on GPU devices.\n",
        "\n"
      ]
    },
    {
      "cell_type": "code",
      "metadata": {
        "colab": {
          "base_uri": "https://localhost:8080/"
        },
        "id": "99rvCYOEPz_Z",
        "outputId": "28f176e2-749e-477d-f577-109b86525608"
      },
      "source": [
        "# check cuda availability\n",
        "print('Cuda avaiblble?', torch.cuda.is_available())\n",
        "\n",
        "# A compromise way to set cuda, by detecting cuda availability\n",
        "device = torch.device('cuda' if torch.cuda.is_available() else 'cpu')\n",
        "print('device is :', device)\n",
        "\n",
        "# convert the tensor\n",
        "x = torch.randn(2,2)\n",
        "print('cpu tensor \\n', x)\n",
        "x = x.to(device)\n",
        "print('After changing device\\n',x)\n",
        "\n",
        "# conver the module\n",
        "layer = torch.nn.Linear(2,2)\n",
        "print(list(layer.parameters()))\n",
        "layer = layer.to(device)\n",
        "print(list(layer.parameters()))\n"
      ],
      "execution_count": null,
      "outputs": [
        {
          "output_type": "stream",
          "name": "stdout",
          "text": [
            "Cuda avaiblble? True\n",
            "device is : cuda\n",
            "cpu tensor \n",
            " tensor([[-1.2670,  0.1443],\n",
            "        [-0.4391, -0.5272]])\n",
            "After changing device\n",
            " tensor([[-1.2670,  0.1443],\n",
            "        [-0.4391, -0.5272]], device='cuda:0')\n",
            "[Parameter containing:\n",
            "tensor([[-0.0767, -0.6567],\n",
            "        [ 0.6541,  0.0046]], requires_grad=True), Parameter containing:\n",
            "tensor([ 0.4471, -0.3319], requires_grad=True)]\n",
            "[Parameter containing:\n",
            "tensor([[-0.0767, -0.6567],\n",
            "        [ 0.6541,  0.0046]], device='cuda:0', requires_grad=True), Parameter containing:\n",
            "tensor([ 0.4471, -0.3319], device='cuda:0', requires_grad=True)]\n"
          ]
        }
      ]
    },
    {
      "cell_type": "code",
      "metadata": {
        "colab": {
          "base_uri": "https://localhost:8080/",
          "height": 644
        },
        "id": "tuPr2ap5NL0b",
        "outputId": "eaf79c6f-3ece-4b8c-9b16-98a2ec53ccb0"
      },
      "source": [
        "import time\n",
        "# A compromise way to set cuda, by detecting cuda availability\n",
        "#device = torch.device('cuda' if torch.cuda.is_available() else 'cpu')\n",
        "device = torch.device('cpu')\n",
        "\n",
        "n_sample,dim, target_dim = 10000,50,2\n",
        "x_batch = torch.randn(n_sample,dim)\n",
        "y_batch_target = torch.randn(n_sample,target_dim)\n",
        "net = torch.nn.Linear(dim, target_dim)\n",
        "log = []\n",
        "optimizer = torch.optim.SGD(net.parameters(), lr=0.001, momentum=0.5)\n",
        "\n",
        "# set cuda device\n",
        "net = net.to(device)\n",
        "\n",
        "x_batch = x_batch.to(device)\n",
        "y_batch_target = y_batch_target.to(device)\n",
        "\n",
        "start_time = time.time()\n",
        "for _ in range(5000):\n",
        "    # set cuda device to the batch of data.\n",
        "\n",
        "    y_batch = net(x_batch)\n",
        "    loss = ((y_batch - y_batch_target) ** 2).sum(1).mean()\n",
        "    log.append(loss.item())\n",
        "    \n",
        "    optimizer.zero_grad()\n",
        "    loss.backward()\n",
        "    optimizer.step()\n",
        "end_time = time.time()\n",
        "print(f'weight is {net.weight}\\n')\n",
        "print(f'bias is {net.bias}\\n')\n",
        "print(f'time cost {(end_time-start_time):.3f} on the device {device}')\n",
        "\n",
        "%matplotlib inline\n",
        "import matplotlib.pyplot as plt\n",
        "plt.ylabel('loss')\n",
        "plt.xlabel('iteration')\n",
        "plt.plot(log)"
      ],
      "execution_count": null,
      "outputs": [
        {
          "output_type": "stream",
          "name": "stdout",
          "text": [
            "weight is Parameter containing:\n",
            "tensor([[ 0.0106, -0.0158,  0.0097,  0.0234, -0.0152,  0.0117,  0.0014, -0.0201,\n",
            "          0.0066, -0.0012, -0.0254, -0.0015,  0.0056, -0.0037, -0.0055, -0.0024,\n",
            "         -0.0078, -0.0031,  0.0063, -0.0046,  0.0082, -0.0025, -0.0143,  0.0127,\n",
            "         -0.0142, -0.0106,  0.0042,  0.0089,  0.0082,  0.0155, -0.0039, -0.0070,\n",
            "          0.0050,  0.0204,  0.0049,  0.0112, -0.0178, -0.0064, -0.0042,  0.0035,\n",
            "          0.0048, -0.0032,  0.0041, -0.0069,  0.0355, -0.0069,  0.0041,  0.0057,\n",
            "         -0.0108,  0.0005],\n",
            "        [-0.0043, -0.0128,  0.0075, -0.0042,  0.0181, -0.0132,  0.0098,  0.0054,\n",
            "         -0.0049,  0.0062, -0.0068,  0.0083,  0.0143, -0.0016, -0.0036,  0.0043,\n",
            "          0.0143,  0.0095, -0.0109, -0.0177, -0.0086,  0.0009, -0.0032,  0.0029,\n",
            "         -0.0013,  0.0031,  0.0033, -0.0059, -0.0021, -0.0128, -0.0002, -0.0120,\n",
            "         -0.0052,  0.0177, -0.0081,  0.0091, -0.0064,  0.0104,  0.0092, -0.0036,\n",
            "          0.0128, -0.0016,  0.0010, -0.0075, -0.0052, -0.0043,  0.0090, -0.0054,\n",
            "          0.0093,  0.0076]], requires_grad=True)\n",
            "\n",
            "bias is Parameter containing:\n",
            "tensor([-0.0166, -0.0123], requires_grad=True)\n",
            "\n",
            "time cost 6.988 on the device cpu\n"
          ]
        },
        {
          "output_type": "execute_result",
          "data": {
            "text/plain": [
              "[<matplotlib.lines.Line2D at 0x7fc0d1257c90>]"
            ]
          },
          "metadata": {},
          "execution_count": 29
        },
        {
          "output_type": "display_data",
          "data": {
            "image/png": "[encoded data removed]",
            "text/plain": [
              "<Figure size 432x288 with 1 Axes>"
            ]
          },
          "metadata": {
            "needs_background": "light"
          }
        }
      ]
    },
    {
      "cell_type": "markdown",
      "metadata": {
        "id": "waKCwNA_6OFk"
      },
      "source": [
        "## Parallel on GPU\n",
        "To achieve parallel training on GPU, pytorch provides a helpful wrapper. \n",
        "However, we need to be careful about parallel wrapped model at training, saving, loading. \n",
        "\n",
        "In training, the loss will become multiple. To deal with this, use 'loss =  torch.mean(loss)' before backpropagation.\n",
        "\n",
        "In saving, use 'torch.save(model.module.state_dict(), #FILE PATH#)'\n",
        "in loading, use 'model.module.load_state_dict(torch.load(#FILE PATH#))'\n"
      ]
    },
    {
      "cell_type": "code",
      "metadata": {
        "id": "imQDmf_L6TsE",
        "colab": {
          "base_uri": "https://localhost:8080/"
        },
        "outputId": "6f6b8359-d196-4c9c-cff5-4312617c3243"
      },
      "source": [
        "model = nn.Linear(3,2)\n",
        "model = nn.DataParallel(model)\n",
        "print(model)\n",
        "print(model.module)"
      ],
      "execution_count": null,
      "outputs": [
        {
          "output_type": "stream",
          "name": "stdout",
          "text": [
            "DataParallel(\n",
            "  (module): Linear(in_features=3, out_features=2, bias=True)\n",
            ")\n",
            "Linear(in_features=3, out_features=2, bias=True)\n"
          ]
        }
      ]
    },
    {
      "cell_type": "code",
      "metadata": {
        "id": "rQ1tDmKlK-pc"
      },
      "source": [
        "if torch.cuda.device_count() > 1:\n",
        "  print(\"Let's use\", torch.cuda.device_count(), \"GPUs!\")\n",
        "  model = nn.DataParallel(model)"
      ],
      "execution_count": null,
      "outputs": []
    },
    {
      "cell_type": "markdown",
      "metadata": {
        "id": "wS0RjAc_RyXi"
      },
      "source": [
        "# The End"
      ]
    },
    {
      "cell_type": "code",
      "source": [
        ""
      ],
      "metadata": {
        "id": "bhqlyFlL3gOM"
      },
      "execution_count": null,
      "outputs": []
    }
  ]
}