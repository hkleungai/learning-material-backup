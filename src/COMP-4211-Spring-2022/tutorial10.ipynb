{
 "cells": [
  {
   "cell_type": "markdown",
   "metadata": {},
   "source": [
    "### Recall the following Q learning update rule:\n",
    "![Q learning update rule](Q_learning_update_rule.png)"
   ]
  },
  {
   "cell_type": "markdown",
   "metadata": {},
   "source": [
    "### And the following lecture example: \n",
    "![lecture example](example.png)"
   ]
  },
  {
   "cell_type": "markdown",
   "metadata": {},
   "source": [
    "Assume $\\gamma=0.9$. Then we implmenet the Q-learning for the example."
   ]
  },
  {
   "cell_type": "code",
   "execution_count": 1,
   "metadata": {},
   "outputs": [],
   "source": [
    "# import libraries\n",
    "import numpy as np\n",
    "\n",
    "# define reward function\n",
    "def get_reward(state, action, next_state):\n",
    "    rewards = np.array([0,0,0,0,0,100], dtype=float)\n",
    "    return rewards[next_state]\n",
    "\n",
    "# initial Q-table\n",
    "Q = np.array(\n",
    "    [ # up, right, down, left, stay\n",
    "    [0,0,0,0,0],    # state 1\n",
    "    [0,0,0,0,0],    # state 2\n",
    "    [0,0,0,0,0],    # state 3\n",
    "    [0,0,0,0,0],    # state 4\n",
    "    [0,0,0,0,0],    # state 5\n",
    "    [0,0,0,0,0],    # state G\n",
    "    ]\n",
    "    , dtype=float)\n",
    "\n",
    "# define state and action dictionary for readability\n",
    "action_dict = {0:\"Up\", 1:\"Right\", 2:\"Down\", 3:\"Left\", 4:\"Stay\"}\n",
    "state_dict = {0:\"State 1\", 1:\"State 2\", 2:\"State 3\", 3:\"State 4\", 4:\"State 5\", 5:\"State G\"}\n",
    "\n",
    "# define Q-table update rule\n",
    "def update(state, action, next_state, gamma):\n",
    "    reward = get_reward(state, action, next_state)\n",
    "    new_q = reward + gamma * max(Q[next_state,:])\n",
    "\n",
    "    # print details of computation\n",
    "    print(state_dict[state], action_dict[action], state_dict[next_state])\n",
    "    print(reward, \"+\", gamma, \"* max(\", \",\".join(map(str, Q[next_state, :])), \")\", \"=\", new_q)\n",
    "    \n",
    "    return new_q"
   ]
  },
  {
   "cell_type": "code",
   "execution_count": 2,
   "metadata": {},
   "outputs": [
    {
     "name": "stdout",
     "output_type": "stream",
     "text": [
      "[[0. 0. 0. 0. 0.]\n",
      " [0. 0. 0. 0. 0.]\n",
      " [0. 0. 0. 0. 0.]\n",
      " [0. 0. 0. 0. 0.]\n",
      " [0. 0. 0. 0. 0.]\n",
      " [0. 0. 0. 0. 0.]] \n",
      "\n",
      "State 1 Right State 2\n",
      "0.0 + 0.9 * max( 0.0,0.0,0.0,0.0,0.0 ) = 0.0\n",
      "[[0. 0. 0. 0. 0.]\n",
      " [0. 0. 0. 0. 0.]\n",
      " [0. 0. 0. 0. 0.]\n",
      " [0. 0. 0. 0. 0.]\n",
      " [0. 0. 0. 0. 0.]\n",
      " [0. 0. 0. 0. 0.]] \n",
      "\n",
      "State 2 Right State 3\n",
      "0.0 + 0.9 * max( 0.0,0.0,0.0,0.0,0.0 ) = 0.0\n",
      "[[0. 0. 0. 0. 0.]\n",
      " [0. 0. 0. 0. 0.]\n",
      " [0. 0. 0. 0. 0.]\n",
      " [0. 0. 0. 0. 0.]\n",
      " [0. 0. 0. 0. 0.]\n",
      " [0. 0. 0. 0. 0.]] \n",
      "\n",
      "State 3 Up State G\n",
      "100.0 + 0.9 * max( 0.0,0.0,0.0,0.0,0.0 ) = 100.0\n",
      "[[  0.   0.   0.   0.   0.]\n",
      " [  0.   0.   0.   0.   0.]\n",
      " [100.   0.   0.   0.   0.]\n",
      " [  0.   0.   0.   0.   0.]\n",
      " [  0.   0.   0.   0.   0.]\n",
      " [  0.   0.   0.   0.   0.]] \n",
      "\n",
      "State 1 Up State 4\n",
      "0.0 + 0.9 * max( 0.0,0.0,0.0,0.0,0.0 ) = 0.0\n",
      "[[  0.   0.   0.   0.   0.]\n",
      " [  0.   0.   0.   0.   0.]\n",
      " [100.   0.   0.   0.   0.]\n",
      " [  0.   0.   0.   0.   0.]\n",
      " [  0.   0.   0.   0.   0.]\n",
      " [  0.   0.   0.   0.   0.]] \n",
      "\n",
      "State 4 Right State 5\n",
      "0.0 + 0.9 * max( 0.0,0.0,0.0,0.0,0.0 ) = 0.0\n",
      "[[  0.   0.   0.   0.   0.]\n",
      " [  0.   0.   0.   0.   0.]\n",
      " [100.   0.   0.   0.   0.]\n",
      " [  0.   0.   0.   0.   0.]\n",
      " [  0.   0.   0.   0.   0.]\n",
      " [  0.   0.   0.   0.   0.]] \n",
      "\n",
      "State 5 Right State G\n",
      "100.0 + 0.9 * max( 0.0,0.0,0.0,0.0,0.0 ) = 100.0\n",
      "[[  0.   0.   0.   0.   0.]\n",
      " [  0.   0.   0.   0.   0.]\n",
      " [100.   0.   0.   0.   0.]\n",
      " [  0.   0.   0.   0.   0.]\n",
      " [  0. 100.   0.   0.   0.]\n",
      " [  0.   0.   0.   0.   0.]] \n",
      "\n"
     ]
    }
   ],
   "source": [
    "# set hyperparameters\n",
    "gamma = 0.9\n",
    "\n",
    "# set state-action pairs for learning\n",
    "paths = [ # state, actoin, next_state\n",
    "        [0, 1, 1], # state 1, right, state 2\n",
    "        [1, 1, 2], # state 2, right, state 3\n",
    "        [2, 0, 5], # state 3, up, state G\n",
    "        \n",
    "        [0, 0, 3], # state 1, up, state 4\n",
    "        [3, 1, 4], # state 4, right, state 5\n",
    "        [4, 1, 5], # state 5, right, state G\n",
    "        ]\n",
    "\n",
    "# print results\n",
    "print(Q, \"\\n\")\n",
    "for path in paths:\n",
    "    state, action, next_state = path[0], path[1], path[2]\n",
    "    Q[state, action] = update(state, action, next_state, gamma)\n",
    "    print(Q, \"\\n\")"
   ]
  },
  {
   "cell_type": "code",
   "execution_count": null,
   "metadata": {},
   "outputs": [],
   "source": []
  }
 ],
 "metadata": {
  "interpreter": {
   "hash": "cd64003d8352f8d7b993f15427237127727ba7aec5d266ff4f84423c7bb16212"
  },
  "kernelspec": {
   "display_name": "Python 3 (ipykernel)",
   "language": "python",
   "name": "python3"
  },
  "language_info": {
   "codemirror_mode": {
    "name": "ipython",
    "version": 3
   },
   "file_extension": ".py",
   "mimetype": "text/x-python",
   "name": "python",
   "nbconvert_exporter": "python",
   "pygments_lexer": "ipython3",
   "version": "3.8.13"
  }
 },
 "nbformat": 4,
 "nbformat_minor": 4
}
