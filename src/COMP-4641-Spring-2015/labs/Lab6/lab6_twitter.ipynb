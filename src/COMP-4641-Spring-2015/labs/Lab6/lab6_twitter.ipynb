{
 "metadata": {
  "name": "",
  "signature": "sha256:94bb3707e03b30efed7e8079682c45c8561af748fe7a3a6696aca93b742d9527"
 },
 "nbformat": 3,
 "nbformat_minor": 0,
 "worksheets": [
  {
   "cells": [
    {
     "cell_type": "markdown",
     "metadata": {},
     "source": [
      "#Lab 6 Mining Twitter using API\n",
      "\n",
      "In this lab we will learn how to use Twitter API to retrieve information that you are interested in. For example, we will explore trending topics, what other users are talking about, and more. \n",
      "\n",
      "\n",
      "Full code is available in [GitHub](http://bit.ly/16kGNyb).\n",
      "\n",
      "This tutorial is an adaptation of Chapter 1 from the book *Mining the Social Web, 2nd Edition* which uses [Simplified BSD License](https://github.com/ptwobrussell/Mining-the-Social-Web-2nd-Edition/blob/master/LICENSE.txt). We thank the original authors for their contribution. "
     ]
    },
    {
     "cell_type": "markdown",
     "metadata": {},
     "source": [
      "##Installation\n",
      "\n",
      "Twitter has taken great care to craft an elegantly simple RESTful API that is intuitive\n",
      "and easy to use. Even so, there are great libraries available to further mitigate the work\n",
      "involved in making API requests. A particularly beautiful Python package that wraps\n",
      "the Twitter API and mimics the public API semantics almost one-to-one is [twitter](https://github.com/sixohsix/twitter).\n",
      "\n",
      "In this tutorial, we will use [twitter](https://github.com/sixohsix/twitter) to make API calls. This is a python wrapper for twitter APIs. \n",
      "\n",
      "For Mac and Linux students, you can install this package in a terminal with [pip](https://pypi.python.org/pypi/pip) with the command `pip install twitter`, preferably from within a [Python virtual environment](https://pypi.python.org/pypi/virtualenv). \n",
      "\n",
      "For Windows students, please run\n",
      "\n",
      "    Scripts\\pip.exe install twitter\n",
      "    \n",
      "under Anaconda installation directory, that is `C:\\Users\\your_name\\Anaconda`. "
     ]
    },
    {
     "cell_type": "code",
     "collapsed": false,
     "input": [
      "# Run this cell to make sure you install \n",
      "import twitter # There should be no error. "
     ],
     "language": "python",
     "metadata": {},
     "outputs": []
    },
    {
     "cell_type": "markdown",
     "metadata": {},
     "source": [
      "## Authentication\n",
      "\n",
      "Now we are ready to play with Twitter API. Before that, we will talk about [OAuth](http://en.wikipedia.org/wiki/OAuth). \n",
      "\n",
      "Suppose you just develop a game based on twitter and would like to share with your friends. To retrieve twitter-related information, you may just input your username and password to access the API. This might work fine for you, but your friend or colleague probably wouldn\u2019t feel comfortable inputing plain text username and password in your application. After all, who knows whether your application is doing something strange behind? Even you are trusted by them, it's never a good idea to store password in plain text as once your application is cracked they will be all leaked. Therefore, we need a way for *authorization* without giving up our credentials. \n",
      "\n",
      "OAuth is designed to cope with these situations. OAuth stands for \"Open Authorization\". It specifies a process for resource owners (your friend) to authorize third-party (your application) access to their server resources (twitter user name, bio, following etc.) without sharing their credentials. Designed specifically to work with Hypertext Transfer Protocol (HTTP), OAuth essentially allows access tokens to be issued to third-party clients by an authorization server, with the approval of the resource owner. \n",
      "\n",
      "Some useful terms: \n",
      "\n",
      "    1. Third Party Applications: or `client`. For example, your game. \n",
      "    2. HTTP Service: or simply service. For example, twitter. \n",
      "    3. Resource owner: the user of your application. \n",
      "    4. Authorization server: the server of HTTP service that's in charge of authorization. \n",
      "    5. Resource server: the server of HTTP service that stores user information. \n",
      "    \n",
      "Note that authorization server and resource server can be the same machine, or not, or a distributed data farm. \n",
      "\n",
      "The protocol flow of OAuth is demonstrated in [RFC 6749](https://tools.ietf.org/html/rfc6749)\n",
      "\n",
      "     +--------+                               +---------------+\n",
      "     |        |--(A)- Authorization Request ->|   Resource    |\n",
      "     |        |                               |     Owner     |\n",
      "     |        |<-(B)-- Authorization Grant ---|               |\n",
      "     |        |                               +---------------+\n",
      "     |        |\n",
      "     |        |                               +---------------+\n",
      "     |        |--(C)-- Authorization Grant -->| Authorization |\n",
      "     | Client |                               |     Server    |\n",
      "     |        |<-(D)----- Access Token -------|               |\n",
      "     |        |                               +---------------+\n",
      "     |        |\n",
      "     |        |                               +---------------+\n",
      "     |        |--(E)----- Access Token ------>|    Resource   |\n",
      "     |        |                               |     Server    |\n",
      "     |        |<-(F)--- Protected Resource ---|               |\n",
      "     +--------+                               +---------------+\n",
      "\n",
      "So the steps are: \n",
      "\n",
      "   (A)  The client requests authorization from the resource owner.  \n",
      "   \n",
      "   (B)  The client receives an authorization grant, which is a\n",
      "        credential representing the resource owner's authorization. \n",
      "\n",
      "   (C)  The client requests an access token by authenticating with the\n",
      "        authorization server and presenting the authorization grant.\n",
      "\n",
      "   (D)  The authorization server authenticates the client and validates\n",
      "        the authorization grant, and if valid, issues an access token.\n",
      "        \n",
      "   (E)  The client requests the protected resource from the resource\n",
      "        server and authenticates by presenting the access token.\n",
      "\n",
      "   (F)  The resource server validates the access token, and if valid,\n",
      "        serves the request.\n",
      "\n",
      "Nowadays, many applications use OAuth. See a list [here](http://en.wikipedia.org/wiki/OAuth#List_of_notable_OAuth_service_providers). Understanding OAuth will help with data collection when using APIs on websites such as Facebook, Fitbit, Flickr, Instagram etc. "
     ]
    },
    {
     "cell_type": "markdown",
     "metadata": {},
     "source": [
      "##Playing with Twitter APIs\n",
      "\n",
      "\n",
      "Before you can make any API requests to Twitter, you\u2019ll need to create an application\n",
      "at https://apps.twitter.com/. If you don't have a twitter account, register one and it's fun :)\n",
      "\n",
      "Steps to create an application: \n",
      "\n",
      "\n",
      "    1. Press Create New App and follow the steps. \n",
      "    \n",
      "    2. In `Keys and Access Tokens`, press `Create My Access Token`:\n",
      "        This step let you authrorize your own application to access your account info. \n",
      "    \n",
      "    3. Copy paste related values into the next cell and run it. If everything goes well, now you have a new twitter_api handle. \n",
      "        Be careful when copy paste the keys and secrets and make sure no spaces are added. \n",
      "    \n",
      "    4. Go to your twitter page and follow a few accounts from the recommendation. We will test our API using them. \n",
      "    \n",
      "Note that Twitter has its [API Rate Limits](https://dev.twitter.com/rest/public/rate-limits). API Rate Limit is counted in a 15-min time window. Inside this time window, you cannot make more than a specified number of requests, or else you will get rate exceeded error. For example, no more than 15 requests for followers/id in this window for application authorization mode. Different API will have different rate limits, for example, you can have 180 requests for your timeline in this time window. \n",
      "\n",
      "So do not refresh too frequently or you will need to wait a while. This will also impose some restriction on your data collection process. "
     ]
    },
    {
     "cell_type": "markdown",
     "metadata": {},
     "source": [
      "##Example 1. Authorizing an application to access Twitter account data"
     ]
    },
    {
     "cell_type": "code",
     "collapsed": false,
     "input": [
      "import twitter\n",
      "import json # to prettify output\n",
      "\n",
      "# XXX: Go to http://dev.twitter.com/apps/new to create an app and get values\n",
      "# for these credentials, which you'll need to provide in place of these\n",
      "# empty string values that are defined as placeholders.\n",
      "# See https://dev.twitter.com/docs/auth/oauth for more information \n",
      "# on Twitter's OAuth implementation.\n",
      "\n",
      "CONSUMER_KEY = ''\n",
      "CONSUMER_SECRET =''\n",
      "OAUTH_TOKEN = ''\n",
      "OAUTH_TOKEN_SECRET = ''\n",
      "\n",
      "auth = twitter.oauth.OAuth(OAUTH_TOKEN, OAUTH_TOKEN_SECRET,\n",
      "                           CONSUMER_KEY, CONSUMER_SECRET)\n",
      "\n",
      "t = twitter.Twitter(auth=auth)\n",
      "\n",
      "# Nothing to see by displaying t except that it's now a\n",
      "# defined variable\n",
      "\n",
      "print t"
     ],
     "language": "python",
     "metadata": {},
     "outputs": []
    },
    {
     "cell_type": "markdown",
     "metadata": {},
     "source": [
      "##Example 2. Some basic usages. "
     ]
    },
    {
     "cell_type": "markdown",
     "metadata": {},
     "source": [
      "twitter package simply wraps official RESTful API into a python class. You access the members as decoded python objects (lists and dicts)."
     ]
    },
    {
     "cell_type": "code",
     "collapsed": false,
     "input": [
      "# Timeline related. \n",
      "\n",
      "# Get your \"home\" timeline and print the text of first one. \n",
      "my_timeline = t.statuses.home_timeline()\n",
      "for tweet in my_timeline:\n",
      "    print tweet['text']\n",
      "    \n",
      "print \"==================================================================\"\n",
      "\n",
      "# Get a particular user's timeline \n",
      "tl_9Gag = t.statuses.user_timeline(screen_name=\"9GAG\")\n",
      "for tweet in tl_9Gag:\n",
      "    print tweet['text']\n",
      "    \n",
      "print \"==================================================================\"\n",
      "\n",
      "# to pass in GET/POST parameters, such as `count`\n",
      "# this means retrieve the most recent 5 tweets (default 20, max 200) on your own timeline. \n",
      "# see https://dev.twitter.com/rest/reference/get/statuses/home_timeline\n",
      "print t.statuses.home_timeline(count=5)[4]['text']"
     ],
     "language": "python",
     "metadata": {},
     "outputs": []
    },
    {
     "cell_type": "code",
     "collapsed": false,
     "input": [
      "# Relationships related API. \n",
      "\n",
      "# We will take the great scientist Richard Dawkins as an exmample. \n",
      "# https://twitter.com/RichardDawkins\n",
      "\n",
      "# Some commonly seen terms: \n",
      "# screen_name: the name after @\n",
      "# id: the id corresponds to the user. Note that id is static, while screen_name can be changed by the user.\n",
      "# friends: people the specified user follows. \n",
      "# followers: people who follows the specified user\n",
      "\n",
      "# So, Richard Dawkins' screen_name is \"RichardDawkins\" (no space). He has 305 friends and 1.14M followers. \n",
      "\n",
      "# Now try to get the data using API. \n",
      "\n",
      "# Get all his followings, or \"friends\" in Twitter's context. \n",
      "# See https://dev.twitter.com/rest/reference/get/friends/ids\n",
      "friends = t.friends.ids(screen_name=\"RichardDawkins\")\n",
      "print friends['ids']\n",
      "\n",
      "# Get all his followers\n",
      "# See https://dev.twitter.com/rest/reference/get/followers/ids\n",
      "followers = t.followers.ids(screen_name=\"RichardDawkins\")\n",
      "print followers['ids']"
     ],
     "language": "python",
     "metadata": {},
     "outputs": []
    },
    {
     "cell_type": "code",
     "collapsed": false,
     "input": [
      "# But all you get is just id. \n",
      "# We need to transform an id to a real user object. \n",
      "\n",
      "# Transform multiple user_id to a list of user objects\n",
      "# See https://dev.twitter.com/rest/reference/get/users/lookup\n",
      "# Note that this API transform at most 100 user_id at one time, so we pass the first 100 users. \n",
      "# Or else, an error will be returned by twitter. \n",
      "friends_profile = t.users.lookup(user_id=friends['ids'][:100])\n",
      "print friends_profile[0]['screen_name'] # print the first one. \n",
      "print \"================================================================\"\n",
      "print json.dumps(friends_profile, indent=1)"
     ],
     "language": "python",
     "metadata": {},
     "outputs": []
    },
    {
     "cell_type": "code",
     "collapsed": false,
     "input": [
      "# You can also use users/show to transform a single user_id to a user object \n",
      "# See https://dev.twitter.com/rest/reference/get/users/show\n",
      "print json.dumps(t.users.show(screen_name=\"RichardDawkins\"), indent=1)"
     ],
     "language": "python",
     "metadata": {},
     "outputs": []
    },
    {
     "cell_type": "code",
     "collapsed": false,
     "input": [
      "# Let's go back to check friends and followers result. \n",
      "\n",
      "print \"friend count is\", len(friends['ids'])\n",
      "print \"followers count is\", len(followers['ids'])"
     ],
     "language": "python",
     "metadata": {},
     "outputs": []
    },
    {
     "cell_type": "code",
     "collapsed": false,
     "input": [
      "# You can see that number of followers is WRONG! \n",
      "# Richard Dawkins has 1.14M followers. \n",
      "# It's too large for Twitter to return the response to you all at once. \n",
      "\n",
      "# Twitter uses a mechanism called \"cursoring\" to paginite large results. \n",
      "# Results are returned in a batch. In this case, followers ids are returned in a batch of 5000.\n",
      "# To get the next batch, we will use the next_cursor in the next API request. \n",
      "# See https://dev.twitter.com/overview/api/cursoring\n",
      "print followers['next_cursor']\n",
      "\n",
      "# Get the next batch using next_cursor as argument.\n",
      "next_batch = t.followers.ids(screen_name=\"RichardDawkins\", next_cursor=followers['next_cursor'])\n",
      "print next_batch\n",
      "\n",
      "# Note that you can get the previous batch using previous_cursor. "
     ],
     "language": "python",
     "metadata": {},
     "outputs": []
    },
    {
     "cell_type": "markdown",
     "metadata": {},
     "source": [
      "##Example 3. Collecting Search Results"
     ]
    },
    {
     "cell_type": "markdown",
     "metadata": {},
     "source": [
      "Let's see how people feels about Apple Event last week. "
     ]
    },
    {
     "cell_type": "code",
     "collapsed": false,
     "input": [
      "# Import unquote to prevent url encoding errors in next_results\n",
      "from urllib import unquote\n",
      "\n",
      "# XXX: Set this variable to a trending topic, \n",
      "# or anything else for that matter. The example query below\n",
      "# was a trending topic when this content was being developed\n",
      "# and is used throughout the remainder of this chapter.\n",
      "\n",
      "q = '#AppleEvent' \n",
      "\n",
      "count = 100\n",
      "\n",
      "# See https://dev.twitter.com/docs/api/1.1/get/search/tweets\n",
      "\n",
      "search_results = t.search.tweets(q=q, count=count)\n",
      "\n",
      "statuses = search_results['statuses']\n",
      "\n",
      "# Iterate through 5 more batches of results by following the cursor\n",
      "\n",
      "for _ in range(5):\n",
      "    print \"Length of statuses\", len(statuses)\n",
      "    try:\n",
      "        next_results = search_results['search_metadata']['next_results']\n",
      "    except KeyError, e: # No more results when next_results doesn't exist\n",
      "        break\n",
      "        \n",
      "    # Create a dictionary from next_results, which has the following form:\n",
      "    # ?max_id=313519052523986943&q=NCAA&include_entities=1\n",
      "    kwargs = dict([ kv.split('=') for kv in unquote(next_results[1:]).split(\"&\") ])\n",
      "    \n",
      "    search_results = t.search.tweets(**kwargs)\n",
      "    statuses += search_results['statuses']\n",
      "\n",
      "# Printing the status\n",
      "for status in statuses:\n",
      "    print status['text']\n",
      "\n",
      "# You can then dump your json data into a file for later analysis in this manner:\n",
      "with open('data.txt', 'w') as outfile:\n",
      "    json.dump(statuses, outfile) # Now check your IPython notebook. "
     ],
     "language": "python",
     "metadata": {},
     "outputs": []
    },
    {
     "cell_type": "code",
     "collapsed": false,
     "input": [
      "# When you need your data, just reload them: \n",
      "statuses = json.loads(open('data.txt').read())\n",
      "\n",
      "# The result of the list comprehension is a list with only one element that\n",
      "# can be accessed by its index and set to the variable t\n",
      "w = [ status \n",
      "      for status in statuses\n",
      "          if \"Watch\" in status['text']]\n",
      "\n",
      "# w now contains all statuses that mentioned Watch. \n",
      "    \n",
      "# Explore a single item to get familiarized with the data structure...\n",
      "sample_tweet = w[0] # fetch the first status\n",
      "#print sample_tweet\n",
      "print sample_tweet['text']\n",
      "print \"fav count is\", sample_tweet['favorite_count']\n",
      "print \"retweet count is\", sample_tweet['retweet_count']\n",
      "print \"tweeted in\", sample_tweet['lang']\n",
      "\n",
      "# Can you find the most retweeted tweet in your search results? Try do do it!"
     ],
     "language": "python",
     "metadata": {},
     "outputs": []
    },
    {
     "cell_type": "markdown",
     "metadata": {},
     "source": [
      "##Example 4. Using list comprehension to extract results. "
     ]
    },
    {
     "cell_type": "code",
     "collapsed": false,
     "input": [
      "status_texts = [ status['text'] \n",
      "                 for status in statuses ]\n",
      "\n",
      "screen_names = [ user_mention['screen_name'] \n",
      "                 for status in statuses\n",
      "                     for user_mention in status['entities']['user_mentions'] ]\n",
      "\n",
      "hashtags = [ hashtag['text'] \n",
      "             for status in statuses\n",
      "                 for hashtag in status['entities']['hashtags'] ]\n",
      "\n",
      "# Compute a collection of all words from all tweets\n",
      "words = [ w \n",
      "          for tweet in status_texts \n",
      "              for w in tweet.split() ]\n",
      "\n",
      "# Explore the first 5 items for each...\n",
      "\n",
      "print json.dumps(status_texts[0:5], indent=1)\n",
      "print json.dumps(screen_names[0:5], indent=1) \n",
      "print json.dumps(hashtags[0:5], indent=1)\n",
      "print json.dumps(words[0:5], indent=1)"
     ],
     "language": "python",
     "metadata": {},
     "outputs": []
    },
    {
     "cell_type": "markdown",
     "metadata": {},
     "source": [
      "Similarly, you can extract text, screen names, and hashtags from tweets"
     ]
    },
    {
     "cell_type": "markdown",
     "metadata": {},
     "source": [
      "##Example 5. Retrieving trends"
     ]
    },
    {
     "cell_type": "code",
     "collapsed": false,
     "input": [
      "# The Yahoo! Where On Earth ID for the entire world is 1.\n",
      "# See https://dev.twitter.com/docs/api/1.1/get/trends/place and\n",
      "# http://developer.yahoo.com/geo/geoplanet/\n",
      "\n",
      "import json\n",
      "\n",
      "WORLD_WOE_ID = 1\n",
      "US_WOE_ID = 23424977\n",
      "\n",
      "# Prefix ID with the underscore for query string parameterization.\n",
      "# Without the underscore, the twitter package appends the ID value\n",
      "# to the URL itself as a special case keyword argument.\n",
      "\n",
      "world_trends = t.trends.place(_id=WORLD_WOE_ID)\n",
      "us_trends = t.trends.place(_id=US_WOE_ID)\n",
      "\n",
      "print world_trends\n",
      "print\n",
      "print us_trends\n",
      "\n",
      "print \"\\n\\n\\n\"\n",
      "print \"To prettify the results, we will use json.dumps: \"\n",
      "print \"\\n\\n\\n\"\n",
      "\n",
      "print json.dumps(world_trends, indent=1)\n",
      "print\n",
      "print json.dumps(us_trends, indent=1)"
     ],
     "language": "python",
     "metadata": {},
     "outputs": []
    },
    {
     "cell_type": "markdown",
     "metadata": {},
     "source": [
      "##Example 6. Computing the intersection of two sets of trends"
     ]
    },
    {
     "cell_type": "code",
     "collapsed": false,
     "input": [
      "world_trends_set = set([trend['name'] \n",
      "                        for trend in world_trends[0]['trends']])\n",
      "\n",
      "us_trends_set = set([trend['name'] \n",
      "                     for trend in us_trends[0]['trends']]) \n",
      "\n",
      "common_trends = world_trends_set.intersection(us_trends_set)\n",
      "\n",
      "print common_trends"
     ],
     "language": "python",
     "metadata": {},
     "outputs": []
    },
    {
     "cell_type": "markdown",
     "metadata": {},
     "source": [
      "Same tricks can be applied when you try to find intersection of other sets.  "
     ]
    },
    {
     "cell_type": "markdown",
     "metadata": {},
     "source": [
      "##Example 7. Creating a basic frequency distribution from the words in tweets"
     ]
    },
    {
     "cell_type": "code",
     "collapsed": false,
     "input": [
      "from collections import Counter\n",
      "\n",
      "for item in [words, screen_names, hashtags]:\n",
      "    c = Counter(item)\n",
      "    print c.most_common()[:10] # top 10\n",
      "    print\n",
      "    "
     ],
     "language": "python",
     "metadata": {},
     "outputs": []
    },
    {
     "cell_type": "markdown",
     "metadata": {},
     "source": [
      "##References\n",
      "\n",
      "This ends our Lab 6 of Twitter API usage. You can check these sites for reference. \n",
      "\n",
      "[Twitter REST APIs Documentation](https://dev.twitter.com/rest/public)\n",
      "\n",
      "[twitter package GitHub](https://github.com/sixohsix/twitter)\n",
      "\n",
      "There are also other Twitter libraries in other languages(Java, Ruby, Go etc.). Check [Twitter Libraries](https://dev.twitter.com/overview/api/twitter-libraries) for more information. "
     ]
    }
   ],
   "metadata": {}
  }
 ]
}