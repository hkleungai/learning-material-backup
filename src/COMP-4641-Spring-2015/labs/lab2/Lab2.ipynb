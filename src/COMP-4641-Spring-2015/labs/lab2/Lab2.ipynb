{
 "metadata": {
  "language_info": {
   "codemirror_mode": {
    "name": "ipython",
    "version": 2
   },
   "file_extension": ".py",
   "mimetype": "text/x-python",
   "name": "python",
   "nbconvert_exporter": "python",
   "pygments_lexer": "ipython2",
   "version": "2.7.3"
  },
  "name": "",
  "signature": "sha256:f0e87d0d0a0efcf00119d9951c28297550cfdad85c2613faa8757dd27c9c2530"
 },
 "nbformat": 3,
 "nbformat_minor": 0,
 "worksheets": [
  {
   "cells": [
    {
     "cell_type": "markdown",
     "metadata": {},
     "source": [
      "# Installation of SNAP and NetworkX\n",
      "\n",
      "* **Recomended**: [Anaconda Scientific Python Distribution](https://store.continuum.io/cshop/anaconda/) is the preferred and easiest way to enjoy python and its applications on data analysis, including social network data analysis, using python packages like [SNAP](http://snap.stanford.edu/snap/) and [NetworkX](https://networkx.github.io/). Anaconda already integrate [most popular Python packages](http://docs.continuum.io/anaconda/pkg-docs.html) for science, math, engineering, data analysis, including NetworkX, so it saves you a lot of time figuring out all the dependency of python packages and installing them one by one in order.\n",
      "\n",
      "* Installation steps:\n",
      " 1. [Download Anaconda](http://continuum.io/downloads), select the correct version corresponds to your OS by clicking the icons after **CHOOSE YOUR INSTALLER**, there are also installation tips in each OS version shower in the window.\n",
      " 2. After the installation of Anaconda, you already have Python, Ipython, [Ipython Notebook](https://www.youtube.com/watch?feature=player_embedded&v=H6dLGQw9yFQ), NetworkX, which are the things we will use in this course.\n",
      " 3. Suppose you installation path of Anaconda is \"*AnacondaPath*\", inside \"*AnacondaPath/bin/*\" folder there are commands like python, ipython, you can enter python either by clicking them or by running \"AnacondaPath/bin/python\" in your terminal, also you should be able to import networkx package. For example, in my computer(Linux),\n",
      "<pre>\n",
      "[rzheng@SymLab ~]$ ./workspace/anaconda-2.1.0/bin/python\n",
      "Python 2.7.8 |Anaconda 2.1.0 (64-bit)| (default, Aug 21 2014, 18:22:21) \n",
      "[GCC 4.4.7 20120313 (Red Hat 4.4.7-1)] on linux2\n",
      "Type \"help\", \"copyright\", \"credits\" or \"license\" for more information.\n",
      "Anaconda is brought to you by Continuum Analytics.\n",
      "Please check out: http://continuum.io/thanks and https://binstar.org\n",
      ">>> import networkx\n",
      ">>> \n",
      "</pre>\n",
      "\n",
      " 4. Ipython Notebook is highly recommended for the purpose of education and self-learning, it enables an interactive experience of using python, and it uses web browser for the rendering of all the intermediate steps including your code snippets and results so you can share your notebooks/experiences with others. For example, in my computer, firefox (my default web browser) will be opened and i can create new notebook and run python codes based on the browser after running the following bash commands.\n",
      "<pre>\n",
      "[rzheng@SymLab tmp]$ ~/workspace/anaconda-2.1.0/bin/ipython notebook\n",
      "2015-02-08 17:24:39.561 [NotebookApp] Using existing profile dir: u'/home/rzheng/.ipython/profile_default'\n",
      "2015-02-08 17:24:39.570 [NotebookApp] Using MathJax from CDN: https://cdn.mathjax.org/mathjax/latest/MathJax.js\n",
      "2015-02-08 17:24:39.612 [NotebookApp] Serving notebooks from local directory: /home/rzheng/tmp\n",
      "2015-02-08 17:24:39.613 [NotebookApp] 0 active kernels \n",
      "2015-02-08 17:24:39.613 [NotebookApp] The IPython Notebook is running at: http://localhost:8888/\n",
      "2015-02-08 17:24:39.613 [NotebookApp] Use Control-C to stop this server and shut down all kernels (twice to skip confirmation).\n",
      "</pre>\n",
      "\n",
      " 5. SNAP is not included in Anaconda, so we have to install its python bindings by ourselves, but it's easy. [Download](http://snap.stanford.edu/snappy/release/) the right version for your OS, unzip it, and then install it using the python inside Anaconda, instead of the python integrated by your OS. For example, in linux,\n",
      "<pre>\n",
      "[rzheng@SymLab workspace]$ wget http://snap.stanford.edu/snappy/release/snap-1.1-2.3-centos6.5-x64-py2.6.tar.gz\n",
      "[rzheng@SymLab workspace]$ tar zxvf snap-1.1-2.3-centos6.5-x64-py2.6.tar.gz \n",
      "[rzheng@SymLab workspace]$ cd snap-1.1-2.3-centos6.5-x64-py2.6\n",
      "[rzheng@SymLab snap-1.1-2.3-centos6.5-x64-py2.6]$ ~/workspace/anaconda-2.1.0/bin/python setup.py install\n",
      "[rzheng@SymLab snap-1.1-2.3-centos6.5-x64-py2.6]$ ~/workspace/anaconda-2.1.0/bin/python\n",
      "Python 2.7.8 |Anaconda 2.1.0 (64-bit)| (default, Aug 21 2014, 18:22:21) \n",
      "[GCC 4.4.7 20120313 (Red Hat 4.4.7-1)] on linux2\n",
      "Type \"help\", \"copyright\", \"credits\" or \"license\" for more information.\n",
      "Anaconda is brought to you by Continuum Analytics.\n",
      "Please check out: http://continuum.io/thanks and https://binstar.org\n",
      ">>> import networkx\n",
      ">>> import snap\n",
      ">>> \n",
      "</pre>"
     ]
    },
    {
     "cell_type": "markdown",
     "metadata": {},
     "source": [
      "# What is NetworkX\n",
      "\n",
      "NetworkX is a Python language software package for the creation, manipulation, and study of the structure, dynamics, and functions of complex networks.\n",
      "\n",
      "## Features\n",
      "* Python language data structures for graphs, digraphs, and multigraphs.\n",
      "* Many standard graph algorithms\n",
      "* Network structure and analysis measures\n",
      "* Generators for classic graphs, random graphs, and synthetic networks\n",
      "* Nodes can be \"anything\" (e.g. text, images, XML records)\n",
      "* Edges can hold arbitrary data (e.g. weights, time-series)\n",
      "* Open source BSD license\n",
      "* Well tested: more than 1800 unit tests, >90% code coverage\n",
      "* Additional benefits from Python: fast prototyping, easy to teach, multi-platform\n",
      "\n",
      "# Rundown of this tutorial\n",
      "\n",
      "1. Creating a Graph\n",
      "2. Nodes\n",
      "3. Edges\n",
      "4. Shortcuts\n",
      "5. Adding attributes to Graphs, Nodes and Edges\n",
      "6. Directed graphs\n",
      "7. Multigraph\n",
      "8. Analyzing graphs\n",
      "9. Draw graphs. \n",
      "10. (Additional) Graph generators. \n",
      "\n",
      "    * Tip: use Ctrl+Enter to run the cells, or Shift+Enter to run current cell and move to next. \n"
     ]
    },
    {
     "cell_type": "markdown",
     "metadata": {},
     "source": [
      "# NetworkX Tutorial\n",
      "\n",
      "### Links\n",
      "+ [Gallery](http://networkx.github.io/documentation/latest/gallery.html)\n",
      "+ [Examples](http://networkx.github.io/documentation/latest/examples/)\n",
      "+ [Reference](http://networkx.github.io/documentation/latest/reference/index.html)\n",
      "+ [Documentation](http://networkx.github.io/documentation/networkx-1.9.1/#)"
     ]
    },
    {
     "cell_type": "markdown",
     "metadata": {},
     "source": [
      "## Creating a Graph\n",
      "\n",
      "Graph is just a collection of nodes(vertices) with edges(links, etc.)\n",
      "\n",
      "In NetworkX, nodes can be any hashable obejct: string, image, XML object, *another Graph*, customized node object. \n",
      "Flexibility boosts efficiency! "
     ]
    },
    {
     "cell_type": "code",
     "collapsed": false,
     "input": [
      "# Simple example\n",
      "import networkx as nx     # nx can be seemed as an alias of networkx module\n",
      "G = nx.Graph()            # create an empty graph with no nodes and no edges\n",
      "print G.nodes(), G.edges()"
     ],
     "language": "python",
     "metadata": {},
     "outputs": [
      {
       "output_type": "stream",
       "stream": "stdout",
       "text": [
        "[] []\n"
       ]
      }
     ],
     "prompt_number": 9
    },
    {
     "cell_type": "markdown",
     "metadata": {},
     "source": [
      "## Nodes\n",
      "\n",
      "Adding node and nodes using add_node and add_nodes_from."
     ]
    },
    {
     "cell_type": "code",
     "collapsed": false,
     "input": [
      "G.add_node(11)    # add a single node\n",
      "print G.nodes()"
     ],
     "language": "python",
     "metadata": {},
     "outputs": [
      {
       "output_type": "stream",
       "stream": "stdout",
       "text": [
        "[11]\n"
       ]
      }
     ],
     "prompt_number": 10
    },
    {
     "cell_type": "code",
     "collapsed": false,
     "input": [
      "G.add_nodes_from([12,13])    # add a list of nodes\n",
      "print G.nodes()"
     ],
     "language": "python",
     "metadata": {},
     "outputs": [
      {
       "output_type": "stream",
       "stream": "stdout",
       "text": [
        "[11, 12, 13]\n"
       ]
      }
     ],
     "prompt_number": 11
    },
    {
     "cell_type": "code",
     "collapsed": false,
     "input": [
      "H=nx.path_graph(10) # [0..10] linearly connected: 0->1->2....->9\n",
      "print H.nodes()\n",
      "print H.edges()"
     ],
     "language": "python",
     "metadata": {},
     "outputs": [
      {
       "output_type": "stream",
       "stream": "stdout",
       "text": [
        "[0, 1, 2, 3, 4, 5, 6, 7, 8, 9]\n",
        "[(0, 1), (1, 2), (2, 3), (3, 4), (4, 5), (5, 6), (6, 7), (7, 8), (8, 9)]\n"
       ]
      }
     ],
     "prompt_number": 12
    },
    {
     "cell_type": "code",
     "collapsed": false,
     "input": [
      "G.add_nodes_from(H) # edges are not added! \n",
      "print G.nodes()\n",
      "print G.edges()"
     ],
     "language": "python",
     "metadata": {},
     "outputs": [
      {
       "output_type": "stream",
       "stream": "stdout",
       "text": [
        "[0, 1, 2, 3, 4, 5, 6, 7, 8, 9, 11, 12, 13]\n",
        "[]\n"
       ]
      }
     ],
     "prompt_number": 13
    },
    {
     "cell_type": "code",
     "collapsed": false,
     "input": [
      "# Alternatively, you can add H as a node\n",
      "G.clear()\n",
      "G.add_node(H)\n",
      "print G.nodes()"
     ],
     "language": "python",
     "metadata": {},
     "outputs": [
      {
       "output_type": "stream",
       "stream": "stdout",
       "text": [
        "[<networkx.classes.graph.Graph object at 0x1066d3110>]\n"
       ]
      }
     ],
     "prompt_number": 14
    },
    {
     "cell_type": "markdown",
     "metadata": {},
     "source": [
      "## Edges"
     ]
    },
    {
     "cell_type": "code",
     "collapsed": false,
     "input": [
      "G.clear()\n",
      "G.add_nodes_from([1,2,3])\n",
      "G.add_edge(1,2)\n",
      "print G.nodes(), G.edges()"
     ],
     "language": "python",
     "metadata": {},
     "outputs": [
      {
       "output_type": "stream",
       "stream": "stdout",
       "text": [
        "[1, 2, 3] [(1, 2)]\n"
       ]
      }
     ],
     "prompt_number": 18
    },
    {
     "cell_type": "code",
     "collapsed": false,
     "input": [
      "e=(2,3)\n",
      "G.add_edge(*e) # unpack edge tuple\n",
      "print G.edges()"
     ],
     "language": "python",
     "metadata": {},
     "outputs": [
      {
       "output_type": "stream",
       "stream": "stdout",
       "text": [
        "[(1, 2), (2, 3)]\n"
       ]
      }
     ],
     "prompt_number": 19
    },
    {
     "cell_type": "code",
     "collapsed": false,
     "input": [
      "G=nx.path_graph(5)\n",
      "G.remove_edge(1,2)\n",
      "print G.edges()\n",
      "G.remove_edges_from(G.edges())  # clear edges\n",
      "print G.edges()\n",
      "G.add_edges_from([(1,2), (1,3)]) # add edges from a edge list\n",
      "print G.edges()\n",
      "G.add_edges_from([(1,2)]) # adding an edge that is already present\n",
      "print G.edges() # No difference! NetworkX quietly ignores, instead of overwriting the edge if it already exists. "
     ],
     "language": "python",
     "metadata": {},
     "outputs": [
      {
       "output_type": "stream",
       "stream": "stdout",
       "text": [
        "[(0, 1), (2, 3), (3, 4)]\n",
        "[]\n",
        "[(1, 2), (1, 3)]\n",
        "[(1, 2), (1, 3)]\n"
       ]
      }
     ],
     "prompt_number": 27
    },
    {
     "cell_type": "markdown",
     "metadata": {},
     "source": [
      "Same code convention applies for remove_node(), remove_nodes_from().. "
     ]
    },
    {
     "cell_type": "code",
     "collapsed": false,
     "input": [
      "G=nx.path_graph(5)\n",
      "G.add_node(\"spam\")  # add one node called \"spam\"\n",
      "G.add_nodes_from(\"spam\") # add 4 nodes: 's', 'p', 'a', 'm', since string \"spam\" in python is actually a list ['s', 'p', 'a', 'm']\n",
      "print G.nodes()\n",
      "print G.number_of_nodes()\n",
      "print G.number_of_edges()"
     ],
     "language": "python",
     "metadata": {},
     "outputs": [
      {
       "output_type": "stream",
       "stream": "stdout",
       "text": [
        "[0, 1, 2, 3, 4, 'spam', 'm', 'p', 's', 'a']\n",
        "10\n",
        "4\n"
       ]
      }
     ],
     "prompt_number": 29
    },
    {
     "cell_type": "code",
     "collapsed": false,
     "input": [
      "G.neighbors(1) # neighbor of node 1"
     ],
     "language": "python",
     "metadata": {},
     "outputs": [
      {
       "metadata": {},
       "output_type": "pyout",
       "prompt_number": 30,
       "text": [
        "[0, 2]"
       ]
      }
     ],
     "prompt_number": 30
    },
    {
     "cell_type": "code",
     "collapsed": false,
     "input": [
      "G=nx.path_graph(5)\n",
      "H = nx.DiGraph(G)    # create a DiGraph using the connections from G\n",
      "print H.nodes(), H.edges()\n",
      "\n",
      "edgelist = [(0,1), (1,2), (2,3)]\n",
      "H = nx.Graph(edgelist)    # create a graph using edgelist\n",
      "print H.nodes(), H.edges()"
     ],
     "language": "python",
     "metadata": {},
     "outputs": [
      {
       "output_type": "stream",
       "stream": "stdout",
       "text": [
        "[0, 1, 2, 3, 4] [(0, 1), (1, 0), (1, 2), (2, 1), (2, 3), (3, 2), (3, 4), (4, 3)]\n",
        "[0, 1, 2, 3] [(0, 1), (1, 2), (2, 3)]\n"
       ]
      }
     ],
     "prompt_number": 34
    },
    {
     "cell_type": "markdown",
     "metadata": {},
     "source": [
      "## Shortcuts\n",
      "\n",
      "There are some useful shortcuts in NetworkX that we can make use of. "
     ]
    },
    {
     "cell_type": "code",
     "collapsed": false,
     "input": [
      "G=nx.path_graph(5)\n",
      "print 1 in G # check node in graph"
     ],
     "language": "python",
     "metadata": {},
     "outputs": [
      {
       "output_type": "stream",
       "stream": "stdout",
       "text": [
        "True\n"
       ]
      }
     ],
     "prompt_number": 35
    },
    {
     "cell_type": "code",
     "collapsed": false,
     "input": [
      "print [n for n in G if n<3] # iterate through all the nodes in the graph"
     ],
     "language": "python",
     "metadata": {},
     "outputs": [
      {
       "output_type": "stream",
       "stream": "stdout",
       "text": [
        "[0, 1, 2]\n"
       ]
      }
     ],
     "prompt_number": 36
    },
    {
     "cell_type": "code",
     "collapsed": false,
     "input": [
      "print len(G) # ==G.number_of_nodes()"
     ],
     "language": "python",
     "metadata": {},
     "outputs": [
      {
       "output_type": "stream",
       "stream": "stdout",
       "text": [
        "5\n"
       ]
      }
     ],
     "prompt_number": 37
    },
    {
     "cell_type": "code",
     "collapsed": false,
     "input": [
      "print G[1] # print adjacency dict using subscript. "
     ],
     "language": "python",
     "metadata": {},
     "outputs": [
      {
       "output_type": "stream",
       "stream": "stdout",
       "text": [
        "{0: {}, 2: {}}\n"
       ]
      }
     ],
     "prompt_number": 38
    },
    {
     "cell_type": "markdown",
     "metadata": {},
     "source": [
      "## Attributes of Graphs, Nodes and Edges"
     ]
    },
    {
     "cell_type": "markdown",
     "metadata": {},
     "source": [
      "Graph attributes and modification"
     ]
    },
    {
     "cell_type": "code",
     "collapsed": false,
     "input": [
      "G = nx.Graph(day='Friday')  # graph has an attribute day which is set to be Friday\n",
      "print G.graph, G.nodes(), G.edges()"
     ],
     "language": "python",
     "metadata": {},
     "outputs": [
      {
       "output_type": "stream",
       "stream": "stdout",
       "text": [
        "{'day': 'Friday'} [] []\n"
       ]
      }
     ],
     "prompt_number": 39
    },
    {
     "cell_type": "code",
     "collapsed": false,
     "input": [
      "G.graph['day'] = 'Monday'  # modify the attribute\n",
      "print G.graph"
     ],
     "language": "python",
     "metadata": {},
     "outputs": [
      {
       "output_type": "stream",
       "stream": "stdout",
       "text": [
        "{'day': 'Monday'}\n"
       ]
      }
     ],
     "prompt_number": 40
    },
    {
     "cell_type": "markdown",
     "metadata": {},
     "source": [
      "Node attributes via add_node, add_nodes_from, or G.node"
     ]
    },
    {
     "cell_type": "code",
     "collapsed": false,
     "input": [
      "G=nx.Graph()\n",
      "G.add_node(1, time = '5pm') # via add_node\n",
      "G.add_nodes_from([3, 4], time = '2pm') # via add_nodes_from\n",
      "G.add_node(2) \n",
      "G.node[2]['time']='10am' # via G.node[]\n",
      "print G.nodes(data=True) # with data=True, attr will be printed"
     ],
     "language": "python",
     "metadata": {},
     "outputs": [
      {
       "output_type": "stream",
       "stream": "stdout",
       "text": [
        "[(1, {'time': '5pm'}), (2, {'time': '10am'}), (3, {'time': '2pm'}), (4, {'time': '2pm'})]\n"
       ]
      }
     ],
     "prompt_number": 48
    },
    {
     "cell_type": "markdown",
     "metadata": {},
     "source": [
      "Edge attributes via add_edge, add_edges_from, subscript or G.edge\n",
      "\n",
      "Note that: 'weight' is a special attribute and should be numeric to hold values used by algorithms requiring weighted edges. "
     ]
    },
    {
     "cell_type": "code",
     "collapsed": false,
     "input": [
      "G=nx.Graph()\n",
      "G.add_edge(1, 2, weight=4.7) # via add_edge\n",
      "G.add_edges_from([(3,4), (4,5)], color='red') # via add_edges_from\n",
      "G.add_edges_from([(1,2,{'color':'blue'}), (2,3,{'weight':8})]) # another example of add_edges_from\n",
      "print G.edges(data=True)\n",
      "\n",
      "G.add_edge(1,3)\n",
      "G[1][3]['color'] = 'blue' # via subscript\n",
      "\n",
      "G.edge[1][2]['weight'] = 4 # via G.edge\n",
      "print G[1] # print adjacency dict using subscript, key by node number and value is attributes. See Shortcuts"
     ],
     "language": "python",
     "metadata": {},
     "outputs": [
      {
       "output_type": "stream",
       "stream": "stdout",
       "text": [
        "[(1, 2, {'color': 'blue', 'weight': 4.7}), (2, 3, {'weight': 8}), (3, 4, {'color': 'red'}), (4, 5, {'color': 'red'})]\n",
        "{2: {'color': 'blue', 'weight': 4}, 3: {'color': 'blue'}}\n"
       ]
      }
     ],
     "prompt_number": 54
    },
    {
     "cell_type": "markdown",
     "metadata": {},
     "source": [
      "## Shortcut Season 2\n",
      "\n",
      "A useful trick to iterate all edges using adjacency iterators, i.e. adjacency_iter(). "
     ]
    },
    {
     "cell_type": "code",
     "collapsed": false,
     "input": [
      "# fast examination of all edges using adjacency iterators\n",
      "FG = nx.Graph()\n",
      "FG.add_weighted_edges_from([(1,2,0.125), (1,3,0.75), (2,4,1.2), (3,4,0.375)])    # add weighted edges\n",
      "for n, nbrs in FG.adjacency_iter():  # n: node, nbrs: corresponding neighbors\n",
      "    for nbr, edge_attr in nbrs.items():\n",
      "        data = edge_attr['weight']\n",
      "        print '(%d, %d, %.3f)' % (n, nbr, data)"
     ],
     "language": "python",
     "metadata": {},
     "outputs": [
      {
       "output_type": "stream",
       "stream": "stdout",
       "text": [
        "(1, 2, 0.125)\n",
        "(1, 3, 0.750)\n",
        "(2, 1, 0.125)\n",
        "(2, 4, 1.200)\n",
        "(3, 1, 0.750)\n",
        "(3, 4, 0.375)\n",
        "(4, 2, 1.200)\n",
        "(4, 3, 0.375)\n"
       ]
      }
     ],
     "prompt_number": 53
    },
    {
     "cell_type": "markdown",
     "metadata": {},
     "source": [
      "## Digraph\n",
      "\n",
      "A DiGraph class is the base class for directed graphs. \n",
      "\n",
      "It includes additional methods specific to directed graphs. "
     ]
    },
    {
     "cell_type": "code",
     "collapsed": false,
     "input": [
      "DG = nx.DiGraph()\n",
      "DG.add_weighted_edges_from([(1,2,0.5), (3,1,0.75)]) # 3->1->2\n",
      "\n",
      "print DG.in_degree(1), DG.out_degree(1), DG.degree(1)\n",
      "print DG.in_degree(1, weight = 'weight'), DG.out_degree(1, weight = 'weight'), DG.degree(1, weight = 'weight') # degree is the sum\n",
      "print DG.successors(1), DG.predecessors(1), DG.neighbors(1) # neighbors in directed graph are equivalent to successors\n",
      "# H = nx.Graph(G) # convert to undirected graph"
     ],
     "language": "python",
     "metadata": {},
     "outputs": [
      {
       "output_type": "stream",
       "stream": "stdout",
       "text": [
        "1 1 2\n",
        "0.75 0.5 1.25\n",
        "[2] [3] [2]\n"
       ]
      }
     ],
     "prompt_number": 57
    },
    {
     "cell_type": "markdown",
     "metadata": {},
     "source": [
      "## Multigraphs\n",
      "\n",
      "Allows multiple edges between pairs of nodes. You can add same edge with different data. \n",
      "\n",
      "Caution: Some algo may not be well defined for such graphs! "
     ]
    },
    {
     "cell_type": "code",
     "collapsed": false,
     "input": [
      "MG = nx.MultiGraph()    # multigraph allow multiple edges between an pair of nodes\n",
      "MG.add_weighted_edges_from([(1,2,.5), (1,2,.75), (2,3,.5)])    # allow to add the same edge twice, possibly with different edge data\n",
      "print MG.degree(weight = 'weight'), '\\n', MG.edges(data = True)"
     ],
     "language": "python",
     "metadata": {},
     "outputs": [
      {
       "output_type": "stream",
       "stream": "stdout",
       "text": [
        "{1: 1.25, 2: 1.75, 3: 0.5} \n",
        "[(1, 2, {'weight': 0.5}), (1, 2, {'weight': 0.75}), (2, 3, {'weight': 0.5})]\n"
       ]
      }
     ],
     "prompt_number": 58
    },
    {
     "cell_type": "code",
     "collapsed": false,
     "input": [
      "# many algorithms are not well defined in multigraph (shortest path .e.g), in such cases should convert to standard graph\n",
      "GG = nx.Graph()\n",
      "for n, nbrs in MG.adjacency_iter():\n",
      "    for nbr, edata in nbrs.items():\n",
      "        minvalue = min([d['weight'] for d in edata.values()]) # find the minimum weight edge between n-nbr\n",
      "        GG.add_edge(n, nbr, weight = minvalue)                # add a single edge between n-nbr with minimum weight\n",
      "        \n",
      "print GG.edges(data=True), '\\n', nx.shortest_path(GG, 1, 3)"
     ],
     "language": "python",
     "metadata": {},
     "outputs": [
      {
       "output_type": "stream",
       "stream": "stdout",
       "text": [
        "[(1, 2, {'weight': 0.5}), (2, 3, {'weight': 0.5})] \n",
        "[1, 2, 3]\n"
       ]
      }
     ],
     "prompt_number": 79
    },
    {
     "cell_type": "markdown",
     "metadata": {},
     "source": [
      "## Analyzing Graphs\n",
      "\n",
      "You can analyze a graph using various graph-theoretic functions. "
     ]
    },
    {
     "cell_type": "code",
     "collapsed": false,
     "input": [
      "G = nx.Graph()\n",
      "G.add_edges_from([(1,2), (1,3)]) # 3<-1->2\n",
      "G.add_node(\"spam\") # isolated node \"spam\"\n",
      "print nx.connected_components(G), '\\n',sorted(nx.degree(G).values()), '\\n', nx.degree(G)\n",
      "print sorted(nx.connected_components(G), key = len, reverse=True) "
     ],
     "language": "python",
     "metadata": {},
     "outputs": [
      {
       "output_type": "stream",
       "stream": "stdout",
       "text": [
        "<generator object connected_components at 0x10685daf0> \n",
        "[0, 1, 1, 2] \n",
        "{1: 2, 2: 1, 3: 1, 'spam': 0}\n",
        "[[1, 2, 3], ['spam']]\n"
       ]
      }
     ],
     "prompt_number": 84
    },
    {
     "cell_type": "code",
     "collapsed": false,
     "input": [
      "print nx.clustering(G)  # compute the clustering coefficients of G\n",
      "G.add_edge(2,3)\n",
      "print nx.clustering(G)"
     ],
     "language": "python",
     "metadata": {},
     "outputs": [
      {
       "output_type": "stream",
       "stream": "stdout",
       "text": [
        "{1: 0.0, 2: 0.0, 3: 0.0, 'spam': 0.0}\n",
        "{1: 1.0, 2: 1.0, 3: 1.0, 'spam': 0.0}\n"
       ]
      }
     ],
     "prompt_number": 85
    },
    {
     "cell_type": "markdown",
     "metadata": {},
     "source": [
      "## Drawing Graphs\n",
      "\n",
      "You can draw basic graphs using Matplotlib (which is included in Anaconda already) or use Graphviz instead. \n",
      "\n",
      "See https://networkx.github.io/documentation/latest/reference/drawing.html for more details. "
     ]
    },
    {
     "cell_type": "code",
     "collapsed": false,
     "input": [
      "import networkx as nx\n",
      "import matplotlib.pyplot as plt\n",
      "%matplotlib inline\n",
      "G=nx.path_graph(10)\n",
      "plt.figure(figsize=(6,4))\n",
      "nx.draw_networkx(G, with_labels=True, node_shape='v')\n",
      "#plt.show()\n",
      "plt.savefig(\"path.png\")"
     ],
     "language": "python",
     "metadata": {},
     "outputs": [
      {
       "metadata": {},
       "output_type": "display_data",
       "png": "[encoded data removed]",
       "text": [
        "<matplotlib.figure.Figure at 0x107ce2d10>"
       ]
      }
     ],
     "prompt_number": 16
    },
    {
     "cell_type": "markdown",
     "metadata": {},
     "source": [
      "## (Additional) Graph generators and graph operations\n",
      "\n",
      "See http://networkx.github.io/documentation/latest/tutorial/tutorial.html#graph-generators-and-graph-operations for instructions on generating graphs using generator and common operators. "
     ]
    },
    {
     "cell_type": "code",
     "collapsed": false,
     "input": [],
     "language": "python",
     "metadata": {},
     "outputs": []
    }
   ],
   "metadata": {}
  }
 ]
}