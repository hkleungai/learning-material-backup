{
  "nbformat": 4,
  "nbformat_minor": 0,
  "metadata": {
    "colab": {
      "name": "pa1_appeal.ipynb",
      "provenance": [],
      "toc_visible": true,
      "collapsed_sections": []
    },
    "kernelspec": {
      "name": "python3",
      "display_name": "Python 3"
    },
    "language_info": {
      "name": "python"
    }
  },
  "cells": [
    {
      "cell_type": "markdown",
      "source": [
        "# Mount Google Drive"
      ],
      "metadata": {
        "id": "kramvZrKSuXw"
      }
    },
    {
      "cell_type": "code",
      "execution_count": 1,
      "metadata": {
        "id": "8u_DOUS7N350",
        "colab": {
          "base_uri": "https://localhost:8080/"
        },
        "outputId": "ce30417f-28b4-49af-e82f-fcd056332e88"
      },
      "outputs": [
        {
          "output_type": "stream",
          "name": "stdout",
          "text": [
            "Mounted at /content/drive\n"
          ]
        }
      ],
      "source": [
        "from google.colab import drive\n",
        "drive.mount(\"/content/drive\")"
      ]
    },
    {
      "cell_type": "markdown",
      "source": [
        "Change the following %cd command according to your own directory. Make sure that all the following files are in the same directory:\n",
        "* heart_disease_dataset.csv\n",
        "* income_census_test_dataset.csv\n",
        "* pa1_sol.py\n",
        "* pa1_stress.py\n",
        "* pa1_tasks.py\n",
        "* test_pa1.py\n"
      ],
      "metadata": {
        "id": "kMXkm06wVboE"
      }
    },
    {
      "cell_type": "code",
      "source": [
        "%cd \"/content/drive/My Drive/COMP2211_Colab/PA1_Appeal\"\n",
        "%ls"
      ],
      "metadata": {
        "colab": {
          "base_uri": "https://localhost:8080/"
        },
        "id": "Xt3-rHcJS4d9",
        "outputId": "e58ca77b-6813-454b-ea91-006ade316041"
      },
      "execution_count": 4,
      "outputs": [
        {
          "output_type": "stream",
          "name": "stdout",
          "text": [
            "/content/drive/My Drive/COMP2211_Colab/PA1_Appeal\n",
            "heart_disease_dataset.csv       pa1_appeal.ipynb  pa1_stress.py  test_pa1.py\n",
            "income_census_test_dataset.csv  pa1_sol.py        pa1_tasks.py\n"
          ]
        }
      ]
    },
    {
      "cell_type": "markdown",
      "source": [
        "# PyTest (14 Test Cases)\n",
        "\n",
        "Detailed test case results will be output by the following code cell. You are encouraged to screenshot the output as supporting evidence in your appeal pdf."
      ],
      "metadata": {
        "id": "H6gE8NsfUU8e"
      }
    },
    {
      "cell_type": "code",
      "source": [
        "!pytest test_pa1.py"
      ],
      "metadata": {
        "colab": {
          "base_uri": "https://localhost:8080/"
        },
        "id": "EwHWATqUTdL-",
        "outputId": "21590235-7a80-4e30-88c9-f50732110006"
      },
      "execution_count": 5,
      "outputs": [
        {
          "output_type": "stream",
          "name": "stdout",
          "text": [
            "\u001b[1m============================= test session starts ==============================\u001b[0m\n",
            "platform linux -- Python 3.7.13, pytest-3.6.4, py-1.11.0, pluggy-0.7.1\n",
            "rootdir: /content/drive/MyDrive/COMP2211_Colab/PA1_Appeal, inifile:\n",
            "plugins: typeguard-2.7.1\n",
            "collected 14 items                                                             \u001b[0m\n",
            "\n",
            "test_pa1.py ..............\u001b[36m                                               [100%]\u001b[0m\n",
            "\n",
            "\u001b[32m\u001b[1m========================== 14 passed in 74.80 seconds ==========================\u001b[0m\n"
          ]
        }
      ]
    },
    {
      "cell_type": "markdown",
      "source": [
        "# Stress Test\n",
        "\n",
        "Note that the stress test will take a longer time to execute. The timeout on ZINC is set to 5 minutes.\n",
        "\n",
        "A successful stress test will output:\n",
        "\n",
        "True \\\n",
        "Stress Test Complete."
      ],
      "metadata": {
        "id": "Tk9xBq-tUagP"
      }
    },
    {
      "cell_type": "code",
      "source": [
        "!python pa1_stress.py"
      ],
      "metadata": {
        "colab": {
          "base_uri": "https://localhost:8080/"
        },
        "id": "PieFFj0BTtiP",
        "outputId": "cf97be74-529e-4904-dc1d-b7b29e7552df"
      },
      "execution_count": 6,
      "outputs": [
        {
          "output_type": "stream",
          "name": "stdout",
          "text": [
            "True\n",
            "Stress Test Complete.\n"
          ]
        }
      ]
    },
    {
      "cell_type": "markdown",
      "source": [
        "# Unmount Google Drive"
      ],
      "metadata": {
        "id": "1DRLZpguUQ9g"
      }
    },
    {
      "cell_type": "code",
      "source": [
        "drive.flush_and_unmount()"
      ],
      "metadata": {
        "id": "b8xIfwGDUMUu"
      },
      "execution_count": 7,
      "outputs": []
    }
  ]
}