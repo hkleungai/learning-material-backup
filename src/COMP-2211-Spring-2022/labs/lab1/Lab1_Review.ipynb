{
  "cells": [
    {
      "cell_type": "markdown",
      "metadata": {
        "id": "8Sqf8JkhDLGt"
      },
      "source": [
        "# **COMP 2211 Exploring Artificial Intelligence** #\n",
        "## Lab 1: NumPy ##\n",
        "\n",
        "![numpy.png](data:image/png;base64,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)"
      ]
    },
    {
      "cell_type": "markdown",
      "metadata": {
        "id": "zhBCktDLt38I"
      },
      "source": [
        "# Review\n",
        "\n",
        "Before we start, let's have a quick recap of the lecture.\n",
        "\n",
        "## NumPy\n",
        "NumPy is a popular open-source Python package for scientific computing and is often used in machine learning research. But knowing why it is so, we need to define vectorization.\n",
        "\n",
        "## Vectorization\n",
        "In NumPy, vectorization <font color='red'>means not using explicit `for` loop or `while` loop and indexing</font>. (It doesn't mean we don't index, we just don't often index inside a `for` loop or `while` loop to access the elements). In this way, the code would look nicer and easier to understand. According to [NumPy](https://numpy.org/doc/stable/user/whatisnumpy.html), it is also \"more concise and closely resembles standard mathematical notation\". Here's an example to demonstrate the idea.\n",
        "\n",
        "Suppose we perform sum of products using a for-loop:\n",
        "\n",
        "```python\n",
        "acc = 0                 # Set accumulator to 0\n",
        "for a, b in zip(x, y):  # Suppose we have two containers x and y and we do parallel iteration\n",
        "    acc += a * b        # Compute sum of products\n",
        "```\n",
        "The same idea can actually be implemented by doing vectorization using NumPy as follows:\n",
        "</p>\n",
        "\n",
        "```python\n",
        "acc = (x * y).sum()     # Compute sum of products using NumPy\n",
        "```\n",
        "<p align=\"justify\">\n",
        "Note that the latter version is shorter, easy to read and understand, and much cleaner.\n",
        "\n",
        "Another benefit of vectorization is that it allows optimizations. NumPy can perform the operations much faster because NumPy contains pre-compiled binaries, which significantly speed up the calculations. You can run the following code to compare."
      ]
    },
    {
      "cell_type": "code",
      "execution_count": null,
      "metadata": {
        "colab": {
          "base_uri": "https://localhost:8080/"
        },
        "id": "G1Qw08p5t38P",
        "outputId": "79f98af8-a6cf-45dc-8fa7-7d218d8e10cc"
      },
      "outputs": [
        {
          "name": "stdout",
          "output_type": "stream",
          "text": [
            "333332833333500000\n",
            "The operation took 0.2087082862854004 seconds\n"
          ]
        }
      ],
      "source": [
        "import time\n",
        "\n",
        "\"\"\"\n",
        "    Calculate sum of products using generic Python List and for loop\n",
        "\"\"\"\n",
        "x = list(range(1000000))  # Create a list of integers, 0, 1, 2, ..., 999999\n",
        "y = list(range(1000000))  # Create another list integers, 0, 1, 2, ..., 999999\n",
        "acc = 0                   # Define accumulator and set it to 0\n",
        "start_time = time.time()  # Start the timer and keep the time\n",
        "for a, b in zip(x, y):\n",
        "    acc += a * b          # Accumulate x * y to count\n",
        "print(acc)                # Print the count\n",
        "end_time = time.time()    # Stop the timer and keep the time\n",
        "print(f'The operation took {end_time - start_time} seconds') # Print the time duration"
      ]
    },
    {
      "cell_type": "code",
      "execution_count": null,
      "metadata": {
        "colab": {
          "base_uri": "https://localhost:8080/"
        },
        "id": "6VIp3DQtt38T",
        "outputId": "faba2e05-1f91-4706-aa7a-dc0de8b96acb"
      },
      "outputs": [
        {
          "name": "stdout",
          "output_type": "stream",
          "text": [
            "333332833333500000\n",
            "The operation took 0.00555419921875 seconds\n"
          ]
        }
      ],
      "source": [
        "import numpy as np\n",
        "\n",
        "\"\"\"\n",
        "    Calculate sum of products using NumPy array and functions\n",
        "\"\"\"\n",
        "x = np.arange(1000000)    # Create a NumPy array of integers, 0, 1, 2, ..., 999999\n",
        "y = np.arange(1000000)    # Create another NumPy array of integers, 0, 1, 2, ..., 999999\n",
        "start_time = time.time()  # Start the timer and keep the time\n",
        "acc = (x * y).sum()       # Element-wise multiplication of array x and y, then sum all the elements on the resultant array\n",
        "print(acc)                # Print the count\n",
        "end_time = time.time()    # Stop the timer and keep the time\n",
        "print(f'The operation took {end_time - start_time} seconds') # Print the time duration"
      ]
    },
    {
      "cell_type": "markdown",
      "metadata": {
        "id": "wGAoRzvGt38U"
      },
      "source": [
        "The above example shows that the code written in NumPy runs significantly faster than the one written using the Python list while obtaining the same result. A golden rule to bear in mind is <font color=\"red\">avoiding using loops</font> but trying to write in NumPy or using machine learning libraries. However, there are cases that we might need to use for/while loop, but it is very rare.\n",
        "\n",
        "NumPy also provides many useful functions for getting statistics, such as  [mean](https://numpy.org/doc/stable/reference/generated/numpy.mean.html), [median](https://numpy.org/doc/stable/reference/generated/numpy.median.html), [standard deviation](https://numpy.org/doc/stable/reference/generated/numpy.std.html), etc. Also, many other functions like generating [random numbers](https://numpy.org/doc/stable/reference/random/index.html) are very important and useful for scientific research, especially for machine learning."
      ]
    },
    {
      "cell_type": "markdown",
      "metadata": {
        "id": "PjLy2oIUt38V"
      },
      "source": [
        "# Array\n",
        "\n",
        "All NumPy array is under the class `numpy.ndarray`. Compared to List in Python, there isn't much difference between the two except <font color=\"red\">the length of `numpy.ndarray` is fixed when the it is created</font>.\n",
        "\n",
        "`numpy.array` and `List` can store anything we assign to it. However, one important thing is that most of the <font color=\"red\">operations in NumPy require the array to have numerical types</font>. Another problem with such versatility is that some operations might require a specific data type. If we don't take extra precautions to the data types of the array, it could cause catastrophic results. (Imagine you have run your program for two days only to find that the data type is wrong and the result is garbage.)\n"
      ]
    },
    {
      "cell_type": "code",
      "execution_count": null,
      "metadata": {
        "colab": {
          "base_uri": "https://localhost:8080/",
          "height": 131
        },
        "id": "I-ch-pEHt38V",
        "outputId": "36ad4665-fc6b-4f7f-f655-51c707cd02ae"
      },
      "outputs": [
        {
          "ename": "SyntaxError",
          "evalue": "ignored",
          "output_type": "error",
          "traceback": [
            "\u001b[0;36m  File \u001b[0;32m\"<fstring>\"\u001b[0;36m, line \u001b[0;32m1\u001b[0m\n\u001b[0;31m    (type(x := np.array([1,2,3, EmptyClass()])))\u001b[0m\n\u001b[0m            ^\u001b[0m\n\u001b[0;31mSyntaxError\u001b[0m\u001b[0;31m:\u001b[0m invalid syntax\n"
          ]
        }
      ],
      "source": [
        "class EmptyClass:\n",
        "    pass # The pass statement is used as a placeholder for future code\n",
        "\n",
        "\n",
        "print(f'The type of numpy array is {type(x := np.array([1,2,3, EmptyClass()]))}')  # := assign variable within expressions. Only available from Python 3.8 onwards.\n",
        "print(f'The data type of the array is {x.dtype}')\n",
        "x + 1  # This line causes an error!"
      ]
    },
    {
      "cell_type": "markdown",
      "metadata": {
        "id": "Snl-S6hbt38W"
      },
      "source": [
        "## Creating a NumPy array\n",
        "\n",
        "NumPy provides many functions to create arrays. Here are some examples:\n"
      ]
    },
    {
      "cell_type": "code",
      "execution_count": null,
      "metadata": {
        "id": "lqrPNftIt38X",
        "outputId": "260910ef-6918-4370-bbb2-168a5f33e6d5"
      },
      "outputs": [
        {
          "name": "stdout",
          "output_type": "stream",
          "text": [
            "Content of the array\n",
            "[[1 2 3]\n",
            " [2 3 4]]\n",
            "Shape of the array (2, 3)\n",
            "Content of the array\n",
            "[[1 1 1]\n",
            " [1 1 1]]\n",
            "Shape of the array (2, 3)\n",
            "Content of the array\n",
            "[[0. 0. 0.]\n",
            " [0. 0. 0.]]\n",
            "Shape of the array (2, 3)\n",
            "Content of the array\n",
            "[[[1. 1. 1.]\n",
            "  [1. 1. 1.]\n",
            "  [1. 1. 1.]]\n",
            "\n",
            " [[1. 1. 1.]\n",
            "  [1. 1. 1.]\n",
            "  [1. 1. 1.]]\n",
            "\n",
            " [[1. 1. 1.]\n",
            "  [1. 1. 1.]\n",
            "  [1. 1. 1.]]]\n",
            "Shape of the array (3, 3, 3)\n",
            "Content of the array\n",
            "[0 1 2 3 4 5 6 7 8 9]\n",
            "Shape of the array (10,)\n"
          ]
        }
      ],
      "source": [
        "# A function to print the array content and its shape\n",
        "def print_array(arr):\n",
        "    print(f'Content of the array\\n{arr}\\nShape of the array {arr.shape}')\n",
        "\n",
        "\n",
        "a = np.array([[1, 2, 3], [2, 3, 4]])  # Create array from other iterables (e.g. List)\n",
        "b = np.ones_like(a)     # Create array with same shape and same type as a\n",
        "c = np.zeros(a.shape)   # Create array with shape of other array\n",
        "d = np.ones((3, 3, 3))  # Create array with provided shape (3, 3, 3)\n",
        "e = np.arange(10)       # Create array with 10 consective numbers starting from 0\n",
        "print_array(a)\n",
        "print_array(b)\n",
        "print_array(c)\n",
        "print_array(d)\n",
        "print_array(e)"
      ]
    },
    {
      "cell_type": "markdown",
      "metadata": {
        "id": "PMRI26uXt38X"
      },
      "source": [
        "## Attributes of NumPy array\n",
        "\n",
        "As shown above, we have accessed the attribute <font color=\"red\">``shape``</font> of the array. It shows the <font color=\"red\">number of elements on each axis</font>. Later in the lab, when we mentioned the first axis, the nth axis, it would be derived from this attribute. This also shows the order of the dimension when you're indexing the array, which will be discussed later.\n",
        "\n",
        "Other attributes of the array include,\n",
        "\n",
        "-   ndim   (Number of array dimensions)\n",
        "-   dtype  (Data-type of the array's elements)\n",
        "-   etc.\n"
      ]
    },
    {
      "cell_type": "code",
      "execution_count": null,
      "metadata": {
        "id": "yBL1WDR2t38Y",
        "outputId": "260be673-eac4-4bc4-bb76-34705411bc17"
      },
      "outputs": [
        {
          "name": "stdout",
          "output_type": "stream",
          "text": [
            "(6,)\n",
            "1\n",
            "int64\n"
          ]
        }
      ],
      "source": [
        "a = np.arange(6)\n",
        "print(a.shape)\n",
        "print(a.ndim)\n",
        "print(a.dtype)"
      ]
    },
    {
      "cell_type": "markdown",
      "metadata": {
        "id": "i3g6yPuMt38Z"
      },
      "source": [
        "You can refer to the lecture notes or look into the [official tutorial of NumPy](https://numpy.org/doc/stable/user/basics.creation.html) for functions that can be used to create new arrays.\n",
        "\n",
        "## Indexing\n",
        "\n",
        "NumPy supports the Pythonic way to index ndarray arrays.\n"
      ]
    },
    {
      "cell_type": "code",
      "execution_count": null,
      "metadata": {
        "colab": {
          "base_uri": "https://localhost:8080/"
        },
        "id": "CESOdkapt38Z",
        "outputId": "64cd103f-b46e-4325-bbd2-4bdee5b5ac42"
      },
      "outputs": [
        {
          "name": "stdout",
          "output_type": "stream",
          "text": [
            "The second elements: 2\n",
            "The last elements: 99\n",
            "Select from index 10 to 20 (exclusive): [10 11 12 13 14 15 16 17 18 19]\n",
            "Select from index 0 to 10 (exclusive): [0 1 2 3 4 5 6 7 8 9]\n",
            "Select from index 90 to the end of the list: [90 91 92 93 94 95 96 97 98 99]\n",
            "Select from index 10 (count from the end of list) to the end of list: [90 91 92 93 94 95 96 97 98 99]\n",
            "Select from the start of list to the end of list:\n",
            " [ 0  1  2  3  4  5  6  7  8  9 10 11 12 13 14 15 16 17 18 19 20 21 22 23\n",
            " 24 25 26 27 28 29 30 31 32 33 34 35 36 37 38 39 40 41 42 43 44 45 46 47\n",
            " 48 49 50 51 52 53 54 55 56 57 58 59 60 61 62 63 64 65 66 67 68 69 70 71\n",
            " 72 73 74 75 76 77 78 79 80 81 82 83 84 85 86 87 88 89 90 91 92 93 94 95\n",
            " 96 97 98 99]\n",
            "Select from index 1 to 7 (exclusive) with increment 2: [1 3 5]\n",
            "Select from index 7 to 1 (exclusive) with increment -1: [7 6 5 4 3 2]\n"
          ]
        }
      ],
      "source": [
        "import numpy as np\n",
        "\n",
        "a = np.arange(100)  # Create a NumPy array with values, 0, 1, 2, ..., 99\n",
        "print('The second elements:', a[2])\n",
        "print('The last elements:', a[-1])\n",
        "print('Select from index 10 to 20 (exclusive):', a[10:20])\n",
        "print('Select from index 0 to 10 (exclusive):', a[:10])\n",
        "print('Select from index 90 to the end of the list:', a[90:])\n",
        "print('Select from index 10 (count from the end of list) to the end of list:', a[-10:])\n",
        "print('Select from the start of list to the end of list:\\n', a[:])\n",
        "print('Select from index 1 to 7 (exclusive) with increment 2:', a[1:7:2])\n",
        "print('Select from index 7 to 1 (exclusive) with increment -1:', a[7:1:-1])\n"
      ]
    },
    {
      "cell_type": "markdown",
      "metadata": {
        "id": "VzvTTSh5t38Z"
      },
      "source": [
        "When there is more than one dimension, we can either do `a[0][1]` like normal Python code or `a[0, 1]`. The axis here has the same order as what the `shape` attribute shows.\n"
      ]
    },
    {
      "cell_type": "code",
      "execution_count": null,
      "metadata": {
        "id": "XDqnxgMht38a",
        "outputId": "0bb84bd9-1b68-458f-9f9a-f95b94b317b7"
      },
      "outputs": [
        {
          "name": "stdout",
          "output_type": "stream",
          "text": [
            "[[521 522]\n",
            " [531 532]\n",
            " [541 542]\n",
            " [551 552]]\n",
            "(2, 10, 10)\n"
          ]
        }
      ],
      "source": [
        "a = np.arange(1000).reshape(10, 10, 10)\n",
        "print(a[5, 2:6, 1:3])\n",
        "print(a[3:5, ...].shape)  # We can use ... to select all other dimensions\n"
      ]
    },
    {
      "cell_type": "markdown",
      "metadata": {
        "id": "4_iLC1o9t38a"
      },
      "source": [
        "## Integer Array Indexing\n",
        "\n",
        "Besides the Pythonic way of indexing (slicing) NumPy arrays, there's a more advanced way to index NumPy arrays using **integer** arrays. (Could be a list or numpy.ndarray with integer dtype)\n"
      ]
    },
    {
      "cell_type": "code",
      "execution_count": null,
      "metadata": {
        "colab": {
          "base_uri": "https://localhost:8080/"
        },
        "id": "cfxqJYAOt38a",
        "outputId": "770b0541-5a1f-4bc2-cba6-500c3d352c25"
      },
      "outputs": [
        {
          "name": "stdout",
          "output_type": "stream",
          "text": [
            "[[0 1]\n",
            " [2 3]\n",
            " [4 5]]\n",
            "[0 3 4]\n"
          ]
        }
      ],
      "source": [
        "a = np.arange(6).reshape(3, 2)  # a = [ [0, 1],\n",
        "                                #       [2, 3],\n",
        "                                #       [4, 5] ]\n",
        "print(a)\n",
        "print(a[[0, 1, 2], [0, 1, 0]])  # Select from index 0, 1, 2 at the first axis and index 0, 1, 0 from the second axis"
      ]
    },
    {
      "cell_type": "markdown",
      "metadata": {
        "id": "4VcDSwUOt38a"
      },
      "source": [
        "With the indexing methods above, we can easily copy and amend the values without writing long codes.\n",
        "\n",
        "## Boolean Array Indexing\n",
        "\n",
        "We can also use True and False to choose individual values. However, this is probably more useful when combining it with [logic functions](https://numpy.org/doc/stable/reference/routines.logic.html) from NumPy.\n"
      ]
    },
    {
      "cell_type": "code",
      "execution_count": null,
      "metadata": {
        "colab": {
          "base_uri": "https://localhost:8080/"
        },
        "id": "nVv4ur8Lt38b",
        "outputId": "aa8de6fa-557f-4cef-fa40-b974fc9e14f1"
      },
      "outputs": [
        {
          "name": "stdout",
          "output_type": "stream",
          "text": [
            "[0 1 2 4 5 6 7 9]\n"
          ]
        }
      ],
      "source": [
        "a = np.arange(12).reshape(3, 4)  # [ [0 1 2 3]\n",
        "                                 #   [4 5 6 7]\n",
        "                                 #   [8 9 10 11] ]\n",
        "selection = np.array([[True, True, True, False], \n",
        "                      [True, True, True, True],\n",
        "                      [False, True, False, False]])\n",
        "print(a[selection])  # Boolean Array Indexing"
      ]
    },
    {
      "cell_type": "code",
      "execution_count": null,
      "metadata": {
        "id": "2bXA12xJt38b",
        "outputId": "59dbd5dd-ab5a-425a-d162-b221a642104d"
      },
      "outputs": [
        {
          "name": "stdout",
          "output_type": "stream",
          "text": [
            "[[ True  True  True  True]\n",
            " [ True  True False False]\n",
            " [False False False  True]]\n"
          ]
        },
        {
          "data": {
            "text/plain": [
              "array([ 0,  1,  2,  3,  4,  5, 11])"
            ]
          },
          "execution_count": 67,
          "metadata": {},
          "output_type": "execute_result"
        }
      ],
      "source": [
        "# a = [ [0 1 2 3]\n",
        "#       [4 5 6 7]\n",
        "#       [8 9 10 11] ]\n",
        "selection1 = a < 6   # Comparison, return a 2D array with True value for those entry values < 6, and False otherwise\n",
        "selection2 = a > 10  # Comparison, return a 2D array with True value for those entry values > 10, and False otherwise\n",
        "selection = np.logical_or(selection1, selection2)  # Logical OR, return a 2D array with True value for those entry value < 6 OR value > 10, false otherwise\n",
        "selection = selection1 | selection2  # Same as the previous line\n",
        "print(selection)\n",
        "\n",
        "a[selection]"
      ]
    },
    {
      "cell_type": "markdown",
      "metadata": {
        "id": "3vRkxlnjt38b"
      },
      "source": [
        "## Data types\n",
        "\n",
        "NumPy array has a type. NumPy usually decides the type of the array for us, but sometimes we might want to declare or convert the datatype of the array. E.g.  indexing an array.\n"
      ]
    },
    {
      "cell_type": "code",
      "execution_count": null,
      "metadata": {
        "colab": {
          "base_uri": "https://localhost:8080/"
        },
        "id": "22Dxm9yLt38c",
        "outputId": "3695a9dd-c1b0-4a51-dd72-3349b6bbf0bf"
      },
      "outputs": [
        {
          "name": "stdout",
          "output_type": "stream",
          "text": [
            "int64\n",
            "float64\n",
            "object\n"
          ]
        }
      ],
      "source": [
        "class empty:\n",
        "    pass\n",
        "\n",
        "\n",
        "print(np.array([1, 2]).dtype)      # All elements are of type int\n",
        "print(np.array([1, 2, 3.]).dtype)  # The first two elements are of type int, and the third element is of type float, float is a more general type than int\n",
        "print(np.array([1, 2, 3., \"https://www.youtube.com/watch?v=dQw4w9WgXcQ\", empty()]).dtype)  # <object> is the most general type in Python"
      ]
    },
    {
      "cell_type": "code",
      "execution_count": null,
      "metadata": {
        "colab": {
          "base_uri": "https://localhost:8080/",
          "height": 218
        },
        "id": "Wz6qLXGIt38c",
        "outputId": "64416784-4366-4b53-d422-c7d471bd70e4"
      },
      "outputs": [
        {
          "name": "stdout",
          "output_type": "stream",
          "text": [
            "[0 1 2 3 4]\n"
          ]
        },
        {
          "ename": "IndexError",
          "evalue": "ignored",
          "output_type": "error",
          "traceback": [
            "\u001b[0;31m---------------------------------------------------------------------------\u001b[0m",
            "\u001b[0;31mIndexError\u001b[0m                                Traceback (most recent call last)",
            "\u001b[0;32m<ipython-input-8-a3aa7a4bb4cb>\u001b[0m in \u001b[0;36m<module>\u001b[0;34m()\u001b[0m\n\u001b[1;32m      3\u001b[0m \u001b[0;34m\u001b[0m\u001b[0m\n\u001b[1;32m      4\u001b[0m \u001b[0mprint\u001b[0m\u001b[0;34m(\u001b[0m\u001b[0ma\u001b[0m\u001b[0;34m[\u001b[0m\u001b[0mb\u001b[0m\u001b[0;34m[\u001b[0m\u001b[0;34m:\u001b[0m\u001b[0;36m5\u001b[0m\u001b[0;34m]\u001b[0m\u001b[0;34m.\u001b[0m\u001b[0mastype\u001b[0m\u001b[0;34m(\u001b[0m\u001b[0mnp\u001b[0m\u001b[0;34m.\u001b[0m\u001b[0mint32\u001b[0m\u001b[0;34m)\u001b[0m\u001b[0;34m]\u001b[0m\u001b[0;34m)\u001b[0m  \u001b[0;31m# Select from index 0 to 5 (exclusive) and convert them to int32\u001b[0m\u001b[0;34m\u001b[0m\u001b[0;34m\u001b[0m\u001b[0m\n\u001b[0;32m----> 5\u001b[0;31m \u001b[0ma\u001b[0m\u001b[0;34m[\u001b[0m\u001b[0mb\u001b[0m\u001b[0;34m]\u001b[0m  \u001b[0;31m# Index a using b, but b is of type float32, so error is raised\u001b[0m\u001b[0;34m\u001b[0m\u001b[0;34m\u001b[0m\u001b[0m\n\u001b[0m",
            "\u001b[0;31mIndexError\u001b[0m: arrays used as indices must be of integer (or boolean) type"
          ]
        }
      ],
      "source": [
        "a = np.arange(10)                   # a = [0 1 2 3 4 5 6 7 8 9]\n",
        "b = np.arange(10, dtype=np.float32) # b = [0.0 1.0 2.0 3.0 4.0 5.0 6.0 7.0 8.0 9.0]\n",
        "\n",
        "print(a[b[:5].astype(np.int32)])    # Select from index 0 to 5 (exclusive) and convert them to int32\n",
        "a[b]  # Index a using b, but b is of type float32, so error is raised"
      ]
    },
    {
      "cell_type": "markdown",
      "metadata": {
        "id": "seerIxtgt38c"
      },
      "source": [
        "## Array Arithmetic\n",
        "\n",
        "NumPy supports elementwise arithmetic operations (+, -, \\*, /) and basic matrix operations (e.g. dot product, transpose. It's okay if you don't know what these are at this point).\n"
      ]
    },
    {
      "cell_type": "code",
      "execution_count": null,
      "metadata": {
        "id": "heznChuOt38c",
        "outputId": "182584f7-3a24-4e87-cc13-7728338119b7"
      },
      "outputs": [
        {
          "name": "stdout",
          "output_type": "stream",
          "text": [
            "[[10 12 14]\n",
            " [16 18 20]]\n",
            "[[ 35  44]\n",
            " [134 170]]\n"
          ]
        }
      ],
      "source": [
        "a = np.arange(6).reshape(2, 3)        # a = [ [0 1 2]\n",
        "                                      #       [3 4 5] ]\n",
        "b = np.arange(10, 16).reshape(2, 3)   # b = [ [10 11 12]\n",
        "                                      #       [13 14 15] ]\n",
        "print(a + b)\n",
        "print(a @ b.T)  # a @ b.T is equivalent to np.dot(a, b.T). This is called matrix multiplication where b.T is the transpose of b. \n",
        "                # (Again, not necessary for you to know what this means exactly at this point)"
      ]
    },
    {
      "cell_type": "markdown",
      "metadata": {
        "id": "RLAa3_TNt38d"
      },
      "source": [
        "## NumPy Functions\n",
        "\n",
        "NumPy provides many different functions for performing computations on arrays. One of them would be numpy.sum()\n"
      ]
    },
    {
      "cell_type": "code",
      "execution_count": null,
      "metadata": {
        "id": "seM6x8XNt38d",
        "outputId": "10c49362-6e85-4d10-f61f-a5cc4b9acaa9"
      },
      "outputs": [
        {
          "name": "stdout",
          "output_type": "stream",
          "text": [
            "[[0 1 2]\n",
            " [3 4 5]]\n",
            "15\n",
            "15\n",
            "[3 5 7]\n",
            "[ 3 12]\n",
            "0\n",
            "[0 1 2]\n",
            "[0 3]\n"
          ]
        }
      ],
      "source": [
        "a = np.arange(6).reshape(2, 3)  # a = [ [0 1 2]\n",
        "                                #       [3 4 5] ]\n",
        "print(a)\n",
        "print(np.sum(a))      # Find the sum of all the elements\n",
        "print(a.sum())        # This is equivalent to the previous line\n",
        "print(a.sum(axis=0))  # Find the sum along the first axis, i.e., the vertical axis, (0+3), (1+4), (2+5)\n",
        "print(a.sum(axis=1))  # Find the sum along the second axis, i.e., the horizontal axis, (0+1+2), (3+4+5)\n",
        "print(a.min())        # Find the min for the whole array\n",
        "print(a.min(axis=0))  # Find the min along the first axis\n",
        "print(a.min(axis=1))  # Fine the min along the second axis\n"
      ]
    },
    {
      "cell_type": "markdown",
      "metadata": {
        "id": "PjBug_u3t38d"
      },
      "source": [
        "## Broadcasting\n",
        "\n",
        "<font color=\"red\">Broadcasting</font> allows us to <font color=\"red\">perform operations on arrays with different shapes</font>. This function greatly reduces the redundancy of our codes and makes them much more readable and shorter.\n",
        "\n",
        "However, there are a few rules (and steps) for this to work. (You can also refer to notes if it's unclear)\n",
        "1. Dimensions are matched from the last dimension to the first dimension (according to attribute ```shape```). If one of the arrays has less dimension, it is broadcastable as long as the array with lower dimensions can match all its shapes to the larger arrays.\n",
        "2. During matching, the dimension could be matched if and only if,\n",
        "   1. Both of them are equal, or\n",
        "   2. One of them is equal to 1\n",
        "3. The content is copied across that specific dimension when the array is broadcasted."
      ]
    },
    {
      "cell_type": "code",
      "execution_count": null,
      "metadata": {
        "id": "GVi0Xc1mt38d",
        "outputId": "754d9829-b01c-4238-cb8b-013d76df3e7b"
      },
      "outputs": [
        {
          "ename": "ValueError",
          "evalue": "operands could not be broadcast together with shapes (2,4,3,3) (2,2,3,3) ",
          "output_type": "error",
          "traceback": [
            "\u001b[0;31m---------------------------------------------------------------------------\u001b[0m",
            "\u001b[0;31mValueError\u001b[0m                                Traceback (most recent call last)",
            "\u001b[0;32m/tmp/ipykernel_1471373/3625013588.py\u001b[0m in \u001b[0;36m<module>\u001b[0;34m\u001b[0m\n\u001b[1;32m     11\u001b[0m \u001b[0;34m\u001b[0m\u001b[0m\n\u001b[1;32m     12\u001b[0m \u001b[0me\u001b[0m \u001b[0;34m=\u001b[0m \u001b[0mnp\u001b[0m\u001b[0;34m.\u001b[0m\u001b[0mones\u001b[0m\u001b[0;34m(\u001b[0m\u001b[0;34m(\u001b[0m\u001b[0;36m2\u001b[0m\u001b[0;34m,\u001b[0m \u001b[0;36m2\u001b[0m\u001b[0;34m,\u001b[0m \u001b[0;36m3\u001b[0m\u001b[0;34m,\u001b[0m \u001b[0;36m3\u001b[0m\u001b[0;34m)\u001b[0m\u001b[0;34m)\u001b[0m\u001b[0;34m\u001b[0m\u001b[0;34m\u001b[0m\u001b[0m\n\u001b[0;32m---> 13\u001b[0;31m \u001b[0m_\u001b[0m \u001b[0;34m=\u001b[0m \u001b[0ma\u001b[0m \u001b[0;34m+\u001b[0m \u001b[0me\u001b[0m \u001b[0;31m# Error! Rule 2, at the second dimension, the dimension is neither matched nor neither is 1\u001b[0m\u001b[0;34m\u001b[0m\u001b[0;34m\u001b[0m\u001b[0m\n\u001b[0m",
            "\u001b[0;31mValueError\u001b[0m: operands could not be broadcast together with shapes (2,4,3,3) (2,2,3,3) "
          ]
        }
      ],
      "source": [
        "a = np.ones((2, 4, 3, 3))\n",
        "b = np.ones((4, 3, 3))\n",
        "\n",
        "_ = a + b  # Ok! Rule 1, b can match all if its dimensions to a from right to left\n",
        "\n",
        "c = np.ones((4, 3, 1))\n",
        "_ = a + c  # Ok! Rule 2.2, dimension can be matched if they're equal or one of them is 1\n",
        "\n",
        "d = np.ones((2, 4, 3))\n",
        "_ = a + d  # Error ! Rule 1, dimension is matched from the right to left\n",
        "\n",
        "e = np.ones((2, 2, 3, 3))\n",
        "_ = a + e  # Error! Rule 2, at the second dimension, the dimension is neither matched nor neither is 1"
      ]
    },
    {
      "cell_type": "code",
      "execution_count": null,
      "metadata": {
        "colab": {
          "base_uri": "https://localhost:8080/",
          "height": 444
        },
        "id": "VIa9dy4Ct38d",
        "outputId": "30e73a82-29f8-4d1f-bfa1-4a348373b61e"
      },
      "outputs": [
        {
          "name": "stdout",
          "output_type": "stream",
          "text": [
            "[[ 1  1  2  4]\n",
            " [ 5  5  6  8]\n",
            " [ 9  9 10 12]]\n",
            "[[ 1  2  3  4]\n",
            " [ 4  5  6  7]\n",
            " [ 9 10 11 12]]\n",
            "[[ 1  2  3  4]\n",
            " [ 4  5  6  7]\n",
            " [ 9 10 11 12]]\n",
            "[[ 1  2  3  4]\n",
            " [ 4  5  6  7]\n",
            " [ 9 10 11 12]]\n"
          ]
        },
        {
          "ename": "ValueError",
          "evalue": "ignored",
          "output_type": "error",
          "traceback": [
            "\u001b[0;31m---------------------------------------------------------------------------\u001b[0m",
            "\u001b[0;31mValueError\u001b[0m                                Traceback (most recent call last)",
            "\u001b[0;32m<ipython-input-9-4e505afbcb20>\u001b[0m in \u001b[0;36m<module>\u001b[0;34m()\u001b[0m\n\u001b[1;32m     10\u001b[0m \u001b[0mprint\u001b[0m\u001b[0;34m(\u001b[0m\u001b[0mx\u001b[0m \u001b[0;34m+\u001b[0m \u001b[0moffset2\u001b[0m\u001b[0;34m.\u001b[0m\u001b[0mreshape\u001b[0m\u001b[0;34m(\u001b[0m\u001b[0;36m3\u001b[0m\u001b[0;34m,\u001b[0m \u001b[0;34m-\u001b[0m\u001b[0;36m1\u001b[0m\u001b[0;34m)\u001b[0m\u001b[0;34m)\u001b[0m  \u001b[0;31m# Same as above. -1 in reshape means letting NumPy to decide what should be the dimension. In this case, the dimension where -1 is located has to be 1.\u001b[0m\u001b[0;34m\u001b[0m\u001b[0;34m\u001b[0m\u001b[0m\n\u001b[1;32m     11\u001b[0m \u001b[0mprint\u001b[0m\u001b[0;34m(\u001b[0m\u001b[0mx\u001b[0m \u001b[0;34m+\u001b[0m \u001b[0moffset2\u001b[0m\u001b[0;34m[\u001b[0m\u001b[0;34m:\u001b[0m\u001b[0;34m,\u001b[0m \u001b[0mnp\u001b[0m\u001b[0;34m.\u001b[0m\u001b[0mnewaxis\u001b[0m\u001b[0;34m]\u001b[0m\u001b[0;34m)\u001b[0m  \u001b[0;31m# Same as above two, but np.newaxis could behave differently than reshape() in some cases. Please read the docs if you're interested.\u001b[0m\u001b[0;34m\u001b[0m\u001b[0;34m\u001b[0m\u001b[0m\n\u001b[0;32m---> 12\u001b[0;31m \u001b[0mprint\u001b[0m\u001b[0;34m(\u001b[0m\u001b[0mx\u001b[0m \u001b[0;34m+\u001b[0m \u001b[0moffset2\u001b[0m\u001b[0;34m)\u001b[0m\u001b[0;34m\u001b[0m\u001b[0;34m\u001b[0m\u001b[0m\n\u001b[0m",
            "\u001b[0;31mValueError\u001b[0m: operands could not be broadcast together with shapes (3,4) (3,) "
          ]
        }
      ],
      "source": [
        "import numpy as np\n",
        "x = np.arange(12).reshape(3, 4)    # x = [ [0 1 2 3]\n",
        "                                   #       [4 5 6 7]\n",
        "                                   #       [8 9 10 11] ]\n",
        "offset1 = np.array([1, 0, 0, 1])   # offset1 = [1 0 0 1]\n",
        "offset2 = np.array([1, 0, 1])      # offset2 = [1 0 1]\n",
        "\n",
        "print(x + offset1)                 # offset is copied to all the elements of x\n",
        "print(x + offset2.reshape(3, 1))   # This line adds a new axis so that the shape of offset2 becomes (3, 1)\n",
        "print(x + offset2.reshape(3, -1))  # Same as above. -1 in reshape means letting NumPy to decide what should be the dimension. In this case, the dimension where -1 is located has to be 1.\n",
        "print(x + offset2[:, np.newaxis])  # Same as above two, but np.newaxis could behave differently than reshape() in some cases. Please read the docs if you're interested.\n",
        "print(x + offset2)\n"
      ]
    },
    {
      "cell_type": "markdown",
      "metadata": {
        "id": "Y29eLrhOt38e"
      },
      "source": [
        "# Conclusion\n",
        "\n",
        "NumPy provides a wide variety of functions to enable efficient scientific research and engineering calculations. It keeps the simplicity of Python while allowing users to do complex computation tasks. It is a very important and useful tool if you want to dive deeper into the field of machine learning. Even though you might use other libraries in the future, many of the functions in NumPy is transferable.\n"
      ]
    },
    {
      "cell_type": "code",
      "execution_count": null,
      "metadata": {
        "id": "IyaS2hsDE0q9"
      },
      "outputs": [],
      "source": [
        "### This is the end of the review.\n",
        "### Referenced from COMP2211 notes and NumPy official documentations\n",
        "### Created by Nai Chit FUNG and heavily edited by Desmond Tsoi for the purposes of teaching COMP2211"
      ]
    }
  ],
  "metadata": {
    "colab": {
      "collapsed_sections": [
        "PMRI26uXt38X",
        "Y29eLrhOt38e"
      ],
      "name": "Lab1-Review.ipynb",
      "provenance": []
    },
    "interpreter": {
      "hash": "31f2aee4e71d21fbe5cf8b01ff0e069b9275f58929596ceb00d14d90e3e16cd6"
    },
    "kernelspec": {
      "display_name": "Python 3.9.7 64-bit",
      "language": "python",
      "name": "python3"
    },
    "language_info": {
      "codemirror_mode": {
        "name": "ipython",
        "version": 3
      },
      "file_extension": ".py",
      "mimetype": "text/x-python",
      "name": "python",
      "nbconvert_exporter": "python",
      "pygments_lexer": "ipython3",
      "version": "3.9.7"
    },
    "orig_nbformat": 4
  },
  "nbformat": 4,
  "nbformat_minor": 0
}
