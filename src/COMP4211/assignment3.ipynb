{
 "cells": [
  {
   "cell_type": "markdown",
   "metadata": {
    "id": "6UxktCmc2T_d"
   },
   "source": [
    "# Assignment3"
   ]
  },
  {
   "cell_type": "code",
   "execution_count": 2,
   "metadata": {
    "id": "BkWoN_ri2eE6"
   },
   "outputs": [],
   "source": [
    "states = ('poor_unknown', 'poor_famous', 'rich_unknown', 'rich_famous')\n",
    "actions = ('save_money', 'advertise')\n",
    "gamma = 0.9  # discount constant\n",
    "\n",
    "def reward(state):\n",
    "    if state == 'poor_unknown' or state == 'poor_famous':\n",
    "        return 0\n",
    "    elif state == 'rich_unknown' or state == 'rich_famous':\n",
    "        return 10\n",
    "\n",
    "def transition_function(state, action, next_state):\n",
    "    transition_dictionary = {\n",
    "        ('poor_unknown', 'save_money', 'poor_unknown'): 1.0,\n",
    "        ('poor_unknown', 'save_money', 'poor_famous'): 0,\n",
    "        ('poor_unknown', 'save_money', 'rich_unknown'): 0,\n",
    "        ('poor_unknown', 'save_money', 'rich_famous'): 0,\n",
    "        ('poor_unknown', 'advertise', 'poor_unknown'): 0.5,\n",
    "        ('poor_unknown', 'advertise', 'poor_famous'): 0.5,\n",
    "        ('poor_unknown', 'advertise', 'rich_unknown'): 0,\n",
    "        ('poor_unknown', 'advertise', 'rich_famous'): 0,\n",
    "\n",
    "        ('poor_famous', 'save_money', 'poor_unknown'): 0.5,\n",
    "        ('poor_famous', 'save_money', 'poor_famous'): 0,\n",
    "        ('poor_famous', 'save_money', 'rich_unknown'): 0,\n",
    "        ('poor_famous', 'save_money', 'rich_famous'): 0.5,\n",
    "        ('poor_famous', 'advertise', 'poor_unknown'): 0,\n",
    "        ('poor_famous', 'advertise', 'poor_famous'): 1.0,\n",
    "        ('poor_famous', 'advertise', 'rich_unknown'): 0,\n",
    "        ('poor_famous', 'advertise', 'rich_famous'): 0,\n",
    "\n",
    "        ('rich_unknown', 'save_money', 'poor_unknown'): 0.5,\n",
    "        ('rich_unknown', 'save_money', 'poor_famous'): 0,\n",
    "        ('rich_unknown', 'save_money', 'rich_unknown'): 0.5,\n",
    "        ('rich_unknown', 'save_money', 'rich_famous'): 0,\n",
    "        ('rich_unknown', 'advertise', 'poor_unknown'): 0.5,\n",
    "        ('rich_unknown', 'advertise', 'poor_famous'): 0.5,\n",
    "        ('rich_unknown', 'advertise', 'rich_unknown'): 0,\n",
    "        ('rich_unknown', 'advertise', 'rich_famous'): 0,\n",
    "\n",
    "        ('rich_famous', 'save_money', 'poor_unknown'): 0,\n",
    "        ('rich_famous', 'save_money', 'poor_famous'): 0,\n",
    "        ('rich_famous', 'save_money', 'rich_unknown'): 0.5,\n",
    "        ('rich_famous', 'save_money', 'rich_famous'): 0.5,\n",
    "        ('rich_famous', 'advertise', 'poor_unknown'): 0,\n",
    "        ('rich_famous', 'advertise', 'poor_famous'): 1.0,\n",
    "        ('rich_famous', 'advertise', 'rich_unknown'): 0,\n",
    "        ('rich_famous', 'advertise', 'rich_famous'): 0\n",
    "    }\n",
    "    return transition_dictionary[state, action, next_state]"
   ]
  }
 ],
 "metadata": {
  "colab": {
   "name": "MDP.ipynb",
   "provenance": []
  },
  "kernelspec": {
   "display_name": "Python 3 (ipykernel)",
   "language": "python",
   "name": "python3"
  },
  "language_info": {
   "codemirror_mode": {
    "name": "ipython",
    "version": 3
   },
   "file_extension": ".py",
   "mimetype": "text/x-python",
   "name": "python",
   "nbconvert_exporter": "python",
   "pygments_lexer": "ipython3",
   "version": "3.9.7"
  }
 },
 "nbformat": 4,
 "nbformat_minor": 4
}
