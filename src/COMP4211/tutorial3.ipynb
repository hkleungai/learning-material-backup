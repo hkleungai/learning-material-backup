{
 "cells": [
  {
   "cell_type": "markdown",
   "metadata": {},
   "source": [
    "# PyTorch basics, Adaline, MLP, and multi-class classification"
   ]
  },
  {
   "cell_type": "markdown",
   "metadata": {},
   "source": [
    "Hansi YANG, hyangbw@connect.ust.hk"
   ]
  },
  {
   "cell_type": "markdown",
   "metadata": {},
   "source": [
    "## Basic Operations in PyTorch\n",
    "\n",
    "What is PyTorch? \n",
    "\n",
    "Long answer: see the [homepage for PyTorch](https://pytorch.org/)\n",
    "\n",
    "Short answer: just treat it as a package to define arrays and compute gradients"
   ]
  },
  {
   "cell_type": "markdown",
   "metadata": {},
   "source": [
    "The first step to use PyTorch: import package"
   ]
  },
  {
   "cell_type": "code",
   "execution_count": 1,
   "metadata": {},
   "outputs": [],
   "source": [
    "import torch\n",
    "import torch.nn as nn"
   ]
  },
  {
   "cell_type": "markdown",
   "metadata": {},
   "source": [
    "Now we see some examples to define vector or matrix"
   ]
  },
  {
   "cell_type": "code",
   "execution_count": 2,
   "metadata": {},
   "outputs": [
    {
     "name": "stdout",
     "output_type": "stream",
     "text": [
      "Gaussian random vector: tensor([ 1.5410, -0.2934, -2.1788,  0.5684])\n",
      "Unifom random vector (in [0,1]): tensor([0.4556, 0.6323, 0.3489, 0.4017])\n",
      "All zero vector: tensor([0., 0., 0., 0.])\n",
      "All one vector: tensor([1., 1., 1., 1.])\n",
      "Uniform random integer vector from 0-7: tensor([4, 7, 6, 0])\n",
      "Gaussian random matrix: tensor([[-1.3527, -1.6959,  0.5667,  0.7935],\n",
      "        [ 0.5988, -1.5551, -0.3414,  1.8530],\n",
      "        [ 0.7502, -0.5855, -0.1734,  0.1835],\n",
      "        [ 1.3894,  1.5863,  0.9463, -0.8437]])\n"
     ]
    }
   ],
   "source": [
    "torch.manual_seed(0)\n",
    "vec_example_1 = torch.randn(4)\n",
    "vec_example_2 = torch.rand(4)\n",
    "vec_example_3 = torch.zeros(4)\n",
    "vec_example_4 = torch.ones(4)\n",
    "vec_example_5 = torch.randint(8, (4,))\n",
    "mat_example = torch.randn((4,4))\n",
    "print('Gaussian random vector:', vec_example_1)\n",
    "print('Unifom random vector (in [0,1]):', vec_example_2)\n",
    "print('All zero vector:', vec_example_3)\n",
    "print('All one vector:', vec_example_4)\n",
    "print('Uniform random integer vector from 0-7:', vec_example_5)\n",
    "print('Gaussian random matrix:', mat_example)"
   ]
  },
  {
   "cell_type": "markdown",
   "metadata": {},
   "source": [
    "These are almost identical to the operations in NumPy ~~(Ctrl-F numpy/np->torch)~~\n",
    "\n",
    "The term \"tensor\" refers to a combination for vectors (1 axis), matrices (2 axis) and data structures with more axes. \n",
    "\n",
    "By now, we only need to consider vectors or matrices in most cases, so just treat it as an alternative name"
   ]
  },
  {
   "cell_type": "markdown",
   "metadata": {},
   "source": [
    "## Adaline in PyTorch\n",
    "\n",
    "Now we see how we can implement Adaline in PyTorch\n",
    "\n",
    "The output of Adaline is given by $o(\\vec{w})=\\sum_{i=0}^n w_i x_i$, i.e. the dot product between the weight vector $\\vec{w}$ and the feature vector $\\vec{x}$\n",
    "\n",
    "Here is its implementation in PyTorch:"
   ]
  },
  {
   "cell_type": "code",
   "execution_count": 3,
   "metadata": {},
   "outputs": [
    {
     "name": "stdout",
     "output_type": "stream",
     "text": [
      "Weight: tensor([ 1.5410, -0.2934, -2.1788,  0.5684, -1.0845])\n",
      "Input: tensor([ 1.0000, -1.3986,  0.4033,  0.8380, -0.7193])\n",
      "Prediction: tensor(2.3290)\n"
     ]
    }
   ],
   "source": [
    "torch.manual_seed(0)\n",
    "feat_dim = 4\n",
    "w = torch.randn(feat_dim+1)\n",
    "x = torch.cat((torch.ones(1), torch.randn(feat_dim)), dim=0) # Concatenate a 1 element to, i.e. x=[1,x1,x2,x3,x4]\n",
    "pred = torch.dot(x,w)\n",
    "print('Weight:', w)\n",
    "print('Input:', x)\n",
    "print('Prediction:', pred)"
   ]
  },
  {
   "cell_type": "markdown",
   "metadata": {},
   "source": [
    "This example only contains one training sample. To use more training samples, consider using a matrix as follows:"
   ]
  },
  {
   "cell_type": "code",
   "execution_count": 4,
   "metadata": {},
   "outputs": [
    {
     "name": "stdout",
     "output_type": "stream",
     "text": [
      "torch.Size([8, 5])\n"
     ]
    }
   ],
   "source": [
    "feat_dim = 4\n",
    "num_train = 8\n",
    "X = torch.cat((torch.ones(num_train, 1), torch.randn(num_train, feat_dim)), dim=1) \n",
    "print(X.shape)"
   ]
  },
  {
   "cell_type": "markdown",
   "metadata": {},
   "source": [
    "Looks good: number of training samples $\\times$ number of features\n",
    "\n",
    "Now we see how to compute the prediction"
   ]
  },
  {
   "cell_type": "code",
   "execution_count": 5,
   "metadata": {},
   "outputs": [
    {
     "name": "stdout",
     "output_type": "stream",
     "text": [
      "tensor([ 2.5498,  2.2794, -0.8701, -0.3941,  1.0529,  3.2605, -2.7426,  0.3267]) torch.Size([8])\n"
     ]
    }
   ],
   "source": [
    "pred = torch.mv(X, w) # mv stands for \"matrix-vector product\"\n",
    "print(pred, pred.shape)"
   ]
  },
  {
   "cell_type": "markdown",
   "metadata": {},
   "source": [
    "Also looks good, we have exactly the same number of predictions\n",
    "\n",
    "Now we generate the target and see the difference between prediction and target"
   ]
  },
  {
   "cell_type": "code",
   "execution_count": 6,
   "metadata": {},
   "outputs": [
    {
     "name": "stdout",
     "output_type": "stream",
     "text": [
      "Prediction: tensor([ 2.5498,  2.2794, -0.8701, -0.3941,  1.0529,  3.2605, -2.7426,  0.3267])\n",
      "Target: tensor([ 1.5410, -0.2934, -2.1788,  0.5684, -1.0845, -1.3986,  0.4033,  0.8380])\n",
      "Difference: tensor([ 1.0088,  2.5728,  1.3087, -0.9626,  2.1374,  4.6591, -3.1460, -0.5113])\n"
     ]
    }
   ],
   "source": [
    "torch.manual_seed(0)\n",
    "target = torch.randn(num_train)\n",
    "print('Prediction:', pred)\n",
    "print('Target:', target)\n",
    "print('Difference:', pred-target)"
   ]
  },
  {
   "cell_type": "markdown",
   "metadata": {},
   "source": [
    "Does not look so good, so we need to optimize the weights now\n",
    "\n",
    "\n",
    "\n",
    "Recall that in lecture, the gradient for $\\vec{w}$ is given by:\n",
    "$$\\frac{\\partial E}{\\partial w_i} = \\sum_d (t_d - o_d) (-x_{i,d})$$\n",
    "where $d$ indexes training samples, $i$ indexes features\n",
    "\n",
    "When we have only one training samples, we simply have:\n",
    "$$\\frac{\\partial E}{\\partial w_i} = (t_d - o_d) (-x_{i,d})$$\n",
    "and here is how to compute it in PyTorch"
   ]
  },
  {
   "cell_type": "code",
   "execution_count": 7,
   "metadata": {},
   "outputs": [
    {
     "name": "stdout",
     "output_type": "stream",
     "text": [
      "Weight: tensor([ 1.5410, -0.2934, -2.1788,  0.5684, -1.0845])\n",
      "Gradient: tensor([ 2.7323, -3.8214,  1.1021,  2.2898, -1.9653])\n",
      "Weight shape: torch.Size([5])\n",
      "Gradient shape: torch.Size([5])\n"
     ]
    }
   ],
   "source": [
    "torch.manual_seed(0)\n",
    "feat_dim = 4\n",
    "w = torch.randn(feat_dim+1)\n",
    "x = torch.cat((torch.ones(1), torch.randn(feat_dim)), dim=0)\n",
    "pred = torch.dot(x,w)\n",
    "target = torch.randn(1)\n",
    "\n",
    "grad_w = (target-pred)*(-x)\n",
    "print('Weight:', w)\n",
    "print('Gradient:', grad_w)\n",
    "print('Weight shape:', w.shape)\n",
    "print('Gradient shape:', grad_w.shape)"
   ]
  },
  {
   "cell_type": "markdown",
   "metadata": {},
   "source": [
    "Now we can implement gradient descent as follows:"
   ]
  },
  {
   "cell_type": "code",
   "execution_count": 8,
   "metadata": {},
   "outputs": [
    {
     "name": "stdout",
     "output_type": "stream",
     "text": [
      "Prediction: tensor(2.3290)\n",
      "Target: tensor([-0.4033])\n",
      "Difference before training: tensor([2.7323])\n",
      "Prediction: tensor(-0.4033)\n",
      "Target: tensor([-0.4033])\n",
      "Difference after training: tensor([2.0862e-07])\n"
     ]
    }
   ],
   "source": [
    "pred = torch.dot(x,w)\n",
    "print('Prediction:', pred)\n",
    "print('Target:', target)\n",
    "print('Difference before training:', pred-target)\n",
    "num_iter = 1000\n",
    "alpha = 1e-2\n",
    "\n",
    "for _ in range(num_iter):\n",
    "    pred = torch.dot(x,w)\n",
    "    grad_w = (target-pred)*(-x)\n",
    "    w = w - alpha*grad_w\n",
    "    \n",
    "pred = torch.dot(x,w)\n",
    "print('Prediction:', pred)\n",
    "print('Target:', target)\n",
    "print('Difference after training:', pred-target)"
   ]
  },
  {
   "cell_type": "markdown",
   "metadata": {},
   "source": [
    "Looks good now: we almost completely eliminate the error\n",
    "\n",
    "Now we see how to compute the gradient on more training samples by matrix multiplication"
   ]
  },
  {
   "cell_type": "code",
   "execution_count": 9,
   "metadata": {},
   "outputs": [
    {
     "name": "stdout",
     "output_type": "stream",
     "text": [
      "Weight: tensor([ 1.5410, -0.2934, -2.1788,  0.5684, -1.0845])\n",
      "Gradient from direct implementation: tensor([ 14.9825,  -3.1721, -12.5810,  -2.1126,  -9.2198])\n",
      "Gradient from matrix multiplication: tensor([ 14.9825,  -3.1721, -12.5810,  -2.1126,  -9.2198])\n",
      "Weight shape: torch.Size([5])\n",
      "Gradient shape: torch.Size([5]) torch.Size([5])\n"
     ]
    }
   ],
   "source": [
    "torch.manual_seed(0)\n",
    "feat_dim = 4\n",
    "num_train = 8\n",
    "\n",
    "w = torch.randn(feat_dim+1)\n",
    "X = torch.cat((torch.ones(num_train, 1), torch.randn(num_train, feat_dim)), dim=1)\n",
    "pred = torch.mv(X, w)\n",
    "target = torch.randn(num_train)\n",
    "\n",
    "grad_w_1 = torch.zeros(5)\n",
    "for iii in range(num_train):\n",
    "    grad_w_1 = grad_w_1+(target[iii]-pred[iii])*(-X[iii])\n",
    "\n",
    "grad_w_2 = -torch.mv(X.t(), target-pred)\n",
    "\n",
    "print('Weight:', w)\n",
    "print('Gradient from direct implementation:', grad_w_1)\n",
    "print('Gradient from matrix multiplication:', grad_w_2)\n",
    "print('Weight shape:', w.shape)\n",
    "print('Gradient shape:', grad_w_1.shape, grad_w_2.shape)"
   ]
  },
  {
   "cell_type": "markdown",
   "metadata": {},
   "source": [
    "Then the code for gradient descent is similar to before"
   ]
  },
  {
   "cell_type": "code",
   "execution_count": 10,
   "metadata": {},
   "outputs": [
    {
     "name": "stdout",
     "output_type": "stream",
     "text": [
      "Prediction: tensor([-0.8752,  5.0945,  3.4886,  2.2990, -0.3735,  1.1027,  4.2928, -0.3772])\n",
      "Target: tensor([-1.3986,  0.9398,  0.7748,  0.1919,  1.2638, -1.2904, -0.7911, -0.0209])\n",
      "Difference before training: tensor([ 0.5234,  4.1547,  2.7138,  2.1071, -1.6372,  2.3932,  5.0839, -0.3563])\n",
      "Prediction: tensor([-0.8118,  0.5724,  0.9977,  0.1497,  0.1355, -0.6792, -0.6944, -0.1756])\n",
      "Target: tensor([-1.3986,  0.9398,  0.7748,  0.1919,  1.2638, -1.2904, -0.7911, -0.0209])\n",
      "Difference after training: tensor([ 0.5868, -0.3674,  0.2228, -0.0421, -1.1283,  0.6112,  0.0967, -0.1547])\n"
     ]
    }
   ],
   "source": [
    "pred = torch.mv(X, w)\n",
    "print('Prediction:', pred)\n",
    "print('Target:', target)\n",
    "print('Difference before training:', pred-target)\n",
    "num_iter = 1000\n",
    "alpha = 1e-3\n",
    "\n",
    "for _ in range(num_iter):\n",
    "    pred = torch.mv(X, w)\n",
    "    grad_w = -torch.mv(X.t(), target-pred)\n",
    "    w = w - alpha*grad_w\n",
    "    \n",
    "pred = torch.mv(X, w)\n",
    "print('Prediction:', pred)\n",
    "print('Target:', target)\n",
    "print('Difference after training:', pred-target)"
   ]
  },
  {
   "cell_type": "markdown",
   "metadata": {},
   "source": [
    "Not so good as before, as these data points cannot be fitted by single line\n",
    "\n",
    "But in general, we managed to reduce the errors"
   ]
  },
  {
   "cell_type": "markdown",
   "metadata": {},
   "source": [
    "## Perceptron in PyTorch\n",
    "\n",
    "Based on our previous implementation of Adaline, we can also easily implement Perceptron in PyTorch, as we only need to add a step function in the final"
   ]
  },
  {
   "cell_type": "code",
   "execution_count": 9,
   "metadata": {},
   "outputs": [
    {
     "name": "stdout",
     "output_type": "stream",
     "text": [
      "Prediction of Perceptron: tensor([False,  True,  True,  True, False,  True,  True, False])\n"
     ]
    }
   ],
   "source": [
    "torch.manual_seed(0)\n",
    "num_train = 8\n",
    "feat_dim = 4\n",
    "threshold = 0\n",
    "w = torch.randn(feat_dim+1)\n",
    "X = torch.cat((torch.ones(num_train, 1), torch.randn(num_train, feat_dim)), dim=1) \n",
    "pred = torch.mv(X, w)>threshold\n",
    "print('Prediction of Perceptron:', pred)"
   ]
  },
  {
   "cell_type": "markdown",
   "metadata": {},
   "source": [
    "## Optimization Trajectory of Gradient Descent\n",
    "\n",
    "Recall the figures in lecture that visualizes the dynamics of gradient descent\n",
    "\n",
    "Now we see how these figures are actually plotted"
   ]
  },
  {
   "cell_type": "code",
   "execution_count": 11,
   "metadata": {},
   "outputs": [],
   "source": [
    "import numpy as np\n",
    "import matplotlib.pyplot as plt\n",
    "from scipy.optimize import minimize, line_search\n",
    "\n",
    "torch.manual_seed(0)\n",
    "num_train = 8\n",
    "w_gt = torch.rand(2)\n",
    "X = torch.randn(num_train, 2)\n",
    "target = torch.mv(X, w_gt)\n",
    "\n",
    "def adaline_vectorized(w0, w1):\n",
    "    f = torch.zeros_like(w0)\n",
    "    for iii in range(num_train):\n",
    "        f = f + 1/2*(X[iii,0]*w0+X[iii,1]*w1-target[iii])*(X[iii,0]*w0+X[iii,1]*w1-target[iii])\n",
    "    return f\n",
    "\n",
    "def gradient_descent(X, target, stepsize):\n",
    "    torch.manual_seed(1)\n",
    "    x_i, y_i = torch.rand(2)*5\n",
    "    all_x_i = list()\n",
    "    all_y_i = list()\n",
    "\n",
    "    for i in range(1, 100):\n",
    "        all_x_i.append(x_i.item())\n",
    "        all_y_i.append(y_i.item())\n",
    "        pred = torch.sum(X[:,0]*x_i+X[:,1]*y_i)\n",
    "        dx_i = torch.sum(X[:,0]*(X[:,0]*x_i+X[:,1]*y_i-target))\n",
    "        dy_i = torch.sum(X[:,1]*(X[:,0]*x_i+X[:,1]*y_i-target))\n",
    "        x_i += - stepsize*dx_i\n",
    "        y_i += - stepsize*dy_i\n",
    "    ttl = 'step size {:0.3f}'.format(stepsize)\n",
    "        \n",
    "    nsteps = 20\n",
    "    plt.scatter(all_x_i[:nsteps], all_y_i[:nsteps])\n",
    "    plt.plot(all_x_i[:nsteps], all_y_i[:nsteps])\n",
    "    plt.title(ttl)\n",
    "    plt.tight_layout()\n",
    "    plt.show()"
   ]
  },
  {
   "cell_type": "code",
   "execution_count": 12,
   "metadata": {},
   "outputs": [
    {
     "data": {
      "image/png": "[encoded data removed]",
      "text/plain": [
       "<Figure size 432x288 with 1 Axes>"
      ]
     },
     "metadata": {
      "needs_background": "light"
     },
     "output_type": "display_data"
    },
    {
     "data": {
      "image/png": "[encoded data removed]",
      "text/plain": [
       "<Figure size 432x288 with 1 Axes>"
      ]
     },
     "metadata": {
      "needs_background": "light"
     },
     "output_type": "display_data"
    },
    {
     "data": {
      "image/png": "[encoded data removed]",
      "text/plain": [
       "<Figure size 432x288 with 1 Axes>"
      ]
     },
     "metadata": {
      "needs_background": "light"
     },
     "output_type": "display_data"
    }
   ],
   "source": [
    "w1 = np.arange(-7.5, 7.5, 0.1)\n",
    "w2 = np.arange(-7.5, 7.5, 0.1)\n",
    "w = np.meshgrid(w1, w2)\n",
    "z = adaline_vectorized(torch.as_tensor(w[0]), torch.as_tensor(w[1]))\n",
    "\n",
    "plt.figure()\n",
    "step_sizes = [1e-2, 1e-1, 1]\n",
    "for i, step in enumerate(step_sizes):\n",
    "    plt.contour(w1, w2, z)\n",
    "    plt.plot(w_gt[0], w_gt[1], 'go', markersize=10)\n",
    "    gradient_descent(X, target, step)"
   ]
  },
  {
   "cell_type": "markdown",
   "metadata": {},
   "source": [
    "## MLP"
   ]
  },
  {
   "cell_type": "markdown",
   "metadata": {},
   "source": [
    "### Another way to implement Adaline \n",
    "\n",
    "Before introducing MLP, we introduce the third way to implement Adaline by PyTorch's nn API"
   ]
  },
  {
   "cell_type": "code",
   "execution_count": 13,
   "metadata": {},
   "outputs": [
    {
     "name": "stdout",
     "output_type": "stream",
     "text": [
      "Parameter containing:\n",
      "tensor([[-0.0037,  0.2682, -0.4115, -0.3680]], requires_grad=True) Parameter containing:\n",
      "tensor([-0.1926], requires_grad=True)\n"
     ]
    }
   ],
   "source": [
    "torch.manual_seed(0)\n",
    "Adaline = nn.Sequential(nn.Linear(4, 1))\n",
    "print(Adaline[0].weight, Adaline[0].bias)"
   ]
  },
  {
   "cell_type": "markdown",
   "metadata": {},
   "source": [
    "Then we do not need to consider the additional bias term, as it is already included"
   ]
  },
  {
   "cell_type": "code",
   "execution_count": 14,
   "metadata": {},
   "outputs": [
    {
     "name": "stdout",
     "output_type": "stream",
     "text": [
      "Prediction from nn API: tensor([[ 0.7216],\n",
      "        [ 0.0541],\n",
      "        [ 0.5882],\n",
      "        [-0.3144],\n",
      "        [-1.2131],\n",
      "        [ 0.0245],\n",
      "        [ 0.0596],\n",
      "        [ 0.0909]], grad_fn=<AddmmBackward0>)\n",
      "Prediction from manual computation: tensor([ 0.7216,  0.0541,  0.5882, -0.3144, -1.2131,  0.0245,  0.0596,  0.0909],\n",
      "       grad_fn=<AddBackward0>)\n",
      "Prediction shape: torch.Size([8, 1]) torch.Size([8])\n"
     ]
    }
   ],
   "source": [
    "X = torch.randn(num_train, feat_dim)\n",
    "pred_1 = Adaline(X)\n",
    "pred_2 = torch.mv(X, Adaline[0].weight[0])+Adaline[0].bias[0]\n",
    "\n",
    "print('Prediction from nn API:', pred_1)\n",
    "print('Prediction from manual computation:', pred_2)\n",
    "print('Prediction shape:', pred_1.shape, pred_2.shape)"
   ]
  },
  {
   "cell_type": "markdown",
   "metadata": {},
   "source": [
    "Some of you may note the additional \"requires_grad\" and \"grad_fn\": what are they? \n",
    "\n",
    "You could guess from this abbreviation that they are both related to gradient (\"grad\"). \n",
    "It actually enables us to directly compute the objective gradient by PyTorch, instead of doing it all by ourselves like before. \n",
    "\n",
    "You will learn these (called \"auto-differentiation\") in later tutorials, so we may just skip it now. \n",
    "If you are interested and would like to learn in advance, the [PyTorch tutorial](https://pytorch.org/tutorials/) could be a good start"
   ]
  },
  {
   "cell_type": "markdown",
   "metadata": {},
   "source": [
    "### Implementing MLP\n",
    "Now we are ready to implement MLP. Recall that basically MLP is matrix multiplication plus nonlinear activation \n",
    "- Without the nonlinear activation, multiplying these weights together will give us exactly the same as a single layer (i.e. Adaline)\n",
    "\n",
    "PyTorch also provides us simple ways to add usual activation functions. For example, for ReLU activation ($\\text{ReLU}(x)=\\max(x,0)$), we only need an additional line:"
   ]
  },
  {
   "cell_type": "code",
   "execution_count": 15,
   "metadata": {},
   "outputs": [],
   "source": [
    "torch.manual_seed(0)\n",
    "MLP_relu = nn.Sequential(nn.Linear(4,16), \n",
    "                      nn.ReLU(), \n",
    "                      nn.Linear(16,1))"
   ]
  },
  {
   "cell_type": "code",
   "execution_count": 16,
   "metadata": {},
   "outputs": [
    {
     "name": "stdout",
     "output_type": "stream",
     "text": [
      "torch.Size([16, 4]) torch.Size([16]) torch.Size([1, 16]) torch.Size([1])\n"
     ]
    }
   ],
   "source": [
    "print(MLP_relu[0].weight.shape, MLP_relu[0].bias.shape, MLP_relu[2].weight.shape, MLP_relu[2].bias.shape)"
   ]
  },
  {
   "cell_type": "code",
   "execution_count": 17,
   "metadata": {},
   "outputs": [
    {
     "name": "stdout",
     "output_type": "stream",
     "text": [
      "tensor([[-0.3242],\n",
      "        [ 0.0026],\n",
      "        [-0.0416],\n",
      "        [ 0.1356],\n",
      "        [ 0.3286],\n",
      "        [-0.0198],\n",
      "        [-0.1279],\n",
      "        [-0.1684]], grad_fn=<AddmmBackward0>)\n"
     ]
    }
   ],
   "source": [
    "pred_relu = MLP_relu(X)\n",
    "print(pred_relu)"
   ]
  },
  {
   "cell_type": "markdown",
   "metadata": {},
   "source": [
    "PyTorch also has many other types of activation functions. \n",
    "\n",
    "Another example: sigmoid function $\\text{Sigmoid}(x)=\\frac{1}{1+\\exp(-x)}$"
   ]
  },
  {
   "cell_type": "code",
   "execution_count": 18,
   "metadata": {},
   "outputs": [],
   "source": [
    "MLP_sigmoid = nn.Sequential(nn.Linear(4,16), \n",
    "                      nn.Sigmoid(), \n",
    "                      nn.Linear(16,1))"
   ]
  },
  {
   "cell_type": "markdown",
   "metadata": {},
   "source": [
    "We can load the weights of MLP\\_relu to MLP\\_sigmoid. With different activation functions, their prediction is different even with the same weights"
   ]
  },
  {
   "cell_type": "code",
   "execution_count": 19,
   "metadata": {},
   "outputs": [
    {
     "name": "stdout",
     "output_type": "stream",
     "text": [
      "tensor([[-0.1349],\n",
      "        [ 0.0114],\n",
      "        [-0.0164],\n",
      "        [ 0.1028],\n",
      "        [ 0.1646],\n",
      "        [ 0.0606],\n",
      "        [-0.0102],\n",
      "        [ 0.0517]], grad_fn=<AddmmBackward0>)\n"
     ]
    }
   ],
   "source": [
    "MLP_sigmoid[0].weight = MLP_relu[0].weight\n",
    "MLP_sigmoid[0].bias = MLP_relu[0].bias\n",
    "MLP_sigmoid[2].weight = MLP_relu[2].weight\n",
    "MLP_sigmoid[2].bias = MLP_relu[2].bias\n",
    "pred_sigmoid = MLP_sigmoid(X)\n",
    "print(pred_sigmoid)"
   ]
  },
  {
   "cell_type": "markdown",
   "metadata": {},
   "source": [
    "We can also make the MLP arbitrary deep, as long as you make sure you have enough memory"
   ]
  },
  {
   "cell_type": "code",
   "execution_count": 20,
   "metadata": {},
   "outputs": [],
   "source": [
    "torch.manual_seed(0)\n",
    "MLP_deep = nn.Sequential(nn.Linear(4,128), \n",
    "                      nn.ReLU(), \n",
    "                      nn.Linear(128,32), \n",
    "                      nn.ReLU(), \n",
    "                      nn.Linear(32,32), \n",
    "                      nn.ReLU(), \n",
    "                      nn.Linear(32,8), \n",
    "                      nn.ReLU(), \n",
    "                      nn.Linear(8,8), \n",
    "                      nn.ReLU(), \n",
    "                      nn.Linear(8,1))"
   ]
  },
  {
   "cell_type": "code",
   "execution_count": 21,
   "metadata": {},
   "outputs": [
    {
     "name": "stdout",
     "output_type": "stream",
     "text": [
      "tensor([[-0.1108],\n",
      "        [-0.1080],\n",
      "        [-0.1069],\n",
      "        [-0.1137],\n",
      "        [-0.1179],\n",
      "        [-0.1077],\n",
      "        [-0.1149],\n",
      "        [-0.1153]], grad_fn=<AddmmBackward0>)\n"
     ]
    }
   ],
   "source": [
    "pred_deep = MLP_deep(X)\n",
    "print(pred_deep)"
   ]
  },
  {
   "cell_type": "markdown",
   "metadata": {},
   "source": [
    "Since you have not learned how to compute the gradient for MLP for now, we will not cover it in today's tutorial. (You will also learn it soon) \n",
    "\n",
    "But there are several things you can do if you feel interested:\n",
    "- Mathematically deduce the gradient expression for MLP"
   ]
  },
  {
   "cell_type": "markdown",
   "metadata": {},
   "source": [
    "## Beyond one-dimensional output: multi-class classification\n",
    "\n",
    "We have assumed the output is simply a number in previous cases. \n",
    "\n",
    "Question: can all problems be solved like this?\n",
    "\n",
    "Answer: No. \n",
    "\n",
    "Examples: multi-class classification problems\n",
    "- (Image classification) Given an image of written latin letter, predict which latin letter it is (A-Z, a-z)\n",
    "- (Recommendation) Given user information, predict which types of items he/she is most likely to purchase\n",
    "\n",
    "Many things become different for such problem:\n",
    "- Target \n",
    "- Prediction\n",
    "- Training objective"
   ]
  },
  {
   "cell_type": "markdown",
   "metadata": {},
   "source": [
    "### Target for multi-class classification\n",
    "Suppose there are C>1 different classes, a naive definition for target is a integer from 1 to C\n",
    "\n",
    "What are the problems?\n",
    "- Implicit assumption on their relative order $1, 2, \\dots, C$\n",
    "\n",
    "Instead, we have to use a special kind of vector called one-hot vector\n",
    "- \"One-hot\" means only one of its element is nonzero\n",
    "\n",
    "PyTorch provides us efficient way to transform integer into one-hot vectors"
   ]
  },
  {
   "cell_type": "code",
   "execution_count": 22,
   "metadata": {},
   "outputs": [
    {
     "name": "stdout",
     "output_type": "stream",
     "text": [
      "Integer example: tensor([0, 3, 1, 0, 3, 3, 3, 3])\n",
      "One-hot example: tensor([[1, 0, 0, 0],\n",
      "        [0, 0, 0, 1],\n",
      "        [0, 1, 0, 0],\n",
      "        [1, 0, 0, 0],\n",
      "        [0, 0, 0, 1],\n",
      "        [0, 0, 0, 1],\n",
      "        [0, 0, 0, 1],\n",
      "        [0, 0, 0, 1]])\n"
     ]
    }
   ],
   "source": [
    "import torch.nn.functional as F\n",
    "\n",
    "torch.manual_seed(0)\n",
    "\n",
    "integer_target = torch.randint(4, (num_train,))\n",
    "one_hot_target = F.one_hot(integer_target)\n",
    "print('Integer example:', integer_target)\n",
    "print('One-hot example:', one_hot_target)"
   ]
  },
  {
   "cell_type": "markdown",
   "metadata": {},
   "source": [
    "Note that PyTorch index from 0"
   ]
  },
  {
   "cell_type": "markdown",
   "metadata": {},
   "source": [
    "### Prediction for multi-class classification and Softmax operation\n",
    "\n",
    "By similar reasons, the output of our model should also be a C-dimension vector"
   ]
  },
  {
   "cell_type": "code",
   "execution_count": 23,
   "metadata": {},
   "outputs": [
    {
     "name": "stdout",
     "output_type": "stream",
     "text": [
      "torch.Size([8, 4]) tensor([-0.6736, -0.0916, -0.1709, -0.0207], grad_fn=<SelectBackward0>)\n"
     ]
    }
   ],
   "source": [
    "torch.manual_seed(0)\n",
    "clf = nn.Sequential(nn.Linear(4,16), \n",
    "                      nn.ReLU(), \n",
    "                      nn.Linear(16,4))\n",
    "\n",
    "pred = clf(X)\n",
    "print(pred.shape, pred[0])"
   ]
  },
  {
   "cell_type": "markdown",
   "metadata": {},
   "source": [
    "Intuitively, we can choose the class with largest element as the final prediction. \n",
    "\n",
    "But these causes some difficulties as we need to deal with discrete objects. \n",
    "\n",
    "So in practice, we consider transform the prediction to a vector whose elements sum to 1 (same as the one-hot vector), and treat each element of this vector as the *probability* for each class. \n",
    "\n",
    "That is done by __Softmax__\n",
    "\n",
    "Definition: given a vector $\\vec{u}=(u_1, \\dots, u_C)$, __Softmax__ operation will output a vector $\\vec{v}$ with the same number of elements and each element given by:\n",
    "$$v_i=\\frac{\\exp(u_i)}{\\sum_{j=1}^C \\exp(u_j)}, i=1, \\dots, C$$\n",
    "We can easily verify that: \n",
    "- All elements of $\\vec{v}$ is non-negative\n",
    "- The sum of these elements is exactly 1, as we have\n",
    "$$\\sum_{i=1}^C v_i = \\frac{\\sum_{i=1}^C \\exp(u_i)}{\\sum_{j=1}^C \\exp(u_j)} = 1$$\n",
    "- From the above two properties, we can further deduce that all elements of $\\vec{v}$ are between 0 and 1\n",
    "\n",
    "And PyTorch provides us simple way to calculate $\\vec{v}$ from $\\vec{u}$"
   ]
  },
  {
   "cell_type": "code",
   "execution_count": 24,
   "metadata": {},
   "outputs": [
    {
     "name": "stdout",
     "output_type": "stream",
     "text": [
      "tensor([0.1571, 0.2812, 0.2598, 0.3019], grad_fn=<SoftmaxBackward0>) tensor(1., grad_fn=<SumBackward1>)\n"
     ]
    }
   ],
   "source": [
    "softmax_pred_0 = F.softmax(pred[0], dim=0)\n",
    "print(softmax_pred_0, torch.sum(softmax_pred_0, dim=0))"
   ]
  },
  {
   "cell_type": "markdown",
   "metadata": {},
   "source": [
    "We may also want to compute the result for all training data. In such case, we need to specify the dim parameter"
   ]
  },
  {
   "cell_type": "code",
   "execution_count": 25,
   "metadata": {},
   "outputs": [
    {
     "name": "stdout",
     "output_type": "stream",
     "text": [
      "torch.Size([8, 4]) tensor([1.0000, 1.0000, 1.0000, 1.0000, 1.0000, 1.0000, 1.0000, 1.0000],\n",
      "       grad_fn=<SumBackward1>)\n"
     ]
    }
   ],
   "source": [
    "softmax_pred = F.softmax(pred, dim=1)\n",
    "print(softmax_pred.shape, torch.sum(softmax_pred, dim=1))"
   ]
  },
  {
   "cell_type": "markdown",
   "metadata": {},
   "source": [
    "### Objective: cross entropy loss\n",
    "\n",
    "To optimize the model, we need to define a objective between the prediction and target\n",
    "\n",
    "A simple is to use square loss. Nevertheless, this approach does not consider the meaning of model outputs. \n",
    "\n",
    "Instead, for classification task, we often use another loss called cross-entropy (CE) loss. \n",
    "\n",
    "Suppose the target is a one-hot vector $\\vec{t}$ with $t_k=1$, and the model prediction is denoted as $\\vec{v}$ as above, then the cross-entropy loss is defined as:\n",
    "$$L_{\\text{CE}}(\\vec{v}, \\vec{t}) = -\\sum_{j=1}^C t_j \\log(v_j) = -\\log(v_k)$$\n",
    "Since all elements of $\\vec{v}$ are between 0 and 1, we must always have $\\log(v_j)<0$, therefore the objective is always non-negative. \n",
    "\n",
    "And we have $L_{\\text{CE}}(\\vec{v}, \\vec{t}) = 0$ if and only if $v_k=1$ (and $\\vec{v}=\\vec{t}$)\n",
    "\n",
    "To calculate the cross-entropy loss, PyTorch also provides us a function"
   ]
  },
  {
   "cell_type": "code",
   "execution_count": 26,
   "metadata": {},
   "outputs": [],
   "source": [
    "L_CE_1 = F.cross_entropy(pred, integer_target, reduction='none') "
   ]
  },
  {
   "cell_type": "markdown",
   "metadata": {},
   "source": [
    "Note that PyTorch computes the cross entropy directly from the raw output and integer target. \n",
    "\n",
    "We can also try computing the objective in our own "
   ]
  },
  {
   "cell_type": "code",
   "execution_count": 27,
   "metadata": {},
   "outputs": [
    {
     "name": "stdout",
     "output_type": "stream",
     "text": [
      "Cross entropy loss computed by PyTorch: tensor([1.8506, 1.4662, 1.0446, 1.5831, 0.8677, 1.4915, 1.6922, 1.7017],\n",
      "       grad_fn=<NllLossBackward0>)\n",
      "Croos entropy loss computed by ourselves: tensor([1.8506, 1.4662, 1.0446, 1.5831, 0.8677, 1.4915, 1.6922, 1.7017],\n",
      "       grad_fn=<NegBackward0>)\n"
     ]
    }
   ],
   "source": [
    "L_CE_2 = -torch.sum(torch.log(softmax_pred)*one_hot_target, dim=1)\n",
    "\n",
    "print('Cross entropy loss computed by PyTorch:', L_CE_1)\n",
    "print('Croos entropy loss computed by ourselves:', L_CE_2) "
   ]
  },
  {
   "cell_type": "markdown",
   "metadata": {},
   "source": [
    "We see that they are exactly the same"
   ]
  },
  {
   "cell_type": "markdown",
   "metadata": {},
   "source": [
    "# Final remarks"
   ]
  },
  {
   "cell_type": "markdown",
   "metadata": {},
   "source": [
    "Today's introduction on PyTorch is \"mimimal\", i.e. only introduce necessary stuffs for today's tutorial\n",
    "\n",
    "For a more detailed introduction, you can refer to the [PyTorch tutorial](https://pytorch.org/tutorials/) on its website. "
   ]
  }
 ],
 "metadata": {
  "kernelspec": {
   "display_name": "Python 3 (ipykernel)",
   "language": "python",
   "name": "python3"
  },
  "language_info": {
   "codemirror_mode": {
    "name": "ipython",
    "version": 3
   },
   "file_extension": ".py",
   "mimetype": "text/x-python",
   "name": "python",
   "nbconvert_exporter": "python",
   "pygments_lexer": "ipython3",
   "version": "3.8.12"
  }
 },
 "nbformat": 4,
 "nbformat_minor": 4
}
